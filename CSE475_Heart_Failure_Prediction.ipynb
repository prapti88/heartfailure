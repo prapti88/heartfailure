{
  "nbformat": 4,
  "nbformat_minor": 0,
  "metadata": {
    "colab": {
      "name": "CSE475_Heart Failure Prediction.ipynb",
      "provenance": [],
      "collapsed_sections": []
    },
    "kernelspec": {
      "name": "python3",
      "display_name": "Python 3"
    },
    "language_info": {
      "name": "python"
    }
  },
  "cells": [
    {
      "cell_type": "markdown",
      "source": [
        "IMPORTING MODULES"
      ],
      "metadata": {
        "id": "vxRJ0nKipDAT"
      }
    },
    {
      "cell_type": "code",
      "execution_count": 436,
      "metadata": {
        "id": "sVpxGO0KFAw4"
      },
      "outputs": [],
      "source": [
        "import pandas as pd\n",
        "import numpy as np"
      ]
    },
    {
      "cell_type": "markdown",
      "source": [
        "LOADING THE DATASET"
      ],
      "metadata": {
        "id": "fwPwK3NKpH24"
      }
    },
    {
      "cell_type": "code",
      "source": [
        "df=pd.read_csv(\"heart_Testing.csv\")\n",
        "df"
      ],
      "metadata": {
        "id": "Mq2UnHcIFaSC",
        "colab": {
          "base_uri": "https://localhost:8080/",
          "height": 424
        },
        "outputId": "378beb4a-7914-4ff6-8c2d-b806d5db2df1"
      },
      "execution_count": 437,
      "outputs": [
        {
          "output_type": "execute_result",
          "data": {
            "text/plain": [
              "     age  sex  cp  trestbps  chol  fbs  restecg  thalach  exang  oldpeak  \\\n",
              "0     63    1   3       145   233    1        0      150      0      2.3   \n",
              "1     37    1   2       130   250    0        1      187      0      3.5   \n",
              "2     41    0   1       130   204    0        0      172      0      1.4   \n",
              "3     56    1   1       120   236    0        1      178      0      0.8   \n",
              "4     57    0   0       120   354    0        1      163      1      0.6   \n",
              "..   ...  ...  ..       ...   ...  ...      ...      ...    ...      ...   \n",
              "298   57    0   0       140   241    0        1      123      1      0.2   \n",
              "299   45    1   3       110   264    0        1      132      0      1.2   \n",
              "300   68    1   0       144   193    1        1      141      0      3.4   \n",
              "301   57    1   0       130   131    0        1      115      1      1.2   \n",
              "302   57    0   1       130   236    0        0      174      0      0.0   \n",
              "\n",
              "     slope  ca  thal target  \n",
              "0        0   0     1    yes  \n",
              "1        0   0     2    yes  \n",
              "2        2   0     2    yes  \n",
              "3        2   0     2    yes  \n",
              "4        2   0     2    yes  \n",
              "..     ...  ..   ...    ...  \n",
              "298      1   0     3     No  \n",
              "299      1   0     3     No  \n",
              "300      1   2     3     No  \n",
              "301      1   1     3     No  \n",
              "302      1   1     2     No  \n",
              "\n",
              "[303 rows x 14 columns]"
            ],
            "text/html": [
              "\n",
              "  <div id=\"df-cda57d01-b49c-4c86-b612-ca0b8435db1f\">\n",
              "    <div class=\"colab-df-container\">\n",
              "      <div>\n",
              "<style scoped>\n",
              "    .dataframe tbody tr th:only-of-type {\n",
              "        vertical-align: middle;\n",
              "    }\n",
              "\n",
              "    .dataframe tbody tr th {\n",
              "        vertical-align: top;\n",
              "    }\n",
              "\n",
              "    .dataframe thead th {\n",
              "        text-align: right;\n",
              "    }\n",
              "</style>\n",
              "<table border=\"1\" class=\"dataframe\">\n",
              "  <thead>\n",
              "    <tr style=\"text-align: right;\">\n",
              "      <th></th>\n",
              "      <th>age</th>\n",
              "      <th>sex</th>\n",
              "      <th>cp</th>\n",
              "      <th>trestbps</th>\n",
              "      <th>chol</th>\n",
              "      <th>fbs</th>\n",
              "      <th>restecg</th>\n",
              "      <th>thalach</th>\n",
              "      <th>exang</th>\n",
              "      <th>oldpeak</th>\n",
              "      <th>slope</th>\n",
              "      <th>ca</th>\n",
              "      <th>thal</th>\n",
              "      <th>target</th>\n",
              "    </tr>\n",
              "  </thead>\n",
              "  <tbody>\n",
              "    <tr>\n",
              "      <th>0</th>\n",
              "      <td>63</td>\n",
              "      <td>1</td>\n",
              "      <td>3</td>\n",
              "      <td>145</td>\n",
              "      <td>233</td>\n",
              "      <td>1</td>\n",
              "      <td>0</td>\n",
              "      <td>150</td>\n",
              "      <td>0</td>\n",
              "      <td>2.3</td>\n",
              "      <td>0</td>\n",
              "      <td>0</td>\n",
              "      <td>1</td>\n",
              "      <td>yes</td>\n",
              "    </tr>\n",
              "    <tr>\n",
              "      <th>1</th>\n",
              "      <td>37</td>\n",
              "      <td>1</td>\n",
              "      <td>2</td>\n",
              "      <td>130</td>\n",
              "      <td>250</td>\n",
              "      <td>0</td>\n",
              "      <td>1</td>\n",
              "      <td>187</td>\n",
              "      <td>0</td>\n",
              "      <td>3.5</td>\n",
              "      <td>0</td>\n",
              "      <td>0</td>\n",
              "      <td>2</td>\n",
              "      <td>yes</td>\n",
              "    </tr>\n",
              "    <tr>\n",
              "      <th>2</th>\n",
              "      <td>41</td>\n",
              "      <td>0</td>\n",
              "      <td>1</td>\n",
              "      <td>130</td>\n",
              "      <td>204</td>\n",
              "      <td>0</td>\n",
              "      <td>0</td>\n",
              "      <td>172</td>\n",
              "      <td>0</td>\n",
              "      <td>1.4</td>\n",
              "      <td>2</td>\n",
              "      <td>0</td>\n",
              "      <td>2</td>\n",
              "      <td>yes</td>\n",
              "    </tr>\n",
              "    <tr>\n",
              "      <th>3</th>\n",
              "      <td>56</td>\n",
              "      <td>1</td>\n",
              "      <td>1</td>\n",
              "      <td>120</td>\n",
              "      <td>236</td>\n",
              "      <td>0</td>\n",
              "      <td>1</td>\n",
              "      <td>178</td>\n",
              "      <td>0</td>\n",
              "      <td>0.8</td>\n",
              "      <td>2</td>\n",
              "      <td>0</td>\n",
              "      <td>2</td>\n",
              "      <td>yes</td>\n",
              "    </tr>\n",
              "    <tr>\n",
              "      <th>4</th>\n",
              "      <td>57</td>\n",
              "      <td>0</td>\n",
              "      <td>0</td>\n",
              "      <td>120</td>\n",
              "      <td>354</td>\n",
              "      <td>0</td>\n",
              "      <td>1</td>\n",
              "      <td>163</td>\n",
              "      <td>1</td>\n",
              "      <td>0.6</td>\n",
              "      <td>2</td>\n",
              "      <td>0</td>\n",
              "      <td>2</td>\n",
              "      <td>yes</td>\n",
              "    </tr>\n",
              "    <tr>\n",
              "      <th>...</th>\n",
              "      <td>...</td>\n",
              "      <td>...</td>\n",
              "      <td>...</td>\n",
              "      <td>...</td>\n",
              "      <td>...</td>\n",
              "      <td>...</td>\n",
              "      <td>...</td>\n",
              "      <td>...</td>\n",
              "      <td>...</td>\n",
              "      <td>...</td>\n",
              "      <td>...</td>\n",
              "      <td>...</td>\n",
              "      <td>...</td>\n",
              "      <td>...</td>\n",
              "    </tr>\n",
              "    <tr>\n",
              "      <th>298</th>\n",
              "      <td>57</td>\n",
              "      <td>0</td>\n",
              "      <td>0</td>\n",
              "      <td>140</td>\n",
              "      <td>241</td>\n",
              "      <td>0</td>\n",
              "      <td>1</td>\n",
              "      <td>123</td>\n",
              "      <td>1</td>\n",
              "      <td>0.2</td>\n",
              "      <td>1</td>\n",
              "      <td>0</td>\n",
              "      <td>3</td>\n",
              "      <td>No</td>\n",
              "    </tr>\n",
              "    <tr>\n",
              "      <th>299</th>\n",
              "      <td>45</td>\n",
              "      <td>1</td>\n",
              "      <td>3</td>\n",
              "      <td>110</td>\n",
              "      <td>264</td>\n",
              "      <td>0</td>\n",
              "      <td>1</td>\n",
              "      <td>132</td>\n",
              "      <td>0</td>\n",
              "      <td>1.2</td>\n",
              "      <td>1</td>\n",
              "      <td>0</td>\n",
              "      <td>3</td>\n",
              "      <td>No</td>\n",
              "    </tr>\n",
              "    <tr>\n",
              "      <th>300</th>\n",
              "      <td>68</td>\n",
              "      <td>1</td>\n",
              "      <td>0</td>\n",
              "      <td>144</td>\n",
              "      <td>193</td>\n",
              "      <td>1</td>\n",
              "      <td>1</td>\n",
              "      <td>141</td>\n",
              "      <td>0</td>\n",
              "      <td>3.4</td>\n",
              "      <td>1</td>\n",
              "      <td>2</td>\n",
              "      <td>3</td>\n",
              "      <td>No</td>\n",
              "    </tr>\n",
              "    <tr>\n",
              "      <th>301</th>\n",
              "      <td>57</td>\n",
              "      <td>1</td>\n",
              "      <td>0</td>\n",
              "      <td>130</td>\n",
              "      <td>131</td>\n",
              "      <td>0</td>\n",
              "      <td>1</td>\n",
              "      <td>115</td>\n",
              "      <td>1</td>\n",
              "      <td>1.2</td>\n",
              "      <td>1</td>\n",
              "      <td>1</td>\n",
              "      <td>3</td>\n",
              "      <td>No</td>\n",
              "    </tr>\n",
              "    <tr>\n",
              "      <th>302</th>\n",
              "      <td>57</td>\n",
              "      <td>0</td>\n",
              "      <td>1</td>\n",
              "      <td>130</td>\n",
              "      <td>236</td>\n",
              "      <td>0</td>\n",
              "      <td>0</td>\n",
              "      <td>174</td>\n",
              "      <td>0</td>\n",
              "      <td>0.0</td>\n",
              "      <td>1</td>\n",
              "      <td>1</td>\n",
              "      <td>2</td>\n",
              "      <td>No</td>\n",
              "    </tr>\n",
              "  </tbody>\n",
              "</table>\n",
              "<p>303 rows × 14 columns</p>\n",
              "</div>\n",
              "      <button class=\"colab-df-convert\" onclick=\"convertToInteractive('df-cda57d01-b49c-4c86-b612-ca0b8435db1f')\"\n",
              "              title=\"Convert this dataframe to an interactive table.\"\n",
              "              style=\"display:none;\">\n",
              "        \n",
              "  <svg xmlns=\"http://www.w3.org/2000/svg\" height=\"24px\"viewBox=\"0 0 24 24\"\n",
              "       width=\"24px\">\n",
              "    <path d=\"M0 0h24v24H0V0z\" fill=\"none\"/>\n",
              "    <path d=\"M18.56 5.44l.94 2.06.94-2.06 2.06-.94-2.06-.94-.94-2.06-.94 2.06-2.06.94zm-11 1L8.5 8.5l.94-2.06 2.06-.94-2.06-.94L8.5 2.5l-.94 2.06-2.06.94zm10 10l.94 2.06.94-2.06 2.06-.94-2.06-.94-.94-2.06-.94 2.06-2.06.94z\"/><path d=\"M17.41 7.96l-1.37-1.37c-.4-.4-.92-.59-1.43-.59-.52 0-1.04.2-1.43.59L10.3 9.45l-7.72 7.72c-.78.78-.78 2.05 0 2.83L4 21.41c.39.39.9.59 1.41.59.51 0 1.02-.2 1.41-.59l7.78-7.78 2.81-2.81c.8-.78.8-2.07 0-2.86zM5.41 20L4 18.59l7.72-7.72 1.47 1.35L5.41 20z\"/>\n",
              "  </svg>\n",
              "      </button>\n",
              "      \n",
              "  <style>\n",
              "    .colab-df-container {\n",
              "      display:flex;\n",
              "      flex-wrap:wrap;\n",
              "      gap: 12px;\n",
              "    }\n",
              "\n",
              "    .colab-df-convert {\n",
              "      background-color: #E8F0FE;\n",
              "      border: none;\n",
              "      border-radius: 50%;\n",
              "      cursor: pointer;\n",
              "      display: none;\n",
              "      fill: #1967D2;\n",
              "      height: 32px;\n",
              "      padding: 0 0 0 0;\n",
              "      width: 32px;\n",
              "    }\n",
              "\n",
              "    .colab-df-convert:hover {\n",
              "      background-color: #E2EBFA;\n",
              "      box-shadow: 0px 1px 2px rgba(60, 64, 67, 0.3), 0px 1px 3px 1px rgba(60, 64, 67, 0.15);\n",
              "      fill: #174EA6;\n",
              "    }\n",
              "\n",
              "    [theme=dark] .colab-df-convert {\n",
              "      background-color: #3B4455;\n",
              "      fill: #D2E3FC;\n",
              "    }\n",
              "\n",
              "    [theme=dark] .colab-df-convert:hover {\n",
              "      background-color: #434B5C;\n",
              "      box-shadow: 0px 1px 3px 1px rgba(0, 0, 0, 0.15);\n",
              "      filter: drop-shadow(0px 1px 2px rgba(0, 0, 0, 0.3));\n",
              "      fill: #FFFFFF;\n",
              "    }\n",
              "  </style>\n",
              "\n",
              "      <script>\n",
              "        const buttonEl =\n",
              "          document.querySelector('#df-cda57d01-b49c-4c86-b612-ca0b8435db1f button.colab-df-convert');\n",
              "        buttonEl.style.display =\n",
              "          google.colab.kernel.accessAllowed ? 'block' : 'none';\n",
              "\n",
              "        async function convertToInteractive(key) {\n",
              "          const element = document.querySelector('#df-cda57d01-b49c-4c86-b612-ca0b8435db1f');\n",
              "          const dataTable =\n",
              "            await google.colab.kernel.invokeFunction('convertToInteractive',\n",
              "                                                     [key], {});\n",
              "          if (!dataTable) return;\n",
              "\n",
              "          const docLinkHtml = 'Like what you see? Visit the ' +\n",
              "            '<a target=\"_blank\" href=https://colab.research.google.com/notebooks/data_table.ipynb>data table notebook</a>'\n",
              "            + ' to learn more about interactive tables.';\n",
              "          element.innerHTML = '';\n",
              "          dataTable['output_type'] = 'display_data';\n",
              "          await google.colab.output.renderOutput(dataTable, element);\n",
              "          const docLink = document.createElement('div');\n",
              "          docLink.innerHTML = docLinkHtml;\n",
              "          element.appendChild(docLink);\n",
              "        }\n",
              "      </script>\n",
              "    </div>\n",
              "  </div>\n",
              "  "
            ]
          },
          "metadata": {},
          "execution_count": 437
        }
      ]
    },
    {
      "cell_type": "code",
      "source": [
        "df.columns"
      ],
      "metadata": {
        "colab": {
          "base_uri": "https://localhost:8080/"
        },
        "id": "-6JL4tO4Fk-8",
        "outputId": "8f25a99b-a7a5-4ad2-c2cb-841fef7f56c2"
      },
      "execution_count": 438,
      "outputs": [
        {
          "output_type": "execute_result",
          "data": {
            "text/plain": [
              "Index(['age', 'sex', 'cp', 'trestbps', 'chol', 'fbs', 'restecg', 'thalach',\n",
              "       'exang', 'oldpeak', 'slope', 'ca', 'thal', 'target'],\n",
              "      dtype='object')"
            ]
          },
          "metadata": {},
          "execution_count": 438
        }
      ]
    },
    {
      "cell_type": "code",
      "source": [
        "df.shape"
      ],
      "metadata": {
        "colab": {
          "base_uri": "https://localhost:8080/"
        },
        "id": "yWQb0hd7FnS2",
        "outputId": "91d3e1ad-d049-4f69-f4e2-1732501fecee"
      },
      "execution_count": 439,
      "outputs": [
        {
          "output_type": "execute_result",
          "data": {
            "text/plain": [
              "(303, 14)"
            ]
          },
          "metadata": {},
          "execution_count": 439
        }
      ]
    },
    {
      "cell_type": "code",
      "source": [
        "df.describe()"
      ],
      "metadata": {
        "colab": {
          "base_uri": "https://localhost:8080/",
          "height": 364
        },
        "id": "tsJGUdxOFpqL",
        "outputId": "770a9b92-2e15-4046-89c8-8ec01c0dfbe2"
      },
      "execution_count": 440,
      "outputs": [
        {
          "output_type": "execute_result",
          "data": {
            "text/plain": [
              "              age         sex          cp    trestbps        chol         fbs  \\\n",
              "count  303.000000  303.000000  303.000000  303.000000  303.000000  303.000000   \n",
              "mean    54.366337    0.683168    0.966997  131.623762  246.264026    0.148515   \n",
              "std      9.082101    0.466011    1.032052   17.538143   51.830751    0.356198   \n",
              "min     29.000000    0.000000    0.000000   94.000000  126.000000    0.000000   \n",
              "25%     47.500000    0.000000    0.000000  120.000000  211.000000    0.000000   \n",
              "50%     55.000000    1.000000    1.000000  130.000000  240.000000    0.000000   \n",
              "75%     61.000000    1.000000    2.000000  140.000000  274.500000    0.000000   \n",
              "max     77.000000    1.000000    3.000000  200.000000  564.000000    1.000000   \n",
              "\n",
              "          restecg     thalach       exang     oldpeak       slope          ca  \\\n",
              "count  303.000000  303.000000  303.000000  303.000000  303.000000  303.000000   \n",
              "mean     0.528053  149.646865    0.326733    1.039604    1.399340    0.729373   \n",
              "std      0.525860   22.905161    0.469794    1.161075    0.616226    1.022606   \n",
              "min      0.000000   71.000000    0.000000    0.000000    0.000000    0.000000   \n",
              "25%      0.000000  133.500000    0.000000    0.000000    1.000000    0.000000   \n",
              "50%      1.000000  153.000000    0.000000    0.800000    1.000000    0.000000   \n",
              "75%      1.000000  166.000000    1.000000    1.600000    2.000000    1.000000   \n",
              "max      2.000000  202.000000    1.000000    6.200000    2.000000    4.000000   \n",
              "\n",
              "             thal  \n",
              "count  303.000000  \n",
              "mean     2.313531  \n",
              "std      0.612277  \n",
              "min      0.000000  \n",
              "25%      2.000000  \n",
              "50%      2.000000  \n",
              "75%      3.000000  \n",
              "max      3.000000  "
            ],
            "text/html": [
              "\n",
              "  <div id=\"df-2d76ebbf-78db-43e7-b980-e13362fef12b\">\n",
              "    <div class=\"colab-df-container\">\n",
              "      <div>\n",
              "<style scoped>\n",
              "    .dataframe tbody tr th:only-of-type {\n",
              "        vertical-align: middle;\n",
              "    }\n",
              "\n",
              "    .dataframe tbody tr th {\n",
              "        vertical-align: top;\n",
              "    }\n",
              "\n",
              "    .dataframe thead th {\n",
              "        text-align: right;\n",
              "    }\n",
              "</style>\n",
              "<table border=\"1\" class=\"dataframe\">\n",
              "  <thead>\n",
              "    <tr style=\"text-align: right;\">\n",
              "      <th></th>\n",
              "      <th>age</th>\n",
              "      <th>sex</th>\n",
              "      <th>cp</th>\n",
              "      <th>trestbps</th>\n",
              "      <th>chol</th>\n",
              "      <th>fbs</th>\n",
              "      <th>restecg</th>\n",
              "      <th>thalach</th>\n",
              "      <th>exang</th>\n",
              "      <th>oldpeak</th>\n",
              "      <th>slope</th>\n",
              "      <th>ca</th>\n",
              "      <th>thal</th>\n",
              "    </tr>\n",
              "  </thead>\n",
              "  <tbody>\n",
              "    <tr>\n",
              "      <th>count</th>\n",
              "      <td>303.000000</td>\n",
              "      <td>303.000000</td>\n",
              "      <td>303.000000</td>\n",
              "      <td>303.000000</td>\n",
              "      <td>303.000000</td>\n",
              "      <td>303.000000</td>\n",
              "      <td>303.000000</td>\n",
              "      <td>303.000000</td>\n",
              "      <td>303.000000</td>\n",
              "      <td>303.000000</td>\n",
              "      <td>303.000000</td>\n",
              "      <td>303.000000</td>\n",
              "      <td>303.000000</td>\n",
              "    </tr>\n",
              "    <tr>\n",
              "      <th>mean</th>\n",
              "      <td>54.366337</td>\n",
              "      <td>0.683168</td>\n",
              "      <td>0.966997</td>\n",
              "      <td>131.623762</td>\n",
              "      <td>246.264026</td>\n",
              "      <td>0.148515</td>\n",
              "      <td>0.528053</td>\n",
              "      <td>149.646865</td>\n",
              "      <td>0.326733</td>\n",
              "      <td>1.039604</td>\n",
              "      <td>1.399340</td>\n",
              "      <td>0.729373</td>\n",
              "      <td>2.313531</td>\n",
              "    </tr>\n",
              "    <tr>\n",
              "      <th>std</th>\n",
              "      <td>9.082101</td>\n",
              "      <td>0.466011</td>\n",
              "      <td>1.032052</td>\n",
              "      <td>17.538143</td>\n",
              "      <td>51.830751</td>\n",
              "      <td>0.356198</td>\n",
              "      <td>0.525860</td>\n",
              "      <td>22.905161</td>\n",
              "      <td>0.469794</td>\n",
              "      <td>1.161075</td>\n",
              "      <td>0.616226</td>\n",
              "      <td>1.022606</td>\n",
              "      <td>0.612277</td>\n",
              "    </tr>\n",
              "    <tr>\n",
              "      <th>min</th>\n",
              "      <td>29.000000</td>\n",
              "      <td>0.000000</td>\n",
              "      <td>0.000000</td>\n",
              "      <td>94.000000</td>\n",
              "      <td>126.000000</td>\n",
              "      <td>0.000000</td>\n",
              "      <td>0.000000</td>\n",
              "      <td>71.000000</td>\n",
              "      <td>0.000000</td>\n",
              "      <td>0.000000</td>\n",
              "      <td>0.000000</td>\n",
              "      <td>0.000000</td>\n",
              "      <td>0.000000</td>\n",
              "    </tr>\n",
              "    <tr>\n",
              "      <th>25%</th>\n",
              "      <td>47.500000</td>\n",
              "      <td>0.000000</td>\n",
              "      <td>0.000000</td>\n",
              "      <td>120.000000</td>\n",
              "      <td>211.000000</td>\n",
              "      <td>0.000000</td>\n",
              "      <td>0.000000</td>\n",
              "      <td>133.500000</td>\n",
              "      <td>0.000000</td>\n",
              "      <td>0.000000</td>\n",
              "      <td>1.000000</td>\n",
              "      <td>0.000000</td>\n",
              "      <td>2.000000</td>\n",
              "    </tr>\n",
              "    <tr>\n",
              "      <th>50%</th>\n",
              "      <td>55.000000</td>\n",
              "      <td>1.000000</td>\n",
              "      <td>1.000000</td>\n",
              "      <td>130.000000</td>\n",
              "      <td>240.000000</td>\n",
              "      <td>0.000000</td>\n",
              "      <td>1.000000</td>\n",
              "      <td>153.000000</td>\n",
              "      <td>0.000000</td>\n",
              "      <td>0.800000</td>\n",
              "      <td>1.000000</td>\n",
              "      <td>0.000000</td>\n",
              "      <td>2.000000</td>\n",
              "    </tr>\n",
              "    <tr>\n",
              "      <th>75%</th>\n",
              "      <td>61.000000</td>\n",
              "      <td>1.000000</td>\n",
              "      <td>2.000000</td>\n",
              "      <td>140.000000</td>\n",
              "      <td>274.500000</td>\n",
              "      <td>0.000000</td>\n",
              "      <td>1.000000</td>\n",
              "      <td>166.000000</td>\n",
              "      <td>1.000000</td>\n",
              "      <td>1.600000</td>\n",
              "      <td>2.000000</td>\n",
              "      <td>1.000000</td>\n",
              "      <td>3.000000</td>\n",
              "    </tr>\n",
              "    <tr>\n",
              "      <th>max</th>\n",
              "      <td>77.000000</td>\n",
              "      <td>1.000000</td>\n",
              "      <td>3.000000</td>\n",
              "      <td>200.000000</td>\n",
              "      <td>564.000000</td>\n",
              "      <td>1.000000</td>\n",
              "      <td>2.000000</td>\n",
              "      <td>202.000000</td>\n",
              "      <td>1.000000</td>\n",
              "      <td>6.200000</td>\n",
              "      <td>2.000000</td>\n",
              "      <td>4.000000</td>\n",
              "      <td>3.000000</td>\n",
              "    </tr>\n",
              "  </tbody>\n",
              "</table>\n",
              "</div>\n",
              "      <button class=\"colab-df-convert\" onclick=\"convertToInteractive('df-2d76ebbf-78db-43e7-b980-e13362fef12b')\"\n",
              "              title=\"Convert this dataframe to an interactive table.\"\n",
              "              style=\"display:none;\">\n",
              "        \n",
              "  <svg xmlns=\"http://www.w3.org/2000/svg\" height=\"24px\"viewBox=\"0 0 24 24\"\n",
              "       width=\"24px\">\n",
              "    <path d=\"M0 0h24v24H0V0z\" fill=\"none\"/>\n",
              "    <path d=\"M18.56 5.44l.94 2.06.94-2.06 2.06-.94-2.06-.94-.94-2.06-.94 2.06-2.06.94zm-11 1L8.5 8.5l.94-2.06 2.06-.94-2.06-.94L8.5 2.5l-.94 2.06-2.06.94zm10 10l.94 2.06.94-2.06 2.06-.94-2.06-.94-.94-2.06-.94 2.06-2.06.94z\"/><path d=\"M17.41 7.96l-1.37-1.37c-.4-.4-.92-.59-1.43-.59-.52 0-1.04.2-1.43.59L10.3 9.45l-7.72 7.72c-.78.78-.78 2.05 0 2.83L4 21.41c.39.39.9.59 1.41.59.51 0 1.02-.2 1.41-.59l7.78-7.78 2.81-2.81c.8-.78.8-2.07 0-2.86zM5.41 20L4 18.59l7.72-7.72 1.47 1.35L5.41 20z\"/>\n",
              "  </svg>\n",
              "      </button>\n",
              "      \n",
              "  <style>\n",
              "    .colab-df-container {\n",
              "      display:flex;\n",
              "      flex-wrap:wrap;\n",
              "      gap: 12px;\n",
              "    }\n",
              "\n",
              "    .colab-df-convert {\n",
              "      background-color: #E8F0FE;\n",
              "      border: none;\n",
              "      border-radius: 50%;\n",
              "      cursor: pointer;\n",
              "      display: none;\n",
              "      fill: #1967D2;\n",
              "      height: 32px;\n",
              "      padding: 0 0 0 0;\n",
              "      width: 32px;\n",
              "    }\n",
              "\n",
              "    .colab-df-convert:hover {\n",
              "      background-color: #E2EBFA;\n",
              "      box-shadow: 0px 1px 2px rgba(60, 64, 67, 0.3), 0px 1px 3px 1px rgba(60, 64, 67, 0.15);\n",
              "      fill: #174EA6;\n",
              "    }\n",
              "\n",
              "    [theme=dark] .colab-df-convert {\n",
              "      background-color: #3B4455;\n",
              "      fill: #D2E3FC;\n",
              "    }\n",
              "\n",
              "    [theme=dark] .colab-df-convert:hover {\n",
              "      background-color: #434B5C;\n",
              "      box-shadow: 0px 1px 3px 1px rgba(0, 0, 0, 0.15);\n",
              "      filter: drop-shadow(0px 1px 2px rgba(0, 0, 0, 0.3));\n",
              "      fill: #FFFFFF;\n",
              "    }\n",
              "  </style>\n",
              "\n",
              "      <script>\n",
              "        const buttonEl =\n",
              "          document.querySelector('#df-2d76ebbf-78db-43e7-b980-e13362fef12b button.colab-df-convert');\n",
              "        buttonEl.style.display =\n",
              "          google.colab.kernel.accessAllowed ? 'block' : 'none';\n",
              "\n",
              "        async function convertToInteractive(key) {\n",
              "          const element = document.querySelector('#df-2d76ebbf-78db-43e7-b980-e13362fef12b');\n",
              "          const dataTable =\n",
              "            await google.colab.kernel.invokeFunction('convertToInteractive',\n",
              "                                                     [key], {});\n",
              "          if (!dataTable) return;\n",
              "\n",
              "          const docLinkHtml = 'Like what you see? Visit the ' +\n",
              "            '<a target=\"_blank\" href=https://colab.research.google.com/notebooks/data_table.ipynb>data table notebook</a>'\n",
              "            + ' to learn more about interactive tables.';\n",
              "          element.innerHTML = '';\n",
              "          dataTable['output_type'] = 'display_data';\n",
              "          await google.colab.output.renderOutput(dataTable, element);\n",
              "          const docLink = document.createElement('div');\n",
              "          docLink.innerHTML = docLinkHtml;\n",
              "          element.appendChild(docLink);\n",
              "        }\n",
              "      </script>\n",
              "    </div>\n",
              "  </div>\n",
              "  "
            ]
          },
          "metadata": {},
          "execution_count": 440
        }
      ]
    },
    {
      "cell_type": "code",
      "source": [
        "df.info()"
      ],
      "metadata": {
        "colab": {
          "base_uri": "https://localhost:8080/"
        },
        "id": "JUs9k-FlFseX",
        "outputId": "54f6b88c-3432-4964-87a6-ed7158a85dbc"
      },
      "execution_count": 441,
      "outputs": [
        {
          "output_type": "stream",
          "name": "stdout",
          "text": [
            "<class 'pandas.core.frame.DataFrame'>\n",
            "RangeIndex: 303 entries, 0 to 302\n",
            "Data columns (total 14 columns):\n",
            " #   Column    Non-Null Count  Dtype  \n",
            "---  ------    --------------  -----  \n",
            " 0   age       303 non-null    int64  \n",
            " 1   sex       303 non-null    int64  \n",
            " 2   cp        303 non-null    int64  \n",
            " 3   trestbps  303 non-null    int64  \n",
            " 4   chol      303 non-null    int64  \n",
            " 5   fbs       303 non-null    int64  \n",
            " 6   restecg   303 non-null    int64  \n",
            " 7   thalach   303 non-null    int64  \n",
            " 8   exang     303 non-null    int64  \n",
            " 9   oldpeak   303 non-null    float64\n",
            " 10  slope     303 non-null    int64  \n",
            " 11  ca        303 non-null    int64  \n",
            " 12  thal      303 non-null    int64  \n",
            " 13  target    303 non-null    object \n",
            "dtypes: float64(1), int64(12), object(1)\n",
            "memory usage: 33.3+ KB\n"
          ]
        }
      ]
    },
    {
      "cell_type": "code",
      "source": [
        "df.isnull().sum()"
      ],
      "metadata": {
        "colab": {
          "base_uri": "https://localhost:8080/"
        },
        "id": "a0vl65whFvih",
        "outputId": "f8f78349-c902-43a0-d7f4-50d33880b22a"
      },
      "execution_count": 442,
      "outputs": [
        {
          "output_type": "execute_result",
          "data": {
            "text/plain": [
              "age         0\n",
              "sex         0\n",
              "cp          0\n",
              "trestbps    0\n",
              "chol        0\n",
              "fbs         0\n",
              "restecg     0\n",
              "thalach     0\n",
              "exang       0\n",
              "oldpeak     0\n",
              "slope       0\n",
              "ca          0\n",
              "thal        0\n",
              "target      0\n",
              "dtype: int64"
            ]
          },
          "metadata": {},
          "execution_count": 442
        }
      ]
    },
    {
      "cell_type": "code",
      "source": [
        "df.isnull().sum().sum()"
      ],
      "metadata": {
        "colab": {
          "base_uri": "https://localhost:8080/"
        },
        "id": "3wddy_JJF0f5",
        "outputId": "27ce68ec-a3cf-42a4-d361-646ba33bb1db"
      },
      "execution_count": 443,
      "outputs": [
        {
          "output_type": "execute_result",
          "data": {
            "text/plain": [
              "0"
            ]
          },
          "metadata": {},
          "execution_count": 443
        }
      ]
    },
    {
      "cell_type": "code",
      "source": [
        "df['target']"
      ],
      "metadata": {
        "colab": {
          "base_uri": "https://localhost:8080/"
        },
        "id": "8C1-3vYuF22L",
        "outputId": "8cc68ef1-61d4-400f-dba5-014cfcb738e4"
      },
      "execution_count": 444,
      "outputs": [
        {
          "output_type": "execute_result",
          "data": {
            "text/plain": [
              "0      yes\n",
              "1      yes\n",
              "2      yes\n",
              "3      yes\n",
              "4      yes\n",
              "      ... \n",
              "298     No\n",
              "299     No\n",
              "300     No\n",
              "301     No\n",
              "302     No\n",
              "Name: target, Length: 303, dtype: object"
            ]
          },
          "metadata": {},
          "execution_count": 444
        }
      ]
    },
    {
      "cell_type": "markdown",
      "source": [
        "DATA PRE-PROCESSING-\n",
        "1)Encoding the categorical data;\n",
        "2)Normalizing."
      ],
      "metadata": {
        "id": "KgdUPH6lF7BO"
      }
    },
    {
      "cell_type": "markdown",
      "source": [
        "1)Encoding the categorical data"
      ],
      "metadata": {
        "id": "lUb-t2_iGL6v"
      }
    },
    {
      "cell_type": "code",
      "source": [
        "print('Shape of Dataset:',df.shape)\n",
        "print('Number of rows:',df.shape[0])\n",
        "print('Number of columns : ',df.shape[1])"
      ],
      "metadata": {
        "colab": {
          "base_uri": "https://localhost:8080/"
        },
        "id": "yK-YHUqzF6eK",
        "outputId": "8acd45c3-73bd-453c-9251-ad4fbe2db5ea"
      },
      "execution_count": 445,
      "outputs": [
        {
          "output_type": "stream",
          "name": "stdout",
          "text": [
            "Shape of Dataset: (303, 14)\n",
            "Number of rows: 303\n",
            "Number of columns :  14\n"
          ]
        }
      ]
    },
    {
      "cell_type": "code",
      "source": [
        "from sklearn import preprocessing"
      ],
      "metadata": {
        "id": "ZMsSkLnNGQLs"
      },
      "execution_count": 446,
      "outputs": []
    },
    {
      "cell_type": "markdown",
      "source": [
        "We will use label-encoding to encode"
      ],
      "metadata": {
        "id": "1XCKafsnGd_A"
      }
    },
    {
      "cell_type": "code",
      "source": [
        "label_encoder = preprocessing.LabelEncoder()\n",
        "df['target']=label_encoder.fit_transform(df['target'])"
      ],
      "metadata": {
        "id": "ecwP8FU3Gi3X"
      },
      "execution_count": 447,
      "outputs": []
    },
    {
      "cell_type": "code",
      "source": [
        "df"
      ],
      "metadata": {
        "colab": {
          "base_uri": "https://localhost:8080/",
          "height": 424
        },
        "id": "ywAnpTM_GxTn",
        "outputId": "1e217487-661e-4908-e309-321483c36951"
      },
      "execution_count": 448,
      "outputs": [
        {
          "output_type": "execute_result",
          "data": {
            "text/plain": [
              "     age  sex  cp  trestbps  chol  fbs  restecg  thalach  exang  oldpeak  \\\n",
              "0     63    1   3       145   233    1        0      150      0      2.3   \n",
              "1     37    1   2       130   250    0        1      187      0      3.5   \n",
              "2     41    0   1       130   204    0        0      172      0      1.4   \n",
              "3     56    1   1       120   236    0        1      178      0      0.8   \n",
              "4     57    0   0       120   354    0        1      163      1      0.6   \n",
              "..   ...  ...  ..       ...   ...  ...      ...      ...    ...      ...   \n",
              "298   57    0   0       140   241    0        1      123      1      0.2   \n",
              "299   45    1   3       110   264    0        1      132      0      1.2   \n",
              "300   68    1   0       144   193    1        1      141      0      3.4   \n",
              "301   57    1   0       130   131    0        1      115      1      1.2   \n",
              "302   57    0   1       130   236    0        0      174      0      0.0   \n",
              "\n",
              "     slope  ca  thal  target  \n",
              "0        0   0     1       1  \n",
              "1        0   0     2       1  \n",
              "2        2   0     2       1  \n",
              "3        2   0     2       1  \n",
              "4        2   0     2       1  \n",
              "..     ...  ..   ...     ...  \n",
              "298      1   0     3       0  \n",
              "299      1   0     3       0  \n",
              "300      1   2     3       0  \n",
              "301      1   1     3       0  \n",
              "302      1   1     2       0  \n",
              "\n",
              "[303 rows x 14 columns]"
            ],
            "text/html": [
              "\n",
              "  <div id=\"df-62d3bc05-cf09-4292-a2f7-66203e8db897\">\n",
              "    <div class=\"colab-df-container\">\n",
              "      <div>\n",
              "<style scoped>\n",
              "    .dataframe tbody tr th:only-of-type {\n",
              "        vertical-align: middle;\n",
              "    }\n",
              "\n",
              "    .dataframe tbody tr th {\n",
              "        vertical-align: top;\n",
              "    }\n",
              "\n",
              "    .dataframe thead th {\n",
              "        text-align: right;\n",
              "    }\n",
              "</style>\n",
              "<table border=\"1\" class=\"dataframe\">\n",
              "  <thead>\n",
              "    <tr style=\"text-align: right;\">\n",
              "      <th></th>\n",
              "      <th>age</th>\n",
              "      <th>sex</th>\n",
              "      <th>cp</th>\n",
              "      <th>trestbps</th>\n",
              "      <th>chol</th>\n",
              "      <th>fbs</th>\n",
              "      <th>restecg</th>\n",
              "      <th>thalach</th>\n",
              "      <th>exang</th>\n",
              "      <th>oldpeak</th>\n",
              "      <th>slope</th>\n",
              "      <th>ca</th>\n",
              "      <th>thal</th>\n",
              "      <th>target</th>\n",
              "    </tr>\n",
              "  </thead>\n",
              "  <tbody>\n",
              "    <tr>\n",
              "      <th>0</th>\n",
              "      <td>63</td>\n",
              "      <td>1</td>\n",
              "      <td>3</td>\n",
              "      <td>145</td>\n",
              "      <td>233</td>\n",
              "      <td>1</td>\n",
              "      <td>0</td>\n",
              "      <td>150</td>\n",
              "      <td>0</td>\n",
              "      <td>2.3</td>\n",
              "      <td>0</td>\n",
              "      <td>0</td>\n",
              "      <td>1</td>\n",
              "      <td>1</td>\n",
              "    </tr>\n",
              "    <tr>\n",
              "      <th>1</th>\n",
              "      <td>37</td>\n",
              "      <td>1</td>\n",
              "      <td>2</td>\n",
              "      <td>130</td>\n",
              "      <td>250</td>\n",
              "      <td>0</td>\n",
              "      <td>1</td>\n",
              "      <td>187</td>\n",
              "      <td>0</td>\n",
              "      <td>3.5</td>\n",
              "      <td>0</td>\n",
              "      <td>0</td>\n",
              "      <td>2</td>\n",
              "      <td>1</td>\n",
              "    </tr>\n",
              "    <tr>\n",
              "      <th>2</th>\n",
              "      <td>41</td>\n",
              "      <td>0</td>\n",
              "      <td>1</td>\n",
              "      <td>130</td>\n",
              "      <td>204</td>\n",
              "      <td>0</td>\n",
              "      <td>0</td>\n",
              "      <td>172</td>\n",
              "      <td>0</td>\n",
              "      <td>1.4</td>\n",
              "      <td>2</td>\n",
              "      <td>0</td>\n",
              "      <td>2</td>\n",
              "      <td>1</td>\n",
              "    </tr>\n",
              "    <tr>\n",
              "      <th>3</th>\n",
              "      <td>56</td>\n",
              "      <td>1</td>\n",
              "      <td>1</td>\n",
              "      <td>120</td>\n",
              "      <td>236</td>\n",
              "      <td>0</td>\n",
              "      <td>1</td>\n",
              "      <td>178</td>\n",
              "      <td>0</td>\n",
              "      <td>0.8</td>\n",
              "      <td>2</td>\n",
              "      <td>0</td>\n",
              "      <td>2</td>\n",
              "      <td>1</td>\n",
              "    </tr>\n",
              "    <tr>\n",
              "      <th>4</th>\n",
              "      <td>57</td>\n",
              "      <td>0</td>\n",
              "      <td>0</td>\n",
              "      <td>120</td>\n",
              "      <td>354</td>\n",
              "      <td>0</td>\n",
              "      <td>1</td>\n",
              "      <td>163</td>\n",
              "      <td>1</td>\n",
              "      <td>0.6</td>\n",
              "      <td>2</td>\n",
              "      <td>0</td>\n",
              "      <td>2</td>\n",
              "      <td>1</td>\n",
              "    </tr>\n",
              "    <tr>\n",
              "      <th>...</th>\n",
              "      <td>...</td>\n",
              "      <td>...</td>\n",
              "      <td>...</td>\n",
              "      <td>...</td>\n",
              "      <td>...</td>\n",
              "      <td>...</td>\n",
              "      <td>...</td>\n",
              "      <td>...</td>\n",
              "      <td>...</td>\n",
              "      <td>...</td>\n",
              "      <td>...</td>\n",
              "      <td>...</td>\n",
              "      <td>...</td>\n",
              "      <td>...</td>\n",
              "    </tr>\n",
              "    <tr>\n",
              "      <th>298</th>\n",
              "      <td>57</td>\n",
              "      <td>0</td>\n",
              "      <td>0</td>\n",
              "      <td>140</td>\n",
              "      <td>241</td>\n",
              "      <td>0</td>\n",
              "      <td>1</td>\n",
              "      <td>123</td>\n",
              "      <td>1</td>\n",
              "      <td>0.2</td>\n",
              "      <td>1</td>\n",
              "      <td>0</td>\n",
              "      <td>3</td>\n",
              "      <td>0</td>\n",
              "    </tr>\n",
              "    <tr>\n",
              "      <th>299</th>\n",
              "      <td>45</td>\n",
              "      <td>1</td>\n",
              "      <td>3</td>\n",
              "      <td>110</td>\n",
              "      <td>264</td>\n",
              "      <td>0</td>\n",
              "      <td>1</td>\n",
              "      <td>132</td>\n",
              "      <td>0</td>\n",
              "      <td>1.2</td>\n",
              "      <td>1</td>\n",
              "      <td>0</td>\n",
              "      <td>3</td>\n",
              "      <td>0</td>\n",
              "    </tr>\n",
              "    <tr>\n",
              "      <th>300</th>\n",
              "      <td>68</td>\n",
              "      <td>1</td>\n",
              "      <td>0</td>\n",
              "      <td>144</td>\n",
              "      <td>193</td>\n",
              "      <td>1</td>\n",
              "      <td>1</td>\n",
              "      <td>141</td>\n",
              "      <td>0</td>\n",
              "      <td>3.4</td>\n",
              "      <td>1</td>\n",
              "      <td>2</td>\n",
              "      <td>3</td>\n",
              "      <td>0</td>\n",
              "    </tr>\n",
              "    <tr>\n",
              "      <th>301</th>\n",
              "      <td>57</td>\n",
              "      <td>1</td>\n",
              "      <td>0</td>\n",
              "      <td>130</td>\n",
              "      <td>131</td>\n",
              "      <td>0</td>\n",
              "      <td>1</td>\n",
              "      <td>115</td>\n",
              "      <td>1</td>\n",
              "      <td>1.2</td>\n",
              "      <td>1</td>\n",
              "      <td>1</td>\n",
              "      <td>3</td>\n",
              "      <td>0</td>\n",
              "    </tr>\n",
              "    <tr>\n",
              "      <th>302</th>\n",
              "      <td>57</td>\n",
              "      <td>0</td>\n",
              "      <td>1</td>\n",
              "      <td>130</td>\n",
              "      <td>236</td>\n",
              "      <td>0</td>\n",
              "      <td>0</td>\n",
              "      <td>174</td>\n",
              "      <td>0</td>\n",
              "      <td>0.0</td>\n",
              "      <td>1</td>\n",
              "      <td>1</td>\n",
              "      <td>2</td>\n",
              "      <td>0</td>\n",
              "    </tr>\n",
              "  </tbody>\n",
              "</table>\n",
              "<p>303 rows × 14 columns</p>\n",
              "</div>\n",
              "      <button class=\"colab-df-convert\" onclick=\"convertToInteractive('df-62d3bc05-cf09-4292-a2f7-66203e8db897')\"\n",
              "              title=\"Convert this dataframe to an interactive table.\"\n",
              "              style=\"display:none;\">\n",
              "        \n",
              "  <svg xmlns=\"http://www.w3.org/2000/svg\" height=\"24px\"viewBox=\"0 0 24 24\"\n",
              "       width=\"24px\">\n",
              "    <path d=\"M0 0h24v24H0V0z\" fill=\"none\"/>\n",
              "    <path d=\"M18.56 5.44l.94 2.06.94-2.06 2.06-.94-2.06-.94-.94-2.06-.94 2.06-2.06.94zm-11 1L8.5 8.5l.94-2.06 2.06-.94-2.06-.94L8.5 2.5l-.94 2.06-2.06.94zm10 10l.94 2.06.94-2.06 2.06-.94-2.06-.94-.94-2.06-.94 2.06-2.06.94z\"/><path d=\"M17.41 7.96l-1.37-1.37c-.4-.4-.92-.59-1.43-.59-.52 0-1.04.2-1.43.59L10.3 9.45l-7.72 7.72c-.78.78-.78 2.05 0 2.83L4 21.41c.39.39.9.59 1.41.59.51 0 1.02-.2 1.41-.59l7.78-7.78 2.81-2.81c.8-.78.8-2.07 0-2.86zM5.41 20L4 18.59l7.72-7.72 1.47 1.35L5.41 20z\"/>\n",
              "  </svg>\n",
              "      </button>\n",
              "      \n",
              "  <style>\n",
              "    .colab-df-container {\n",
              "      display:flex;\n",
              "      flex-wrap:wrap;\n",
              "      gap: 12px;\n",
              "    }\n",
              "\n",
              "    .colab-df-convert {\n",
              "      background-color: #E8F0FE;\n",
              "      border: none;\n",
              "      border-radius: 50%;\n",
              "      cursor: pointer;\n",
              "      display: none;\n",
              "      fill: #1967D2;\n",
              "      height: 32px;\n",
              "      padding: 0 0 0 0;\n",
              "      width: 32px;\n",
              "    }\n",
              "\n",
              "    .colab-df-convert:hover {\n",
              "      background-color: #E2EBFA;\n",
              "      box-shadow: 0px 1px 2px rgba(60, 64, 67, 0.3), 0px 1px 3px 1px rgba(60, 64, 67, 0.15);\n",
              "      fill: #174EA6;\n",
              "    }\n",
              "\n",
              "    [theme=dark] .colab-df-convert {\n",
              "      background-color: #3B4455;\n",
              "      fill: #D2E3FC;\n",
              "    }\n",
              "\n",
              "    [theme=dark] .colab-df-convert:hover {\n",
              "      background-color: #434B5C;\n",
              "      box-shadow: 0px 1px 3px 1px rgba(0, 0, 0, 0.15);\n",
              "      filter: drop-shadow(0px 1px 2px rgba(0, 0, 0, 0.3));\n",
              "      fill: #FFFFFF;\n",
              "    }\n",
              "  </style>\n",
              "\n",
              "      <script>\n",
              "        const buttonEl =\n",
              "          document.querySelector('#df-62d3bc05-cf09-4292-a2f7-66203e8db897 button.colab-df-convert');\n",
              "        buttonEl.style.display =\n",
              "          google.colab.kernel.accessAllowed ? 'block' : 'none';\n",
              "\n",
              "        async function convertToInteractive(key) {\n",
              "          const element = document.querySelector('#df-62d3bc05-cf09-4292-a2f7-66203e8db897');\n",
              "          const dataTable =\n",
              "            await google.colab.kernel.invokeFunction('convertToInteractive',\n",
              "                                                     [key], {});\n",
              "          if (!dataTable) return;\n",
              "\n",
              "          const docLinkHtml = 'Like what you see? Visit the ' +\n",
              "            '<a target=\"_blank\" href=https://colab.research.google.com/notebooks/data_table.ipynb>data table notebook</a>'\n",
              "            + ' to learn more about interactive tables.';\n",
              "          element.innerHTML = '';\n",
              "          dataTable['output_type'] = 'display_data';\n",
              "          await google.colab.output.renderOutput(dataTable, element);\n",
              "          const docLink = document.createElement('div');\n",
              "          docLink.innerHTML = docLinkHtml;\n",
              "          element.appendChild(docLink);\n",
              "        }\n",
              "      </script>\n",
              "    </div>\n",
              "  </div>\n",
              "  "
            ]
          },
          "metadata": {},
          "execution_count": 448
        }
      ]
    },
    {
      "cell_type": "markdown",
      "source": [
        "2)Normalization"
      ],
      "metadata": {
        "id": "52BdIUACG3iF"
      }
    },
    {
      "cell_type": "code",
      "source": [
        "import matplotlib.pyplot as plt\n",
        "import seaborn as sns"
      ],
      "metadata": {
        "id": "qe0zyMRpb9QX"
      },
      "execution_count": 449,
      "outputs": []
    },
    {
      "cell_type": "code",
      "source": [
        "plt.figure(figsize=(24,12))\n",
        "sns.heatmap(df.corr(),annot=True,cmap='Blues',linewidths=.2)"
      ],
      "metadata": {
        "colab": {
          "base_uri": "https://localhost:8080/",
          "height": 560
        },
        "id": "ocKIVi98b7Wg",
        "outputId": "f829bfa6-6040-416a-9e7d-9d42ce3a5c82"
      },
      "execution_count": 450,
      "outputs": [
        {
          "output_type": "execute_result",
          "data": {
            "text/plain": [
              "<matplotlib.axes._subplots.AxesSubplot at 0x7fd76a865150>"
            ]
          },
          "metadata": {},
          "execution_count": 450
        },
        {
          "output_type": "display_data",
          "data": {
            "text/plain": [
              "<Figure size 1728x864 with 2 Axes>"
            ],
            "image/png": "[encoded data removed]"
          },
          "metadata": {}
        }
      ]
    },
    {
      "cell_type": "code",
      "source": [
        "dropped= df.drop (columns = ['trestbps','chol','fbs','restecg','thalach'],axis=1)\n",
        "dropped"
      ],
      "metadata": {
        "colab": {
          "base_uri": "https://localhost:8080/",
          "height": 424
        },
        "id": "mTwLmWxjcGsZ",
        "outputId": "dbc1bd96-ef5d-4edc-cf02-4019e03068aa"
      },
      "execution_count": 451,
      "outputs": [
        {
          "output_type": "execute_result",
          "data": {
            "text/plain": [
              "     age  sex  cp  exang  oldpeak  slope  ca  thal  target\n",
              "0     63    1   3      0      2.3      0   0     1       1\n",
              "1     37    1   2      0      3.5      0   0     2       1\n",
              "2     41    0   1      0      1.4      2   0     2       1\n",
              "3     56    1   1      0      0.8      2   0     2       1\n",
              "4     57    0   0      1      0.6      2   0     2       1\n",
              "..   ...  ...  ..    ...      ...    ...  ..   ...     ...\n",
              "298   57    0   0      1      0.2      1   0     3       0\n",
              "299   45    1   3      0      1.2      1   0     3       0\n",
              "300   68    1   0      0      3.4      1   2     3       0\n",
              "301   57    1   0      1      1.2      1   1     3       0\n",
              "302   57    0   1      0      0.0      1   1     2       0\n",
              "\n",
              "[303 rows x 9 columns]"
            ],
            "text/html": [
              "\n",
              "  <div id=\"df-9250c0a1-199f-4b34-bd17-a30b66a7322e\">\n",
              "    <div class=\"colab-df-container\">\n",
              "      <div>\n",
              "<style scoped>\n",
              "    .dataframe tbody tr th:only-of-type {\n",
              "        vertical-align: middle;\n",
              "    }\n",
              "\n",
              "    .dataframe tbody tr th {\n",
              "        vertical-align: top;\n",
              "    }\n",
              "\n",
              "    .dataframe thead th {\n",
              "        text-align: right;\n",
              "    }\n",
              "</style>\n",
              "<table border=\"1\" class=\"dataframe\">\n",
              "  <thead>\n",
              "    <tr style=\"text-align: right;\">\n",
              "      <th></th>\n",
              "      <th>age</th>\n",
              "      <th>sex</th>\n",
              "      <th>cp</th>\n",
              "      <th>exang</th>\n",
              "      <th>oldpeak</th>\n",
              "      <th>slope</th>\n",
              "      <th>ca</th>\n",
              "      <th>thal</th>\n",
              "      <th>target</th>\n",
              "    </tr>\n",
              "  </thead>\n",
              "  <tbody>\n",
              "    <tr>\n",
              "      <th>0</th>\n",
              "      <td>63</td>\n",
              "      <td>1</td>\n",
              "      <td>3</td>\n",
              "      <td>0</td>\n",
              "      <td>2.3</td>\n",
              "      <td>0</td>\n",
              "      <td>0</td>\n",
              "      <td>1</td>\n",
              "      <td>1</td>\n",
              "    </tr>\n",
              "    <tr>\n",
              "      <th>1</th>\n",
              "      <td>37</td>\n",
              "      <td>1</td>\n",
              "      <td>2</td>\n",
              "      <td>0</td>\n",
              "      <td>3.5</td>\n",
              "      <td>0</td>\n",
              "      <td>0</td>\n",
              "      <td>2</td>\n",
              "      <td>1</td>\n",
              "    </tr>\n",
              "    <tr>\n",
              "      <th>2</th>\n",
              "      <td>41</td>\n",
              "      <td>0</td>\n",
              "      <td>1</td>\n",
              "      <td>0</td>\n",
              "      <td>1.4</td>\n",
              "      <td>2</td>\n",
              "      <td>0</td>\n",
              "      <td>2</td>\n",
              "      <td>1</td>\n",
              "    </tr>\n",
              "    <tr>\n",
              "      <th>3</th>\n",
              "      <td>56</td>\n",
              "      <td>1</td>\n",
              "      <td>1</td>\n",
              "      <td>0</td>\n",
              "      <td>0.8</td>\n",
              "      <td>2</td>\n",
              "      <td>0</td>\n",
              "      <td>2</td>\n",
              "      <td>1</td>\n",
              "    </tr>\n",
              "    <tr>\n",
              "      <th>4</th>\n",
              "      <td>57</td>\n",
              "      <td>0</td>\n",
              "      <td>0</td>\n",
              "      <td>1</td>\n",
              "      <td>0.6</td>\n",
              "      <td>2</td>\n",
              "      <td>0</td>\n",
              "      <td>2</td>\n",
              "      <td>1</td>\n",
              "    </tr>\n",
              "    <tr>\n",
              "      <th>...</th>\n",
              "      <td>...</td>\n",
              "      <td>...</td>\n",
              "      <td>...</td>\n",
              "      <td>...</td>\n",
              "      <td>...</td>\n",
              "      <td>...</td>\n",
              "      <td>...</td>\n",
              "      <td>...</td>\n",
              "      <td>...</td>\n",
              "    </tr>\n",
              "    <tr>\n",
              "      <th>298</th>\n",
              "      <td>57</td>\n",
              "      <td>0</td>\n",
              "      <td>0</td>\n",
              "      <td>1</td>\n",
              "      <td>0.2</td>\n",
              "      <td>1</td>\n",
              "      <td>0</td>\n",
              "      <td>3</td>\n",
              "      <td>0</td>\n",
              "    </tr>\n",
              "    <tr>\n",
              "      <th>299</th>\n",
              "      <td>45</td>\n",
              "      <td>1</td>\n",
              "      <td>3</td>\n",
              "      <td>0</td>\n",
              "      <td>1.2</td>\n",
              "      <td>1</td>\n",
              "      <td>0</td>\n",
              "      <td>3</td>\n",
              "      <td>0</td>\n",
              "    </tr>\n",
              "    <tr>\n",
              "      <th>300</th>\n",
              "      <td>68</td>\n",
              "      <td>1</td>\n",
              "      <td>0</td>\n",
              "      <td>0</td>\n",
              "      <td>3.4</td>\n",
              "      <td>1</td>\n",
              "      <td>2</td>\n",
              "      <td>3</td>\n",
              "      <td>0</td>\n",
              "    </tr>\n",
              "    <tr>\n",
              "      <th>301</th>\n",
              "      <td>57</td>\n",
              "      <td>1</td>\n",
              "      <td>0</td>\n",
              "      <td>1</td>\n",
              "      <td>1.2</td>\n",
              "      <td>1</td>\n",
              "      <td>1</td>\n",
              "      <td>3</td>\n",
              "      <td>0</td>\n",
              "    </tr>\n",
              "    <tr>\n",
              "      <th>302</th>\n",
              "      <td>57</td>\n",
              "      <td>0</td>\n",
              "      <td>1</td>\n",
              "      <td>0</td>\n",
              "      <td>0.0</td>\n",
              "      <td>1</td>\n",
              "      <td>1</td>\n",
              "      <td>2</td>\n",
              "      <td>0</td>\n",
              "    </tr>\n",
              "  </tbody>\n",
              "</table>\n",
              "<p>303 rows × 9 columns</p>\n",
              "</div>\n",
              "      <button class=\"colab-df-convert\" onclick=\"convertToInteractive('df-9250c0a1-199f-4b34-bd17-a30b66a7322e')\"\n",
              "              title=\"Convert this dataframe to an interactive table.\"\n",
              "              style=\"display:none;\">\n",
              "        \n",
              "  <svg xmlns=\"http://www.w3.org/2000/svg\" height=\"24px\"viewBox=\"0 0 24 24\"\n",
              "       width=\"24px\">\n",
              "    <path d=\"M0 0h24v24H0V0z\" fill=\"none\"/>\n",
              "    <path d=\"M18.56 5.44l.94 2.06.94-2.06 2.06-.94-2.06-.94-.94-2.06-.94 2.06-2.06.94zm-11 1L8.5 8.5l.94-2.06 2.06-.94-2.06-.94L8.5 2.5l-.94 2.06-2.06.94zm10 10l.94 2.06.94-2.06 2.06-.94-2.06-.94-.94-2.06-.94 2.06-2.06.94z\"/><path d=\"M17.41 7.96l-1.37-1.37c-.4-.4-.92-.59-1.43-.59-.52 0-1.04.2-1.43.59L10.3 9.45l-7.72 7.72c-.78.78-.78 2.05 0 2.83L4 21.41c.39.39.9.59 1.41.59.51 0 1.02-.2 1.41-.59l7.78-7.78 2.81-2.81c.8-.78.8-2.07 0-2.86zM5.41 20L4 18.59l7.72-7.72 1.47 1.35L5.41 20z\"/>\n",
              "  </svg>\n",
              "      </button>\n",
              "      \n",
              "  <style>\n",
              "    .colab-df-container {\n",
              "      display:flex;\n",
              "      flex-wrap:wrap;\n",
              "      gap: 12px;\n",
              "    }\n",
              "\n",
              "    .colab-df-convert {\n",
              "      background-color: #E8F0FE;\n",
              "      border: none;\n",
              "      border-radius: 50%;\n",
              "      cursor: pointer;\n",
              "      display: none;\n",
              "      fill: #1967D2;\n",
              "      height: 32px;\n",
              "      padding: 0 0 0 0;\n",
              "      width: 32px;\n",
              "    }\n",
              "\n",
              "    .colab-df-convert:hover {\n",
              "      background-color: #E2EBFA;\n",
              "      box-shadow: 0px 1px 2px rgba(60, 64, 67, 0.3), 0px 1px 3px 1px rgba(60, 64, 67, 0.15);\n",
              "      fill: #174EA6;\n",
              "    }\n",
              "\n",
              "    [theme=dark] .colab-df-convert {\n",
              "      background-color: #3B4455;\n",
              "      fill: #D2E3FC;\n",
              "    }\n",
              "\n",
              "    [theme=dark] .colab-df-convert:hover {\n",
              "      background-color: #434B5C;\n",
              "      box-shadow: 0px 1px 3px 1px rgba(0, 0, 0, 0.15);\n",
              "      filter: drop-shadow(0px 1px 2px rgba(0, 0, 0, 0.3));\n",
              "      fill: #FFFFFF;\n",
              "    }\n",
              "  </style>\n",
              "\n",
              "      <script>\n",
              "        const buttonEl =\n",
              "          document.querySelector('#df-9250c0a1-199f-4b34-bd17-a30b66a7322e button.colab-df-convert');\n",
              "        buttonEl.style.display =\n",
              "          google.colab.kernel.accessAllowed ? 'block' : 'none';\n",
              "\n",
              "        async function convertToInteractive(key) {\n",
              "          const element = document.querySelector('#df-9250c0a1-199f-4b34-bd17-a30b66a7322e');\n",
              "          const dataTable =\n",
              "            await google.colab.kernel.invokeFunction('convertToInteractive',\n",
              "                                                     [key], {});\n",
              "          if (!dataTable) return;\n",
              "\n",
              "          const docLinkHtml = 'Like what you see? Visit the ' +\n",
              "            '<a target=\"_blank\" href=https://colab.research.google.com/notebooks/data_table.ipynb>data table notebook</a>'\n",
              "            + ' to learn more about interactive tables.';\n",
              "          element.innerHTML = '';\n",
              "          dataTable['output_type'] = 'display_data';\n",
              "          await google.colab.output.renderOutput(dataTable, element);\n",
              "          const docLink = document.createElement('div');\n",
              "          docLink.innerHTML = docLinkHtml;\n",
              "          element.appendChild(docLink);\n",
              "        }\n",
              "      </script>\n",
              "    </div>\n",
              "  </div>\n",
              "  "
            ]
          },
          "metadata": {},
          "execution_count": 451
        }
      ]
    },
    {
      "cell_type": "code",
      "source": [
        "X = dropped.drop('target',axis=1)\n",
        "Y = dropped['target']"
      ],
      "metadata": {
        "id": "cRwGPuBWcPew"
      },
      "execution_count": 452,
      "outputs": []
    },
    {
      "cell_type": "code",
      "source": [
        "from sklearn.preprocessing import StandardScaler\n",
        "StandardScaler = StandardScaler()  \n",
        "columns_to_scale = ['age','trestbps','chol','thalach','oldpeak']\n",
        "df[columns_to_scale] = StandardScaler.fit_transform(df[columns_to_scale])\n",
        "df[columns_to_scale]\n"
      ],
      "metadata": {
        "id": "JgPHTB9VcWZX",
        "colab": {
          "base_uri": "https://localhost:8080/",
          "height": 424
        },
        "outputId": "d5975c86-fe3d-4ee0-9e67-55ecec96ae44"
      },
      "execution_count": 453,
      "outputs": [
        {
          "output_type": "execute_result",
          "data": {
            "text/plain": [
              "          age  trestbps      chol   thalach   oldpeak\n",
              "0    0.952197  0.763956 -0.256334  0.015443  1.087338\n",
              "1   -1.915313 -0.092738  0.072199  1.633471  2.122573\n",
              "2   -1.474158 -0.092738 -0.816773  0.977514  0.310912\n",
              "3    0.180175 -0.663867 -0.198357  1.239897 -0.206705\n",
              "4    0.290464 -0.663867  2.082050  0.583939 -0.379244\n",
              "..        ...       ...       ...       ...       ...\n",
              "298  0.290464  0.478391 -0.101730 -1.165281 -0.724323\n",
              "299 -1.033002 -1.234996  0.342756 -0.771706  0.138373\n",
              "300  1.503641  0.706843 -1.029353 -0.378132  2.036303\n",
              "301  0.290464 -0.092738 -2.227533 -1.515125  0.138373\n",
              "302  0.290464 -0.092738 -0.198357  1.064975 -0.896862\n",
              "\n",
              "[303 rows x 5 columns]"
            ],
            "text/html": [
              "\n",
              "  <div id=\"df-a3d4b419-cc47-43bf-ba06-62defa0c4bb4\">\n",
              "    <div class=\"colab-df-container\">\n",
              "      <div>\n",
              "<style scoped>\n",
              "    .dataframe tbody tr th:only-of-type {\n",
              "        vertical-align: middle;\n",
              "    }\n",
              "\n",
              "    .dataframe tbody tr th {\n",
              "        vertical-align: top;\n",
              "    }\n",
              "\n",
              "    .dataframe thead th {\n",
              "        text-align: right;\n",
              "    }\n",
              "</style>\n",
              "<table border=\"1\" class=\"dataframe\">\n",
              "  <thead>\n",
              "    <tr style=\"text-align: right;\">\n",
              "      <th></th>\n",
              "      <th>age</th>\n",
              "      <th>trestbps</th>\n",
              "      <th>chol</th>\n",
              "      <th>thalach</th>\n",
              "      <th>oldpeak</th>\n",
              "    </tr>\n",
              "  </thead>\n",
              "  <tbody>\n",
              "    <tr>\n",
              "      <th>0</th>\n",
              "      <td>0.952197</td>\n",
              "      <td>0.763956</td>\n",
              "      <td>-0.256334</td>\n",
              "      <td>0.015443</td>\n",
              "      <td>1.087338</td>\n",
              "    </tr>\n",
              "    <tr>\n",
              "      <th>1</th>\n",
              "      <td>-1.915313</td>\n",
              "      <td>-0.092738</td>\n",
              "      <td>0.072199</td>\n",
              "      <td>1.633471</td>\n",
              "      <td>2.122573</td>\n",
              "    </tr>\n",
              "    <tr>\n",
              "      <th>2</th>\n",
              "      <td>-1.474158</td>\n",
              "      <td>-0.092738</td>\n",
              "      <td>-0.816773</td>\n",
              "      <td>0.977514</td>\n",
              "      <td>0.310912</td>\n",
              "    </tr>\n",
              "    <tr>\n",
              "      <th>3</th>\n",
              "      <td>0.180175</td>\n",
              "      <td>-0.663867</td>\n",
              "      <td>-0.198357</td>\n",
              "      <td>1.239897</td>\n",
              "      <td>-0.206705</td>\n",
              "    </tr>\n",
              "    <tr>\n",
              "      <th>4</th>\n",
              "      <td>0.290464</td>\n",
              "      <td>-0.663867</td>\n",
              "      <td>2.082050</td>\n",
              "      <td>0.583939</td>\n",
              "      <td>-0.379244</td>\n",
              "    </tr>\n",
              "    <tr>\n",
              "      <th>...</th>\n",
              "      <td>...</td>\n",
              "      <td>...</td>\n",
              "      <td>...</td>\n",
              "      <td>...</td>\n",
              "      <td>...</td>\n",
              "    </tr>\n",
              "    <tr>\n",
              "      <th>298</th>\n",
              "      <td>0.290464</td>\n",
              "      <td>0.478391</td>\n",
              "      <td>-0.101730</td>\n",
              "      <td>-1.165281</td>\n",
              "      <td>-0.724323</td>\n",
              "    </tr>\n",
              "    <tr>\n",
              "      <th>299</th>\n",
              "      <td>-1.033002</td>\n",
              "      <td>-1.234996</td>\n",
              "      <td>0.342756</td>\n",
              "      <td>-0.771706</td>\n",
              "      <td>0.138373</td>\n",
              "    </tr>\n",
              "    <tr>\n",
              "      <th>300</th>\n",
              "      <td>1.503641</td>\n",
              "      <td>0.706843</td>\n",
              "      <td>-1.029353</td>\n",
              "      <td>-0.378132</td>\n",
              "      <td>2.036303</td>\n",
              "    </tr>\n",
              "    <tr>\n",
              "      <th>301</th>\n",
              "      <td>0.290464</td>\n",
              "      <td>-0.092738</td>\n",
              "      <td>-2.227533</td>\n",
              "      <td>-1.515125</td>\n",
              "      <td>0.138373</td>\n",
              "    </tr>\n",
              "    <tr>\n",
              "      <th>302</th>\n",
              "      <td>0.290464</td>\n",
              "      <td>-0.092738</td>\n",
              "      <td>-0.198357</td>\n",
              "      <td>1.064975</td>\n",
              "      <td>-0.896862</td>\n",
              "    </tr>\n",
              "  </tbody>\n",
              "</table>\n",
              "<p>303 rows × 5 columns</p>\n",
              "</div>\n",
              "      <button class=\"colab-df-convert\" onclick=\"convertToInteractive('df-a3d4b419-cc47-43bf-ba06-62defa0c4bb4')\"\n",
              "              title=\"Convert this dataframe to an interactive table.\"\n",
              "              style=\"display:none;\">\n",
              "        \n",
              "  <svg xmlns=\"http://www.w3.org/2000/svg\" height=\"24px\"viewBox=\"0 0 24 24\"\n",
              "       width=\"24px\">\n",
              "    <path d=\"M0 0h24v24H0V0z\" fill=\"none\"/>\n",
              "    <path d=\"M18.56 5.44l.94 2.06.94-2.06 2.06-.94-2.06-.94-.94-2.06-.94 2.06-2.06.94zm-11 1L8.5 8.5l.94-2.06 2.06-.94-2.06-.94L8.5 2.5l-.94 2.06-2.06.94zm10 10l.94 2.06.94-2.06 2.06-.94-2.06-.94-.94-2.06-.94 2.06-2.06.94z\"/><path d=\"M17.41 7.96l-1.37-1.37c-.4-.4-.92-.59-1.43-.59-.52 0-1.04.2-1.43.59L10.3 9.45l-7.72 7.72c-.78.78-.78 2.05 0 2.83L4 21.41c.39.39.9.59 1.41.59.51 0 1.02-.2 1.41-.59l7.78-7.78 2.81-2.81c.8-.78.8-2.07 0-2.86zM5.41 20L4 18.59l7.72-7.72 1.47 1.35L5.41 20z\"/>\n",
              "  </svg>\n",
              "      </button>\n",
              "      \n",
              "  <style>\n",
              "    .colab-df-container {\n",
              "      display:flex;\n",
              "      flex-wrap:wrap;\n",
              "      gap: 12px;\n",
              "    }\n",
              "\n",
              "    .colab-df-convert {\n",
              "      background-color: #E8F0FE;\n",
              "      border: none;\n",
              "      border-radius: 50%;\n",
              "      cursor: pointer;\n",
              "      display: none;\n",
              "      fill: #1967D2;\n",
              "      height: 32px;\n",
              "      padding: 0 0 0 0;\n",
              "      width: 32px;\n",
              "    }\n",
              "\n",
              "    .colab-df-convert:hover {\n",
              "      background-color: #E2EBFA;\n",
              "      box-shadow: 0px 1px 2px rgba(60, 64, 67, 0.3), 0px 1px 3px 1px rgba(60, 64, 67, 0.15);\n",
              "      fill: #174EA6;\n",
              "    }\n",
              "\n",
              "    [theme=dark] .colab-df-convert {\n",
              "      background-color: #3B4455;\n",
              "      fill: #D2E3FC;\n",
              "    }\n",
              "\n",
              "    [theme=dark] .colab-df-convert:hover {\n",
              "      background-color: #434B5C;\n",
              "      box-shadow: 0px 1px 3px 1px rgba(0, 0, 0, 0.15);\n",
              "      filter: drop-shadow(0px 1px 2px rgba(0, 0, 0, 0.3));\n",
              "      fill: #FFFFFF;\n",
              "    }\n",
              "  </style>\n",
              "\n",
              "      <script>\n",
              "        const buttonEl =\n",
              "          document.querySelector('#df-a3d4b419-cc47-43bf-ba06-62defa0c4bb4 button.colab-df-convert');\n",
              "        buttonEl.style.display =\n",
              "          google.colab.kernel.accessAllowed ? 'block' : 'none';\n",
              "\n",
              "        async function convertToInteractive(key) {\n",
              "          const element = document.querySelector('#df-a3d4b419-cc47-43bf-ba06-62defa0c4bb4');\n",
              "          const dataTable =\n",
              "            await google.colab.kernel.invokeFunction('convertToInteractive',\n",
              "                                                     [key], {});\n",
              "          if (!dataTable) return;\n",
              "\n",
              "          const docLinkHtml = 'Like what you see? Visit the ' +\n",
              "            '<a target=\"_blank\" href=https://colab.research.google.com/notebooks/data_table.ipynb>data table notebook</a>'\n",
              "            + ' to learn more about interactive tables.';\n",
              "          element.innerHTML = '';\n",
              "          dataTable['output_type'] = 'display_data';\n",
              "          await google.colab.output.renderOutput(dataTable, element);\n",
              "          const docLink = document.createElement('div');\n",
              "          docLink.innerHTML = docLinkHtml;\n",
              "          element.appendChild(docLink);\n",
              "        }\n",
              "      </script>\n",
              "    </div>\n",
              "  </div>\n",
              "  "
            ]
          },
          "metadata": {},
          "execution_count": 453
        }
      ]
    },
    {
      "cell_type": "code",
      "source": [
        "df.head()"
      ],
      "metadata": {
        "colab": {
          "base_uri": "https://localhost:8080/",
          "height": 206
        },
        "id": "I_2Aq0nKfCGN",
        "outputId": "d79ac368-8958-4a78-8957-e66be37684e1"
      },
      "execution_count": 454,
      "outputs": [
        {
          "output_type": "execute_result",
          "data": {
            "text/plain": [
              "        age  sex  cp  trestbps      chol  fbs  restecg   thalach  exang  \\\n",
              "0  0.952197    1   3  0.763956 -0.256334    1        0  0.015443      0   \n",
              "1 -1.915313    1   2 -0.092738  0.072199    0        1  1.633471      0   \n",
              "2 -1.474158    0   1 -0.092738 -0.816773    0        0  0.977514      0   \n",
              "3  0.180175    1   1 -0.663867 -0.198357    0        1  1.239897      0   \n",
              "4  0.290464    0   0 -0.663867  2.082050    0        1  0.583939      1   \n",
              "\n",
              "    oldpeak  slope  ca  thal  target  \n",
              "0  1.087338      0   0     1       1  \n",
              "1  2.122573      0   0     2       1  \n",
              "2  0.310912      2   0     2       1  \n",
              "3 -0.206705      2   0     2       1  \n",
              "4 -0.379244      2   0     2       1  "
            ],
            "text/html": [
              "\n",
              "  <div id=\"df-67323012-2f37-4ce4-af0f-c055037e623d\">\n",
              "    <div class=\"colab-df-container\">\n",
              "      <div>\n",
              "<style scoped>\n",
              "    .dataframe tbody tr th:only-of-type {\n",
              "        vertical-align: middle;\n",
              "    }\n",
              "\n",
              "    .dataframe tbody tr th {\n",
              "        vertical-align: top;\n",
              "    }\n",
              "\n",
              "    .dataframe thead th {\n",
              "        text-align: right;\n",
              "    }\n",
              "</style>\n",
              "<table border=\"1\" class=\"dataframe\">\n",
              "  <thead>\n",
              "    <tr style=\"text-align: right;\">\n",
              "      <th></th>\n",
              "      <th>age</th>\n",
              "      <th>sex</th>\n",
              "      <th>cp</th>\n",
              "      <th>trestbps</th>\n",
              "      <th>chol</th>\n",
              "      <th>fbs</th>\n",
              "      <th>restecg</th>\n",
              "      <th>thalach</th>\n",
              "      <th>exang</th>\n",
              "      <th>oldpeak</th>\n",
              "      <th>slope</th>\n",
              "      <th>ca</th>\n",
              "      <th>thal</th>\n",
              "      <th>target</th>\n",
              "    </tr>\n",
              "  </thead>\n",
              "  <tbody>\n",
              "    <tr>\n",
              "      <th>0</th>\n",
              "      <td>0.952197</td>\n",
              "      <td>1</td>\n",
              "      <td>3</td>\n",
              "      <td>0.763956</td>\n",
              "      <td>-0.256334</td>\n",
              "      <td>1</td>\n",
              "      <td>0</td>\n",
              "      <td>0.015443</td>\n",
              "      <td>0</td>\n",
              "      <td>1.087338</td>\n",
              "      <td>0</td>\n",
              "      <td>0</td>\n",
              "      <td>1</td>\n",
              "      <td>1</td>\n",
              "    </tr>\n",
              "    <tr>\n",
              "      <th>1</th>\n",
              "      <td>-1.915313</td>\n",
              "      <td>1</td>\n",
              "      <td>2</td>\n",
              "      <td>-0.092738</td>\n",
              "      <td>0.072199</td>\n",
              "      <td>0</td>\n",
              "      <td>1</td>\n",
              "      <td>1.633471</td>\n",
              "      <td>0</td>\n",
              "      <td>2.122573</td>\n",
              "      <td>0</td>\n",
              "      <td>0</td>\n",
              "      <td>2</td>\n",
              "      <td>1</td>\n",
              "    </tr>\n",
              "    <tr>\n",
              "      <th>2</th>\n",
              "      <td>-1.474158</td>\n",
              "      <td>0</td>\n",
              "      <td>1</td>\n",
              "      <td>-0.092738</td>\n",
              "      <td>-0.816773</td>\n",
              "      <td>0</td>\n",
              "      <td>0</td>\n",
              "      <td>0.977514</td>\n",
              "      <td>0</td>\n",
              "      <td>0.310912</td>\n",
              "      <td>2</td>\n",
              "      <td>0</td>\n",
              "      <td>2</td>\n",
              "      <td>1</td>\n",
              "    </tr>\n",
              "    <tr>\n",
              "      <th>3</th>\n",
              "      <td>0.180175</td>\n",
              "      <td>1</td>\n",
              "      <td>1</td>\n",
              "      <td>-0.663867</td>\n",
              "      <td>-0.198357</td>\n",
              "      <td>0</td>\n",
              "      <td>1</td>\n",
              "      <td>1.239897</td>\n",
              "      <td>0</td>\n",
              "      <td>-0.206705</td>\n",
              "      <td>2</td>\n",
              "      <td>0</td>\n",
              "      <td>2</td>\n",
              "      <td>1</td>\n",
              "    </tr>\n",
              "    <tr>\n",
              "      <th>4</th>\n",
              "      <td>0.290464</td>\n",
              "      <td>0</td>\n",
              "      <td>0</td>\n",
              "      <td>-0.663867</td>\n",
              "      <td>2.082050</td>\n",
              "      <td>0</td>\n",
              "      <td>1</td>\n",
              "      <td>0.583939</td>\n",
              "      <td>1</td>\n",
              "      <td>-0.379244</td>\n",
              "      <td>2</td>\n",
              "      <td>0</td>\n",
              "      <td>2</td>\n",
              "      <td>1</td>\n",
              "    </tr>\n",
              "  </tbody>\n",
              "</table>\n",
              "</div>\n",
              "      <button class=\"colab-df-convert\" onclick=\"convertToInteractive('df-67323012-2f37-4ce4-af0f-c055037e623d')\"\n",
              "              title=\"Convert this dataframe to an interactive table.\"\n",
              "              style=\"display:none;\">\n",
              "        \n",
              "  <svg xmlns=\"http://www.w3.org/2000/svg\" height=\"24px\"viewBox=\"0 0 24 24\"\n",
              "       width=\"24px\">\n",
              "    <path d=\"M0 0h24v24H0V0z\" fill=\"none\"/>\n",
              "    <path d=\"M18.56 5.44l.94 2.06.94-2.06 2.06-.94-2.06-.94-.94-2.06-.94 2.06-2.06.94zm-11 1L8.5 8.5l.94-2.06 2.06-.94-2.06-.94L8.5 2.5l-.94 2.06-2.06.94zm10 10l.94 2.06.94-2.06 2.06-.94-2.06-.94-.94-2.06-.94 2.06-2.06.94z\"/><path d=\"M17.41 7.96l-1.37-1.37c-.4-.4-.92-.59-1.43-.59-.52 0-1.04.2-1.43.59L10.3 9.45l-7.72 7.72c-.78.78-.78 2.05 0 2.83L4 21.41c.39.39.9.59 1.41.59.51 0 1.02-.2 1.41-.59l7.78-7.78 2.81-2.81c.8-.78.8-2.07 0-2.86zM5.41 20L4 18.59l7.72-7.72 1.47 1.35L5.41 20z\"/>\n",
              "  </svg>\n",
              "      </button>\n",
              "      \n",
              "  <style>\n",
              "    .colab-df-container {\n",
              "      display:flex;\n",
              "      flex-wrap:wrap;\n",
              "      gap: 12px;\n",
              "    }\n",
              "\n",
              "    .colab-df-convert {\n",
              "      background-color: #E8F0FE;\n",
              "      border: none;\n",
              "      border-radius: 50%;\n",
              "      cursor: pointer;\n",
              "      display: none;\n",
              "      fill: #1967D2;\n",
              "      height: 32px;\n",
              "      padding: 0 0 0 0;\n",
              "      width: 32px;\n",
              "    }\n",
              "\n",
              "    .colab-df-convert:hover {\n",
              "      background-color: #E2EBFA;\n",
              "      box-shadow: 0px 1px 2px rgba(60, 64, 67, 0.3), 0px 1px 3px 1px rgba(60, 64, 67, 0.15);\n",
              "      fill: #174EA6;\n",
              "    }\n",
              "\n",
              "    [theme=dark] .colab-df-convert {\n",
              "      background-color: #3B4455;\n",
              "      fill: #D2E3FC;\n",
              "    }\n",
              "\n",
              "    [theme=dark] .colab-df-convert:hover {\n",
              "      background-color: #434B5C;\n",
              "      box-shadow: 0px 1px 3px 1px rgba(0, 0, 0, 0.15);\n",
              "      filter: drop-shadow(0px 1px 2px rgba(0, 0, 0, 0.3));\n",
              "      fill: #FFFFFF;\n",
              "    }\n",
              "  </style>\n",
              "\n",
              "      <script>\n",
              "        const buttonEl =\n",
              "          document.querySelector('#df-67323012-2f37-4ce4-af0f-c055037e623d button.colab-df-convert');\n",
              "        buttonEl.style.display =\n",
              "          google.colab.kernel.accessAllowed ? 'block' : 'none';\n",
              "\n",
              "        async function convertToInteractive(key) {\n",
              "          const element = document.querySelector('#df-67323012-2f37-4ce4-af0f-c055037e623d');\n",
              "          const dataTable =\n",
              "            await google.colab.kernel.invokeFunction('convertToInteractive',\n",
              "                                                     [key], {});\n",
              "          if (!dataTable) return;\n",
              "\n",
              "          const docLinkHtml = 'Like what you see? Visit the ' +\n",
              "            '<a target=\"_blank\" href=https://colab.research.google.com/notebooks/data_table.ipynb>data table notebook</a>'\n",
              "            + ' to learn more about interactive tables.';\n",
              "          element.innerHTML = '';\n",
              "          dataTable['output_type'] = 'display_data';\n",
              "          await google.colab.output.renderOutput(dataTable, element);\n",
              "          const docLink = document.createElement('div');\n",
              "          docLink.innerHTML = docLinkHtml;\n",
              "          element.appendChild(docLink);\n",
              "        }\n",
              "      </script>\n",
              "    </div>\n",
              "  </div>\n",
              "  "
            ]
          },
          "metadata": {},
          "execution_count": 454
        }
      ]
    },
    {
      "cell_type": "markdown",
      "source": [
        "Splitting the dataset into train and test set"
      ],
      "metadata": {
        "id": "OC6szHdpc4lc"
      }
    },
    {
      "cell_type": "code",
      "source": [
        "from sklearn.model_selection import train_test_split"
      ],
      "metadata": {
        "id": "ejIm5DOtcz5E"
      },
      "execution_count": 455,
      "outputs": []
    },
    {
      "cell_type": "code",
      "source": [
        "X_train, X_test,y_train, y_test=train_test_split(X,Y,test_size=0.3,random_state=42)\n",
        "print('X_train-', X_train.size)\n",
        "print('X_test-',X_test.size)\n",
        "print('y_train-', y_train.size)\n",
        "print('y_test-', y_test.size)"
      ],
      "metadata": {
        "colab": {
          "base_uri": "https://localhost:8080/"
        },
        "id": "e7M6Qo6cdAdt",
        "outputId": "50212902-fe10-44f3-e725-cd5cf66382af"
      },
      "execution_count": 456,
      "outputs": [
        {
          "output_type": "stream",
          "name": "stdout",
          "text": [
            "X_train- 1696\n",
            "X_test- 728\n",
            "y_train- 212\n",
            "y_test- 91\n"
          ]
        }
      ]
    },
    {
      "cell_type": "markdown",
      "source": [
        ""
      ],
      "metadata": {
        "id": "UGa4nP0ifv3Q"
      }
    },
    {
      "cell_type": "code",
      "source": [
        "from sklearn.metrics import confusion_matrix\n",
        "from sklearn.metrics import accuracy_score\n",
        "from sklearn import metrics\n",
        "from sklearn.metrics import r2_score #r2_score is the correlation co-efficient.It tells how the data is connected.\n",
        "from sklearn.metrics import f1_score"
      ],
      "metadata": {
        "id": "SS0_q_f0gDxY"
      },
      "execution_count": 457,
      "outputs": []
    },
    {
      "cell_type": "markdown",
      "source": [
        "CLASSIFICATION MODELS"
      ],
      "metadata": {
        "id": "_TF_IE7nsvx3"
      }
    },
    {
      "cell_type": "code",
      "source": [
        "accuracy=[]\n",
        "R2_Score=[]\n",
        "F1_Score=[]\n",
        "PRECISION=[]\n",
        "RECALL=[]"
      ],
      "metadata": {
        "id": "NtAc5uYEs9xt"
      },
      "execution_count": 458,
      "outputs": []
    },
    {
      "cell_type": "markdown",
      "source": [
        "RANDOM FOREST"
      ],
      "metadata": {
        "id": "-DmIx_rlgf6p"
      }
    },
    {
      "cell_type": "code",
      "source": [
        "from sklearn.ensemble import RandomForestClassifier\n",
        "rfc=RandomForestClassifier(max_depth=9,n_estimators=100)\n",
        "mrfc=rfc.fit(X_train,y_train)\n",
        "p=mrfc.predict(X_test)\n",
        "cmat=confusion_matrix(y_test,p)\n",
        "cmat"
      ],
      "metadata": {
        "colab": {
          "base_uri": "https://localhost:8080/"
        },
        "id": "UHhYCALKgbhl",
        "outputId": "67887373-6fd3-40c1-e0f4-26196930dc4e"
      },
      "execution_count": 459,
      "outputs": [
        {
          "output_type": "execute_result",
          "data": {
            "text/plain": [
              "array([[35,  6],\n",
              "       [ 9, 41]])"
            ]
          },
          "metadata": {},
          "execution_count": 459
        }
      ]
    },
    {
      "cell_type": "code",
      "source": [
        "sns.heatmap(cmat,annot=True,cmap=\"rocket\")"
      ],
      "metadata": {
        "colab": {
          "base_uri": "https://localhost:8080/",
          "height": 282
        },
        "id": "T6j32S-TgsLL",
        "outputId": "982abb60-11be-4ba0-e897-430443e44c09"
      },
      "execution_count": 460,
      "outputs": [
        {
          "output_type": "execute_result",
          "data": {
            "text/plain": [
              "<matplotlib.axes._subplots.AxesSubplot at 0x7fd76a565e90>"
            ]
          },
          "metadata": {},
          "execution_count": 460
        },
        {
          "output_type": "display_data",
          "data": {
            "text/plain": [
              "<Figure size 432x288 with 2 Axes>"
            ],
            "image/png": "[encoded data removed]"
          },
          "metadata": {}
        }
      ]
    },
    {
      "cell_type": "code",
      "source": [
        "print(classification_report(y_test,p))"
      ],
      "metadata": {
        "colab": {
          "base_uri": "https://localhost:8080/"
        },
        "id": "DQG22vTgndo_",
        "outputId": "9d586563-25f3-4f6a-d325-c140ecce7d82"
      },
      "execution_count": 461,
      "outputs": [
        {
          "output_type": "stream",
          "name": "stdout",
          "text": [
            "              precision    recall  f1-score   support\n",
            "\n",
            "           0       0.80      0.85      0.82        41\n",
            "           1       0.87      0.82      0.85        50\n",
            "\n",
            "    accuracy                           0.84        91\n",
            "   macro avg       0.83      0.84      0.83        91\n",
            "weighted avg       0.84      0.84      0.84        91\n",
            "\n"
          ]
        }
      ]
    },
    {
      "cell_type": "code",
      "source": [
        "print(\"Accuracy Score : \",accuracy_score(y_test,p))"
      ],
      "metadata": {
        "id": "VPkuaiJOgv82",
        "colab": {
          "base_uri": "https://localhost:8080/"
        },
        "outputId": "6c614f27-4d97-4d07-9a51-532fca58f8e2"
      },
      "execution_count": 462,
      "outputs": [
        {
          "output_type": "stream",
          "name": "stdout",
          "text": [
            "Accuracy Score :  0.8351648351648352\n"
          ]
        }
      ]
    },
    {
      "cell_type": "code",
      "source": [
        "accuracyRandomForest=accuracy_score(y_test,p)\n",
        "accuracy.append(accuracyRandomForest)"
      ],
      "metadata": {
        "id": "ApxjEdt9tSnL"
      },
      "execution_count": 463,
      "outputs": []
    },
    {
      "cell_type": "code",
      "source": [
        "print(\"R2_SCORE :\",r2_score(y_test,p))"
      ],
      "metadata": {
        "colab": {
          "base_uri": "https://localhost:8080/"
        },
        "id": "2bcUYDxMnn1G",
        "outputId": "102e1ca3-3262-4bfe-ad85-ce48df7d2ad4"
      },
      "execution_count": 464,
      "outputs": [
        {
          "output_type": "stream",
          "name": "stdout",
          "text": [
            "R2_SCORE : 0.3341463414634146\n"
          ]
        }
      ]
    },
    {
      "cell_type": "code",
      "source": [
        "r2ScoreRandomForest=r2_score(y_test,p)\n",
        "R2_Score.append(r2ScoreRandomForest)"
      ],
      "metadata": {
        "id": "ZAg2UDceuF2c"
      },
      "execution_count": 465,
      "outputs": []
    },
    {
      "cell_type": "code",
      "source": [
        "print(\"Precision: \", metrics.precision_score(y_test, p))"
      ],
      "metadata": {
        "colab": {
          "base_uri": "https://localhost:8080/"
        },
        "id": "JclEYAC_nqfn",
        "outputId": "54b25e68-dc8b-4195-e396-9342ae945680"
      },
      "execution_count": 466,
      "outputs": [
        {
          "output_type": "stream",
          "name": "stdout",
          "text": [
            "Precision:  0.8723404255319149\n"
          ]
        }
      ]
    },
    {
      "cell_type": "code",
      "source": [
        "precisionRandomForest=metrics.precision_score(y_test, p)\n",
        "PRECISION.append(precisionRandomForest)"
      ],
      "metadata": {
        "id": "o-gQPT25uWX0"
      },
      "execution_count": 467,
      "outputs": []
    },
    {
      "cell_type": "code",
      "source": [
        "print(\"Recall: \", metrics.recall_score(y_test, p))"
      ],
      "metadata": {
        "colab": {
          "base_uri": "https://localhost:8080/"
        },
        "id": "0TTrotxUnsuV",
        "outputId": "07cb604e-8695-48ec-8896-9d1c96caf414"
      },
      "execution_count": 468,
      "outputs": [
        {
          "output_type": "stream",
          "name": "stdout",
          "text": [
            "Recall:  0.82\n"
          ]
        }
      ]
    },
    {
      "cell_type": "code",
      "source": [
        "recallRandomForest=metrics.precision_score(y_test, p)\n",
        "RECALL.append(recallRandomForest)"
      ],
      "metadata": {
        "id": "8KxA1s6SupW0"
      },
      "execution_count": 469,
      "outputs": []
    },
    {
      "cell_type": "code",
      "source": [
        "print(\"F1_SCORE :\",f1_score(y_test,p))"
      ],
      "metadata": {
        "colab": {
          "base_uri": "https://localhost:8080/"
        },
        "id": "0GohsVpTnuNI",
        "outputId": "cd2a9914-ace6-4c61-89fe-5dbebdbfa4ea"
      },
      "execution_count": 470,
      "outputs": [
        {
          "output_type": "stream",
          "name": "stdout",
          "text": [
            "F1_SCORE : 0.8453608247422681\n"
          ]
        }
      ]
    },
    {
      "cell_type": "code",
      "source": [
        "f1ScoreRandomForest=metrics.precision_score(y_test, p)\n",
        "F1_Score.append(f1ScoreRandomForest)"
      ],
      "metadata": {
        "id": "zWN3y4Yru4m4"
      },
      "execution_count": 471,
      "outputs": []
    },
    {
      "cell_type": "markdown",
      "source": [
        "DECISION TREE"
      ],
      "metadata": {
        "id": "sY8700Nohpjy"
      }
    },
    {
      "cell_type": "code",
      "source": [
        "from sklearn.metrics import classification_report"
      ],
      "metadata": {
        "id": "6pr9DLZAl5jZ"
      },
      "execution_count": 472,
      "outputs": []
    },
    {
      "cell_type": "code",
      "source": [
        "from sklearn.tree import DecisionTreeClassifier\n",
        "dt=DecisionTreeClassifier()\n",
        "m=dt.fit(X_train,y_train)\n",
        "predictor=m.predict(X_test)\n",
        "cm=confusion_matrix(y_test,predictor)\n",
        "cm"
      ],
      "metadata": {
        "colab": {
          "base_uri": "https://localhost:8080/"
        },
        "id": "ntPfh1r1hlsQ",
        "outputId": "ba98cddc-e7d1-440f-df73-09529f597880"
      },
      "execution_count": 473,
      "outputs": [
        {
          "output_type": "execute_result",
          "data": {
            "text/plain": [
              "array([[30, 11],\n",
              "       [12, 38]])"
            ]
          },
          "metadata": {},
          "execution_count": 473
        }
      ]
    },
    {
      "cell_type": "code",
      "source": [
        "sns.heatmap(cm,annot=True,cmap=\"terrain\")"
      ],
      "metadata": {
        "colab": {
          "base_uri": "https://localhost:8080/",
          "height": 282
        },
        "id": "65MVxXwJhuYp",
        "outputId": "630b87f9-5d27-4d02-8686-98fa95064582"
      },
      "execution_count": 474,
      "outputs": [
        {
          "output_type": "execute_result",
          "data": {
            "text/plain": [
              "<matplotlib.axes._subplots.AxesSubplot at 0x7fd76aa46c10>"
            ]
          },
          "metadata": {},
          "execution_count": 474
        },
        {
          "output_type": "display_data",
          "data": {
            "text/plain": [
              "<Figure size 432x288 with 2 Axes>"
            ],
            "image/png": "[encoded data removed]"
          },
          "metadata": {}
        }
      ]
    },
    {
      "cell_type": "code",
      "source": [
        "from sklearn.tree import DecisionTreeClassifier, plot_tree"
      ],
      "metadata": {
        "id": "S3OBWBhQmYDd"
      },
      "execution_count": 475,
      "outputs": []
    },
    {
      "cell_type": "code",
      "source": [
        "print(classification_report(y_test,predictor))\n",
        "plt.figure(figsize=(10,10))\n",
        "clf = DecisionTreeClassifier(max_depth = 2).fit(X_train, y_train)\n",
        "plot_tree(clf, filled=True, fontsize=10)\n",
        "plt.show()"
      ],
      "metadata": {
        "colab": {
          "base_uri": "https://localhost:8080/",
          "height": 731
        },
        "id": "wbnTg3_gl9AR",
        "outputId": "d9271964-45c6-424e-8e4b-3e7034633330"
      },
      "execution_count": 476,
      "outputs": [
        {
          "output_type": "stream",
          "name": "stdout",
          "text": [
            "              precision    recall  f1-score   support\n",
            "\n",
            "           0       0.71      0.73      0.72        41\n",
            "           1       0.78      0.76      0.77        50\n",
            "\n",
            "    accuracy                           0.75        91\n",
            "   macro avg       0.74      0.75      0.75        91\n",
            "weighted avg       0.75      0.75      0.75        91\n",
            "\n"
          ]
        },
        {
          "output_type": "display_data",
          "data": {
            "text/plain": [
              "<Figure size 720x720 with 1 Axes>"
            ],
            "image/png": "[encoded data removed]"
          },
          "metadata": {}
        }
      ]
    },
    {
      "cell_type": "code",
      "source": [
        "print(\"Accuracy Score : \",accuracy_score(y_test,predictor))"
      ],
      "metadata": {
        "colab": {
          "base_uri": "https://localhost:8080/"
        },
        "id": "oxWz32Qkhyno",
        "outputId": "894bc894-bdca-4896-a8f0-8bd505e1c7ba"
      },
      "execution_count": 477,
      "outputs": [
        {
          "output_type": "stream",
          "name": "stdout",
          "text": [
            "Accuracy Score :  0.7472527472527473\n"
          ]
        }
      ]
    },
    {
      "cell_type": "code",
      "source": [
        "accuracyDecisionTree=accuracy_score(y_test,predictor)\n",
        "accuracy.append(accuracyDecisionTree)"
      ],
      "metadata": {
        "id": "w4CbRHHPvISC"
      },
      "execution_count": 478,
      "outputs": []
    },
    {
      "cell_type": "code",
      "source": [
        "print(\"R2_SCORE :\",r2_score(y_test,predictor))"
      ],
      "metadata": {
        "colab": {
          "base_uri": "https://localhost:8080/"
        },
        "id": "5LNBA2yWmuhf",
        "outputId": "18d6bbfe-0b32-4468-86b8-7c23d3d20781"
      },
      "execution_count": 479,
      "outputs": [
        {
          "output_type": "stream",
          "name": "stdout",
          "text": [
            "R2_SCORE : -0.02097560975609758\n"
          ]
        }
      ]
    },
    {
      "cell_type": "code",
      "source": [
        "r2ScoreDecisionTree=r2_score(y_test,predictor)\n",
        "R2_Score.append(r2ScoreDecisionTree)                            "
      ],
      "metadata": {
        "id": "bCg_vNUwvcGR"
      },
      "execution_count": 480,
      "outputs": []
    },
    {
      "cell_type": "code",
      "source": [
        "print(\"Precision: \", metrics.precision_score(y_test, predictor))"
      ],
      "metadata": {
        "colab": {
          "base_uri": "https://localhost:8080/"
        },
        "id": "uJWkRB6mmwIB",
        "outputId": "a4a0773a-62b0-4667-db4d-978b963cea3b"
      },
      "execution_count": 481,
      "outputs": [
        {
          "output_type": "stream",
          "name": "stdout",
          "text": [
            "Precision:  0.7755102040816326\n"
          ]
        }
      ]
    },
    {
      "cell_type": "code",
      "source": [
        "precisionDecisionTree=metrics.precision_score(y_test, predictor)\n",
        "PRECISION.append(precisionDecisionTree)"
      ],
      "metadata": {
        "id": "9l12Fzv_wlm5"
      },
      "execution_count": 482,
      "outputs": []
    },
    {
      "cell_type": "code",
      "source": [
        "print(\"Recall: \", metrics.recall_score(y_test, predictor))"
      ],
      "metadata": {
        "colab": {
          "base_uri": "https://localhost:8080/"
        },
        "id": "van8fFmymyUS",
        "outputId": "ac8b0a74-9ba8-48f2-f277-12415c16923f"
      },
      "execution_count": 483,
      "outputs": [
        {
          "output_type": "stream",
          "name": "stdout",
          "text": [
            "Recall:  0.76\n"
          ]
        }
      ]
    },
    {
      "cell_type": "code",
      "source": [
        "recallDecisionTree=metrics.recall_score(y_test, predictor)\n",
        "RECALL.append(recallDecisionTree)"
      ],
      "metadata": {
        "id": "dkszwelXwzAY"
      },
      "execution_count": 484,
      "outputs": []
    },
    {
      "cell_type": "code",
      "source": [
        "print(\"F1_SCORE :\",f1_score(y_test,predictor))"
      ],
      "metadata": {
        "colab": {
          "base_uri": "https://localhost:8080/"
        },
        "id": "MioRbmGim1p8",
        "outputId": "fab1e7bd-b782-4e3b-a5d0-097b14697186"
      },
      "execution_count": 485,
      "outputs": [
        {
          "output_type": "stream",
          "name": "stdout",
          "text": [
            "F1_SCORE : 0.7676767676767676\n"
          ]
        }
      ]
    },
    {
      "cell_type": "code",
      "source": [
        "f1scoreDecisionTree=f1_score(y_test,predictor)\n",
        "F1_Score.append(f1scoreDecisionTree)"
      ],
      "metadata": {
        "id": "-v4uJnOCw8OQ"
      },
      "execution_count": 486,
      "outputs": []
    },
    {
      "cell_type": "markdown",
      "source": [
        "KNN"
      ],
      "metadata": {
        "id": "elgJdpc4iVO3"
      }
    },
    {
      "cell_type": "code",
      "source": [
        "from sklearn.neighbors import KNeighborsClassifier\n",
        "KNN=KNeighborsClassifier()\n",
        "model=KNN.fit(X_train,y_train)\n",
        "pred= model.predict(X_test)\n",
        "c=confusion_matrix(y_test,pred)\n",
        "c"
      ],
      "metadata": {
        "colab": {
          "base_uri": "https://localhost:8080/"
        },
        "id": "IKCbHptkiZ4U",
        "outputId": "06128934-1339-4e85-81ad-600551c275ab"
      },
      "execution_count": 487,
      "outputs": [
        {
          "output_type": "execute_result",
          "data": {
            "text/plain": [
              "array([[31, 10],\n",
              "       [ 8, 42]])"
            ]
          },
          "metadata": {},
          "execution_count": 487
        }
      ]
    },
    {
      "cell_type": "code",
      "source": [
        "sns.heatmap(c,annot=True,cmap=\"rocket\")"
      ],
      "metadata": {
        "colab": {
          "base_uri": "https://localhost:8080/",
          "height": 282
        },
        "id": "sEFGABPWiicK",
        "outputId": "2ec317f9-1728-4a5e-8a31-c27d4a3af3e7"
      },
      "execution_count": 488,
      "outputs": [
        {
          "output_type": "execute_result",
          "data": {
            "text/plain": [
              "<matplotlib.axes._subplots.AxesSubplot at 0x7fd76a12f0d0>"
            ]
          },
          "metadata": {},
          "execution_count": 488
        },
        {
          "output_type": "display_data",
          "data": {
            "text/plain": [
              "<Figure size 432x288 with 2 Axes>"
            ],
            "image/png": "[encoded data removed]"
          },
          "metadata": {}
        }
      ]
    },
    {
      "cell_type": "code",
      "source": [
        "print(classification_report(y_test,pred))"
      ],
      "metadata": {
        "colab": {
          "base_uri": "https://localhost:8080/"
        },
        "id": "WwlAsIADohOw",
        "outputId": "c3a8c001-4fef-4763-9a33-f5206c3623aa"
      },
      "execution_count": 489,
      "outputs": [
        {
          "output_type": "stream",
          "name": "stdout",
          "text": [
            "              precision    recall  f1-score   support\n",
            "\n",
            "           0       0.79      0.76      0.77        41\n",
            "           1       0.81      0.84      0.82        50\n",
            "\n",
            "    accuracy                           0.80        91\n",
            "   macro avg       0.80      0.80      0.80        91\n",
            "weighted avg       0.80      0.80      0.80        91\n",
            "\n"
          ]
        }
      ]
    },
    {
      "cell_type": "code",
      "source": [
        "print(\"Accuracy Score : \",accuracy_score(y_test,pred))"
      ],
      "metadata": {
        "colab": {
          "base_uri": "https://localhost:8080/"
        },
        "id": "Uu5DAa2nicH2",
        "outputId": "34fe0e5c-53ac-4d97-a292-92854ea06876"
      },
      "execution_count": 490,
      "outputs": [
        {
          "output_type": "stream",
          "name": "stdout",
          "text": [
            "Accuracy Score :  0.8021978021978022\n"
          ]
        }
      ]
    },
    {
      "cell_type": "code",
      "source": [
        "accuracyKNN=accuracy_score(y_test,pred)\n",
        "accuracy.append(accuracyKNN)"
      ],
      "metadata": {
        "id": "5VDrbIsLxH3B"
      },
      "execution_count": 491,
      "outputs": []
    },
    {
      "cell_type": "code",
      "source": [
        "print(\"R2_SCORE :\",r2_score(y_test,predictor))"
      ],
      "metadata": {
        "colab": {
          "base_uri": "https://localhost:8080/"
        },
        "id": "kL0GNkrwn5XD",
        "outputId": "2a5cd11b-4cca-4b6f-a881-73fa22d32179"
      },
      "execution_count": 492,
      "outputs": [
        {
          "output_type": "stream",
          "name": "stdout",
          "text": [
            "R2_SCORE : -0.02097560975609758\n"
          ]
        }
      ]
    },
    {
      "cell_type": "code",
      "source": [
        "r2ScoreKNN=r2_score(y_test,predictor)\n",
        "R2_Score.append(r2ScoreKNN)"
      ],
      "metadata": {
        "id": "Jtf6Eih-xLfC"
      },
      "execution_count": 493,
      "outputs": []
    },
    {
      "cell_type": "code",
      "source": [
        "print(\"Precision: \", metrics.precision_score(y_test, pred))"
      ],
      "metadata": {
        "colab": {
          "base_uri": "https://localhost:8080/"
        },
        "id": "Lxl_rbJSn7G7",
        "outputId": "f46d74bc-8923-499f-a8eb-36d129f8484a"
      },
      "execution_count": 494,
      "outputs": [
        {
          "output_type": "stream",
          "name": "stdout",
          "text": [
            "Precision:  0.8076923076923077\n"
          ]
        }
      ]
    },
    {
      "cell_type": "code",
      "source": [
        "precisionKNN=metrics.precision_score(y_test, pred)\n",
        "PRECISION.append(precisionKNN)"
      ],
      "metadata": {
        "id": "9waYh_8ExPeO"
      },
      "execution_count": 495,
      "outputs": []
    },
    {
      "cell_type": "code",
      "source": [
        "print(\"Recall: \", metrics.recall_score(y_test, pred))"
      ],
      "metadata": {
        "colab": {
          "base_uri": "https://localhost:8080/"
        },
        "id": "0irMTSPen83M",
        "outputId": "059a1384-f8ef-48c2-aed3-7328aeee83e1"
      },
      "execution_count": 496,
      "outputs": [
        {
          "output_type": "stream",
          "name": "stdout",
          "text": [
            "Recall:  0.84\n"
          ]
        }
      ]
    },
    {
      "cell_type": "code",
      "source": [
        "recallKNN=metrics.recall_score(y_test, pred)\n",
        "RECALL.append(recallKNN)"
      ],
      "metadata": {
        "id": "WKjuZh8-xSTd"
      },
      "execution_count": 497,
      "outputs": []
    },
    {
      "cell_type": "code",
      "source": [
        "print(\"F1_SCORE :\",f1_score(y_test,pred))"
      ],
      "metadata": {
        "colab": {
          "base_uri": "https://localhost:8080/"
        },
        "id": "QPUCqtFFn-lq",
        "outputId": "b7805bc3-91b2-444d-f43b-36a8eadd1c17"
      },
      "execution_count": 498,
      "outputs": [
        {
          "output_type": "stream",
          "name": "stdout",
          "text": [
            "F1_SCORE : 0.8235294117647058\n"
          ]
        }
      ]
    },
    {
      "cell_type": "code",
      "source": [
        "f1scoreKNN=f1_score(y_test,pred)\n",
        "F1_Score.append(f1scoreKNN)"
      ],
      "metadata": {
        "id": "A1SbRreJxUFV"
      },
      "execution_count": 499,
      "outputs": []
    },
    {
      "cell_type": "markdown",
      "source": [
        "NAIVE BAYES"
      ],
      "metadata": {
        "id": "irTdJ9ZQixoc"
      }
    },
    {
      "cell_type": "code",
      "source": [
        "from sklearn.naive_bayes import GaussianNB\n",
        "NB=GaussianNB()\n",
        "modelNV=NB.fit(X_train,y_train)\n",
        "prediction=modelNV.predict(X_test)\n",
        "cNV=confusion_matrix(y_test,prediction)\n",
        "cNV"
      ],
      "metadata": {
        "colab": {
          "base_uri": "https://localhost:8080/"
        },
        "id": "sT1LkdZoipJF",
        "outputId": "630fff86-a3c0-454c-bc22-86cb6645c4c3"
      },
      "execution_count": 500,
      "outputs": [
        {
          "output_type": "execute_result",
          "data": {
            "text/plain": [
              "array([[35,  6],\n",
              "       [10, 40]])"
            ]
          },
          "metadata": {},
          "execution_count": 500
        }
      ]
    },
    {
      "cell_type": "code",
      "source": [
        "sns.heatmap(cNV,annot=True,cmap=\"terrain\")"
      ],
      "metadata": {
        "colab": {
          "base_uri": "https://localhost:8080/",
          "height": 286
        },
        "id": "yIE8jP1Qi3ub",
        "outputId": "c0bda0a3-60d9-433e-9b7e-bb38f5ddf5f4"
      },
      "execution_count": 501,
      "outputs": [
        {
          "output_type": "execute_result",
          "data": {
            "text/plain": [
              "<matplotlib.axes._subplots.AxesSubplot at 0x7fd76a089e50>"
            ]
          },
          "metadata": {},
          "execution_count": 501
        },
        {
          "output_type": "display_data",
          "data": {
            "text/plain": [
              "<Figure size 432x288 with 2 Axes>"
            ],
            "image/png": "[encoded data removed]"
          },
          "metadata": {}
        }
      ]
    },
    {
      "cell_type": "code",
      "source": [
        "print(classification_report(y_test,prediction))"
      ],
      "metadata": {
        "colab": {
          "base_uri": "https://localhost:8080/"
        },
        "id": "X_fxcbmiopx8",
        "outputId": "1445fdfb-d371-4e41-902c-0cc195f89723"
      },
      "execution_count": 502,
      "outputs": [
        {
          "output_type": "stream",
          "name": "stdout",
          "text": [
            "              precision    recall  f1-score   support\n",
            "\n",
            "           0       0.78      0.85      0.81        41\n",
            "           1       0.87      0.80      0.83        50\n",
            "\n",
            "    accuracy                           0.82        91\n",
            "   macro avg       0.82      0.83      0.82        91\n",
            "weighted avg       0.83      0.82      0.82        91\n",
            "\n"
          ]
        }
      ]
    },
    {
      "cell_type": "code",
      "source": [
        "print(\"Accuracy Score : \",accuracy_score(y_test,prediction))"
      ],
      "metadata": {
        "colab": {
          "base_uri": "https://localhost:8080/"
        },
        "id": "qYs48Y6si7WA",
        "outputId": "c817969e-6f9b-475f-9ee1-a50776e95093"
      },
      "execution_count": 503,
      "outputs": [
        {
          "output_type": "stream",
          "name": "stdout",
          "text": [
            "Accuracy Score :  0.8241758241758241\n"
          ]
        }
      ]
    },
    {
      "cell_type": "code",
      "source": [
        "accuracyNV=accuracy_score(y_test,prediction)\n",
        "accuracy.append(accuracyNV)"
      ],
      "metadata": {
        "id": "ktZ4Z2D9yGI1"
      },
      "execution_count": 504,
      "outputs": []
    },
    {
      "cell_type": "code",
      "source": [
        "print(\"R2_SCORE :\",r2_score(y_test,prediction))"
      ],
      "metadata": {
        "colab": {
          "base_uri": "https://localhost:8080/"
        },
        "id": "uJqLS56DoFVd",
        "outputId": "5b7dc55d-f540-4afd-c22f-73f6413e9559"
      },
      "execution_count": 505,
      "outputs": [
        {
          "output_type": "stream",
          "name": "stdout",
          "text": [
            "R2_SCORE : 0.28975609756097553\n"
          ]
        }
      ]
    },
    {
      "cell_type": "code",
      "source": [
        "r2ScoreNV=r2_score(y_test,prediction)\n",
        "R2_Score.append(r2ScoreNV)"
      ],
      "metadata": {
        "id": "xOInvPP7yQ3G"
      },
      "execution_count": 506,
      "outputs": []
    },
    {
      "cell_type": "code",
      "source": [
        "print(\"Precision: \", metrics.precision_score(y_test, prediction))"
      ],
      "metadata": {
        "colab": {
          "base_uri": "https://localhost:8080/"
        },
        "id": "R6bxTVwIoHD4",
        "outputId": "abc1c1f3-cca7-466f-b5da-0867b4b6c903"
      },
      "execution_count": 507,
      "outputs": [
        {
          "output_type": "stream",
          "name": "stdout",
          "text": [
            "Precision:  0.8695652173913043\n"
          ]
        }
      ]
    },
    {
      "cell_type": "code",
      "source": [
        "precisionNV=metrics.precision_score(y_test, prediction)\n",
        "PRECISION.append(precisionNV)"
      ],
      "metadata": {
        "id": "a4TVaZRMydCt"
      },
      "execution_count": 508,
      "outputs": []
    },
    {
      "cell_type": "code",
      "source": [
        "print(\"Recall: \", metrics.recall_score(y_test, prediction))"
      ],
      "metadata": {
        "colab": {
          "base_uri": "https://localhost:8080/"
        },
        "id": "dlVFS4EAoIvE",
        "outputId": "bf71b941-f0cb-40e3-f64c-34884d6b4b22"
      },
      "execution_count": 509,
      "outputs": [
        {
          "output_type": "stream",
          "name": "stdout",
          "text": [
            "Recall:  0.8\n"
          ]
        }
      ]
    },
    {
      "cell_type": "code",
      "source": [
        "recallNV=metrics.recall_score(y_test, prediction)\n",
        "RECALL.append(recallNV)"
      ],
      "metadata": {
        "id": "BZ9btnElynO9"
      },
      "execution_count": 510,
      "outputs": []
    },
    {
      "cell_type": "code",
      "source": [
        "print(\"F1_SCORE :\",f1_score(y_test,prediction))"
      ],
      "metadata": {
        "colab": {
          "base_uri": "https://localhost:8080/"
        },
        "id": "Icr0JKtHoKsD",
        "outputId": "fc7f5f59-60bd-4bf4-ccb8-095f3a16a795"
      },
      "execution_count": 511,
      "outputs": [
        {
          "output_type": "stream",
          "name": "stdout",
          "text": [
            "F1_SCORE : 0.8333333333333333\n"
          ]
        }
      ]
    },
    {
      "cell_type": "code",
      "source": [
        "f1ScoreNV=f1_score(y_test,prediction)\n",
        "F1_Score.append(f1ScoreNV)"
      ],
      "metadata": {
        "id": "8X019dc2yvfd"
      },
      "execution_count": 512,
      "outputs": []
    },
    {
      "cell_type": "markdown",
      "source": [
        "SUPPORT VECTOR MACHINE"
      ],
      "metadata": {
        "id": "nlRbffizjMOy"
      }
    },
    {
      "cell_type": "code",
      "source": [
        "from sklearn.svm import SVC\n",
        "svm=SVC(C=1,kernel='poly',gamma='auto')\n",
        "modelSVC=svm.fit(X_train,y_train)\n",
        "predictionSVC=modelSVC.predict(X_test)\n",
        "cmSVC= confusion_matrix(y_test,predictionSVC)\n",
        "cmSVC"
      ],
      "metadata": {
        "colab": {
          "base_uri": "https://localhost:8080/"
        },
        "id": "dY0dTPpYjIKg",
        "outputId": "60813c8f-17ea-4a79-8d24-e4a5b19af131"
      },
      "execution_count": 513,
      "outputs": [
        {
          "output_type": "execute_result",
          "data": {
            "text/plain": [
              "array([[34,  7],\n",
              "       [ 6, 44]])"
            ]
          },
          "metadata": {},
          "execution_count": 513
        }
      ]
    },
    {
      "cell_type": "code",
      "source": [
        "sns.heatmap(cmSVC,annot=True,cmap=\"rocket\")"
      ],
      "metadata": {
        "colab": {
          "base_uri": "https://localhost:8080/",
          "height": 282
        },
        "id": "5JdxdpRqjTY-",
        "outputId": "538da43f-0dad-477b-fe45-8075f24e2cbf"
      },
      "execution_count": 514,
      "outputs": [
        {
          "output_type": "execute_result",
          "data": {
            "text/plain": [
              "<matplotlib.axes._subplots.AxesSubplot at 0x7fd76a366890>"
            ]
          },
          "metadata": {},
          "execution_count": 514
        },
        {
          "output_type": "display_data",
          "data": {
            "text/plain": [
              "<Figure size 432x288 with 2 Axes>"
            ],
            "image/png": "[encoded data removed]"
          },
          "metadata": {}
        }
      ]
    },
    {
      "cell_type": "code",
      "source": [
        "print(classification_report(y_test,predictionSVC))"
      ],
      "metadata": {
        "colab": {
          "base_uri": "https://localhost:8080/"
        },
        "id": "4IBxd0Wlovhc",
        "outputId": "1d586160-9964-4d91-d5b3-c4f411ab76b6"
      },
      "execution_count": 515,
      "outputs": [
        {
          "output_type": "stream",
          "name": "stdout",
          "text": [
            "              precision    recall  f1-score   support\n",
            "\n",
            "           0       0.85      0.83      0.84        41\n",
            "           1       0.86      0.88      0.87        50\n",
            "\n",
            "    accuracy                           0.86        91\n",
            "   macro avg       0.86      0.85      0.86        91\n",
            "weighted avg       0.86      0.86      0.86        91\n",
            "\n"
          ]
        }
      ]
    },
    {
      "cell_type": "code",
      "source": [
        "print(\"Accuracy Score : \",accuracy_score(y_test,predictionSVC))"
      ],
      "metadata": {
        "colab": {
          "base_uri": "https://localhost:8080/"
        },
        "id": "EnmZ5TCNjWvw",
        "outputId": "87d2956d-dab3-442f-894e-6cc738038bf6"
      },
      "execution_count": 516,
      "outputs": [
        {
          "output_type": "stream",
          "name": "stdout",
          "text": [
            "Accuracy Score :  0.8571428571428571\n"
          ]
        }
      ]
    },
    {
      "cell_type": "code",
      "source": [
        "accuracySM=accuracy_score(y_test,predictionSVC)\n",
        "accuracy.append(accuracySM)"
      ],
      "metadata": {
        "id": "FiR7Gny_y7UV"
      },
      "execution_count": 517,
      "outputs": []
    },
    {
      "cell_type": "code",
      "source": [
        "print(\"R2_SCORE :\",r2_score(y_test,predictionSVC))"
      ],
      "metadata": {
        "colab": {
          "base_uri": "https://localhost:8080/"
        },
        "id": "j924LW6joR6Y",
        "outputId": "ba94ac89-38c0-4127-e443-d13469cadc5e"
      },
      "execution_count": 518,
      "outputs": [
        {
          "output_type": "stream",
          "name": "stdout",
          "text": [
            "R2_SCORE : 0.4229268292682926\n"
          ]
        }
      ]
    },
    {
      "cell_type": "code",
      "source": [
        "r2ScoreSM=r2_score(y_test,predictionSVC)\n",
        "R2_Score.append(r2ScoreSM)"
      ],
      "metadata": {
        "id": "_eG_kJS1zO5b"
      },
      "execution_count": 519,
      "outputs": []
    },
    {
      "cell_type": "code",
      "source": [
        "print(\"Precision: \", metrics.precision_score(y_test, predictionSVC))"
      ],
      "metadata": {
        "colab": {
          "base_uri": "https://localhost:8080/"
        },
        "id": "nYXZqaVkoTto",
        "outputId": "9850d778-00d8-43b3-9d0a-3c23604fe19d"
      },
      "execution_count": 520,
      "outputs": [
        {
          "output_type": "stream",
          "name": "stdout",
          "text": [
            "Precision:  0.8627450980392157\n"
          ]
        }
      ]
    },
    {
      "cell_type": "code",
      "source": [
        "precisionSM=metrics.precision_score(y_test, predictionSVC)\n",
        "PRECISION.append(precisionSM)"
      ],
      "metadata": {
        "id": "CnRPeksnzY02"
      },
      "execution_count": 521,
      "outputs": []
    },
    {
      "cell_type": "code",
      "source": [
        "print(\"Recall: \", metrics.recall_score(y_test, predictionSVC))"
      ],
      "metadata": {
        "colab": {
          "base_uri": "https://localhost:8080/"
        },
        "id": "K3Lw_mJ4oVRG",
        "outputId": "e958480e-d901-469b-ce93-d978d6cb1f86"
      },
      "execution_count": 522,
      "outputs": [
        {
          "output_type": "stream",
          "name": "stdout",
          "text": [
            "Recall:  0.88\n"
          ]
        }
      ]
    },
    {
      "cell_type": "code",
      "source": [
        "recallSM=metrics.recall_score(y_test, predictionSVC)\n",
        "RECALL.append(recallSM)"
      ],
      "metadata": {
        "id": "U5mKL3m2zice"
      },
      "execution_count": 523,
      "outputs": []
    },
    {
      "cell_type": "code",
      "source": [
        "print(\"F1_SCORE :\",f1_score(y_test,predictionSVC))"
      ],
      "metadata": {
        "colab": {
          "base_uri": "https://localhost:8080/"
        },
        "id": "LGOM0owEoXx9",
        "outputId": "ae3e31eb-5fe5-44cb-f612-77ab69d66dfa"
      },
      "execution_count": 524,
      "outputs": [
        {
          "output_type": "stream",
          "name": "stdout",
          "text": [
            "F1_SCORE : 0.8712871287128714\n"
          ]
        }
      ]
    },
    {
      "cell_type": "code",
      "source": [
        "f1sm=f1_score(y_test,predictionSVC)\n",
        "F1_Score.append(f1sm)"
      ],
      "metadata": {
        "id": "vlgTiIonzr4H"
      },
      "execution_count": 525,
      "outputs": []
    },
    {
      "cell_type": "markdown",
      "source": [
        "LOGISTIC REGRESSION"
      ],
      "metadata": {
        "id": "eS_tVo4mj7iu"
      }
    },
    {
      "cell_type": "code",
      "source": [
        "from sklearn.linear_model import LogisticRegression\n",
        "lr=LogisticRegression()\n",
        "model3=lr.fit(X_train,y_train)\n",
        "predLR=model3.predict(X_test)"
      ],
      "metadata": {
        "id": "KsNSMOjqjtkI"
      },
      "execution_count": 526,
      "outputs": []
    },
    {
      "cell_type": "code",
      "source": [
        "cmLR=confusion_matrix(y_test,predLR)\n",
        "cmLR"
      ],
      "metadata": {
        "colab": {
          "base_uri": "https://localhost:8080/"
        },
        "id": "_cF6BLlMkC5S",
        "outputId": "a86afd42-d957-4331-e46e-92fd7b1306ae"
      },
      "execution_count": 527,
      "outputs": [
        {
          "output_type": "execute_result",
          "data": {
            "text/plain": [
              "array([[33,  8],\n",
              "       [ 8, 42]])"
            ]
          },
          "metadata": {},
          "execution_count": 527
        }
      ]
    },
    {
      "cell_type": "code",
      "source": [
        "sns.heatmap(cmLR,annot=True,cmap='rainbow')"
      ],
      "metadata": {
        "colab": {
          "base_uri": "https://localhost:8080/",
          "height": 282
        },
        "id": "QDytqFALkFwS",
        "outputId": "d80352dd-b4a0-40f9-a447-b82b3b969ae7"
      },
      "execution_count": 528,
      "outputs": [
        {
          "output_type": "execute_result",
          "data": {
            "text/plain": [
              "<matplotlib.axes._subplots.AxesSubplot at 0x7fd769ef88d0>"
            ]
          },
          "metadata": {},
          "execution_count": 528
        },
        {
          "output_type": "display_data",
          "data": {
            "text/plain": [
              "<Figure size 432x288 with 2 Axes>"
            ],
            "image/png": "[encoded data removed]"
          },
          "metadata": {}
        }
      ]
    },
    {
      "cell_type": "code",
      "source": [
        "print(classification_report(y_test,predLR))"
      ],
      "metadata": {
        "colab": {
          "base_uri": "https://localhost:8080/"
        },
        "id": "IjgacwKLo1Ze",
        "outputId": "4842ad82-341a-40d8-9a17-c9fc7f73261e"
      },
      "execution_count": 529,
      "outputs": [
        {
          "output_type": "stream",
          "name": "stdout",
          "text": [
            "              precision    recall  f1-score   support\n",
            "\n",
            "           0       0.80      0.80      0.80        41\n",
            "           1       0.84      0.84      0.84        50\n",
            "\n",
            "    accuracy                           0.82        91\n",
            "   macro avg       0.82      0.82      0.82        91\n",
            "weighted avg       0.82      0.82      0.82        91\n",
            "\n"
          ]
        }
      ]
    },
    {
      "cell_type": "code",
      "source": [
        "print(\"Accuracy Score : \",accuracy_score(y_test,predLR))"
      ],
      "metadata": {
        "colab": {
          "base_uri": "https://localhost:8080/"
        },
        "id": "81sAFFtOkOP7",
        "outputId": "9be8bbaf-7e96-47b5-b6e1-8b2b64ab9f2c"
      },
      "execution_count": 530,
      "outputs": [
        {
          "output_type": "stream",
          "name": "stdout",
          "text": [
            "Accuracy Score :  0.8241758241758241\n"
          ]
        }
      ]
    },
    {
      "cell_type": "code",
      "source": [
        "accuracyLR=accuracy_score(y_test,predLR)\n",
        "accuracy.append(accuracyLR)"
      ],
      "metadata": {
        "id": "IHUfmuBNz1UX"
      },
      "execution_count": 531,
      "outputs": []
    },
    {
      "cell_type": "code",
      "source": [
        "#lr_probs = model3.predict_proba(X_test)\n",
        "print(\"f1-score : \",f1_score(y_test,predLR))"
      ],
      "metadata": {
        "colab": {
          "base_uri": "https://localhost:8080/"
        },
        "id": "aTf95eK1kUDG",
        "outputId": "92a5a7cf-4d14-4533-d673-757235bb5146"
      },
      "execution_count": 532,
      "outputs": [
        {
          "output_type": "stream",
          "name": "stdout",
          "text": [
            "f1-score :  0.8399999999999999\n"
          ]
        }
      ]
    },
    {
      "cell_type": "code",
      "source": [
        "f1LR= f1_score(y_test,predLR)\n",
        "F1_Score.append(f1LR)"
      ],
      "metadata": {
        "id": "WEAkCJn10IqZ"
      },
      "execution_count": 533,
      "outputs": []
    },
    {
      "cell_type": "code",
      "source": [
        "print(\"r2-score : \",r2_score(y_test,predLR))"
      ],
      "metadata": {
        "colab": {
          "base_uri": "https://localhost:8080/"
        },
        "id": "YDFS3QNPkYic",
        "outputId": "b978336f-01ed-412c-910f-8300488a74b9"
      },
      "execution_count": 534,
      "outputs": [
        {
          "output_type": "stream",
          "name": "stdout",
          "text": [
            "r2-score :  0.28975609756097553\n"
          ]
        }
      ]
    },
    {
      "cell_type": "code",
      "source": [
        "r2LR=r2_score(y_test,predLR)\n",
        "R2_Score.append(r2LR)"
      ],
      "metadata": {
        "id": "F1e0pMjS0W3f"
      },
      "execution_count": 535,
      "outputs": []
    },
    {
      "cell_type": "code",
      "source": [
        "print(\"Precision: \", metrics.precision_score(y_test, predLR))"
      ],
      "metadata": {
        "colab": {
          "base_uri": "https://localhost:8080/"
        },
        "id": "yKrLJmbhkd4F",
        "outputId": "e24624c8-25ba-416a-d24b-e6770d747568"
      },
      "execution_count": 536,
      "outputs": [
        {
          "output_type": "stream",
          "name": "stdout",
          "text": [
            "Precision:  0.84\n"
          ]
        }
      ]
    },
    {
      "cell_type": "code",
      "source": [
        "precisionLR= metrics.precision_score(y_test, predLR)\n",
        "PRECISION.append(precisionLR)"
      ],
      "metadata": {
        "id": "pd-sY8z80pPj"
      },
      "execution_count": 537,
      "outputs": []
    },
    {
      "cell_type": "code",
      "source": [
        "print(\"Recall: \", metrics.recall_score(y_test, predLR))"
      ],
      "metadata": {
        "colab": {
          "base_uri": "https://localhost:8080/"
        },
        "id": "ZendTsjrkgux",
        "outputId": "dbf76016-5235-4083-96e2-ea31761bc4eb"
      },
      "execution_count": 538,
      "outputs": [
        {
          "output_type": "stream",
          "name": "stdout",
          "text": [
            "Recall:  0.84\n"
          ]
        }
      ]
    },
    {
      "cell_type": "code",
      "source": [
        "recallLR=metrics.recall_score(y_test, predLR)\n",
        "RECALL.append(recallLR)"
      ],
      "metadata": {
        "id": "DRYhPU-900BP"
      },
      "execution_count": 539,
      "outputs": []
    },
    {
      "cell_type": "code",
      "source": [
        "RECALL"
      ],
      "metadata": {
        "colab": {
          "base_uri": "https://localhost:8080/"
        },
        "id": "pu4Zobcv6QHR",
        "outputId": "3c9cea1d-c8b2-4e5f-b443-388e8597c765"
      },
      "execution_count": 540,
      "outputs": [
        {
          "output_type": "execute_result",
          "data": {
            "text/plain": [
              "[0.8723404255319149, 0.76, 0.84, 0.8, 0.88, 0.84]"
            ]
          },
          "metadata": {},
          "execution_count": 540
        }
      ]
    },
    {
      "cell_type": "markdown",
      "source": [
        "Gradient Boosting"
      ],
      "metadata": {
        "id": "Xh7wauFRkoin"
      }
    },
    {
      "cell_type": "code",
      "source": [
        "from sklearn.ensemble import GradientBoostingClassifier\n",
        "x=GradientBoostingClassifier(learning_rate=0.1,n_estimators=100)"
      ],
      "metadata": {
        "id": "jzdMTYfLkkw0"
      },
      "execution_count": 541,
      "outputs": []
    },
    {
      "cell_type": "code",
      "source": [
        "modelx=x.fit(X_train,y_train)\n",
        "predx=modelx.predict(X_test)"
      ],
      "metadata": {
        "id": "hR8mQ3haksZ8"
      },
      "execution_count": 542,
      "outputs": []
    },
    {
      "cell_type": "code",
      "source": [
        "cmx=confusion_matrix(y_test,predx)\n",
        "cmx"
      ],
      "metadata": {
        "colab": {
          "base_uri": "https://localhost:8080/"
        },
        "id": "6JVQjJE3kvjk",
        "outputId": "37fa51a4-229c-4a48-e46f-337fd72509c3"
      },
      "execution_count": 543,
      "outputs": [
        {
          "output_type": "execute_result",
          "data": {
            "text/plain": [
              "array([[35,  6],\n",
              "       [11, 39]])"
            ]
          },
          "metadata": {},
          "execution_count": 543
        }
      ]
    },
    {
      "cell_type": "code",
      "source": [
        "sns.heatmap(cmx,annot=True,cmap=\"YlGnBu\")"
      ],
      "metadata": {
        "colab": {
          "base_uri": "https://localhost:8080/",
          "height": 282
        },
        "id": "2BgEvbvmkz6g",
        "outputId": "aa65ed68-29ae-4830-c95b-7b232b72c218"
      },
      "execution_count": 544,
      "outputs": [
        {
          "output_type": "execute_result",
          "data": {
            "text/plain": [
              "<matplotlib.axes._subplots.AxesSubplot at 0x7fd769e2a650>"
            ]
          },
          "metadata": {},
          "execution_count": 544
        },
        {
          "output_type": "display_data",
          "data": {
            "text/plain": [
              "<Figure size 432x288 with 2 Axes>"
            ],
            "image/png": "[encoded data removed]"
          },
          "metadata": {}
        }
      ]
    },
    {
      "cell_type": "code",
      "source": [
        "print(classification_report(y_test,predx))"
      ],
      "metadata": {
        "colab": {
          "base_uri": "https://localhost:8080/"
        },
        "id": "csgZWRQjo7I7",
        "outputId": "9813bbac-ee5d-41f8-8e07-abab6f0dd96f"
      },
      "execution_count": 545,
      "outputs": [
        {
          "output_type": "stream",
          "name": "stdout",
          "text": [
            "              precision    recall  f1-score   support\n",
            "\n",
            "           0       0.76      0.85      0.80        41\n",
            "           1       0.87      0.78      0.82        50\n",
            "\n",
            "    accuracy                           0.81        91\n",
            "   macro avg       0.81      0.82      0.81        91\n",
            "weighted avg       0.82      0.81      0.81        91\n",
            "\n"
          ]
        }
      ]
    },
    {
      "cell_type": "code",
      "source": [
        "print(\"Accuracy Score : \",accuracy_score(y_test,predx))"
      ],
      "metadata": {
        "colab": {
          "base_uri": "https://localhost:8080/"
        },
        "id": "ltEEoBG9k2kH",
        "outputId": "e230f802-0b7e-491d-e597-5c84b867db97"
      },
      "execution_count": 546,
      "outputs": [
        {
          "output_type": "stream",
          "name": "stdout",
          "text": [
            "Accuracy Score :  0.8131868131868132\n"
          ]
        }
      ]
    },
    {
      "cell_type": "code",
      "source": [
        "accuracyGB=accuracy_score(y_test,predx)\n",
        "accuracy.append(accuracyGB)"
      ],
      "metadata": {
        "id": "GiA0qOS90_sW"
      },
      "execution_count": 547,
      "outputs": []
    },
    {
      "cell_type": "code",
      "source": [
        "print(\"r2-score : \",r2_score(y_test,predx))"
      ],
      "metadata": {
        "colab": {
          "base_uri": "https://localhost:8080/"
        },
        "id": "lyZQeW-S1q6w",
        "outputId": "30cad9db-4cb2-44ca-fef6-9bfc06ee5b8e"
      },
      "execution_count": 548,
      "outputs": [
        {
          "output_type": "stream",
          "name": "stdout",
          "text": [
            "r2-score :  0.24536585365853647\n"
          ]
        }
      ]
    },
    {
      "cell_type": "code",
      "source": [
        "r2scoreGB=r2_score(y_test,predx)\n",
        "R2_Score.append(r2scoreGB)"
      ],
      "metadata": {
        "id": "j-pnCnpp1xyH"
      },
      "execution_count": 549,
      "outputs": []
    },
    {
      "cell_type": "code",
      "source": [
        "print(\"Precision: \", metrics.precision_score(y_test, predx))"
      ],
      "metadata": {
        "colab": {
          "base_uri": "https://localhost:8080/"
        },
        "id": "vM-QID3gk_EI",
        "outputId": "a7d0a4a5-1ae4-4579-c1ee-7806a3b8d334"
      },
      "execution_count": 550,
      "outputs": [
        {
          "output_type": "stream",
          "name": "stdout",
          "text": [
            "Precision:  0.8666666666666667\n"
          ]
        }
      ]
    },
    {
      "cell_type": "code",
      "source": [
        "precisionGB=metrics.precision_score(y_test, predx)\n",
        "PRECISION.append(precisionGB)"
      ],
      "metadata": {
        "id": "ALnP5zZv1CAR"
      },
      "execution_count": 551,
      "outputs": []
    },
    {
      "cell_type": "code",
      "source": [
        "print(\"Recall: \", metrics.recall_score(y_test, predx))"
      ],
      "metadata": {
        "colab": {
          "base_uri": "https://localhost:8080/"
        },
        "id": "pgr036nClLyW",
        "outputId": "64ba9341-a8a3-4b2a-a78c-1bd37d192dec"
      },
      "execution_count": 552,
      "outputs": [
        {
          "output_type": "stream",
          "name": "stdout",
          "text": [
            "Recall:  0.78\n"
          ]
        }
      ]
    },
    {
      "cell_type": "code",
      "source": [
        "recallGB=metrics.recall_score(y_test, predx)\n",
        "RECALL.append(recallGB)"
      ],
      "metadata": {
        "id": "BjF3m4J51MHC"
      },
      "execution_count": 553,
      "outputs": []
    },
    {
      "cell_type": "code",
      "source": [
        "print(\"F1_SCORE :\",f1_score(y_test,predx))"
      ],
      "metadata": {
        "colab": {
          "base_uri": "https://localhost:8080/"
        },
        "id": "f7Zis0uhlNZY",
        "outputId": "65b17d89-8f49-4102-ef13-385ad20b410a"
      },
      "execution_count": 554,
      "outputs": [
        {
          "output_type": "stream",
          "name": "stdout",
          "text": [
            "F1_SCORE : 0.8210526315789474\n"
          ]
        }
      ]
    },
    {
      "cell_type": "code",
      "source": [
        "f1GB=f1_score(y_test,predx)\n",
        "F1_Score.append(f1GB)"
      ],
      "metadata": {
        "id": "Vxbegv4a1OAN"
      },
      "execution_count": 555,
      "outputs": []
    },
    {
      "cell_type": "code",
      "source": [
        "accuracy"
      ],
      "metadata": {
        "colab": {
          "base_uri": "https://localhost:8080/"
        },
        "id": "eKgev2Ts17GI",
        "outputId": "2b413559-df2e-46ec-9f3d-396ef631020e"
      },
      "execution_count": 556,
      "outputs": [
        {
          "output_type": "execute_result",
          "data": {
            "text/plain": [
              "[0.8351648351648352,\n",
              " 0.7472527472527473,\n",
              " 0.8021978021978022,\n",
              " 0.8241758241758241,\n",
              " 0.8571428571428571,\n",
              " 0.8241758241758241,\n",
              " 0.8131868131868132]"
            ]
          },
          "metadata": {},
          "execution_count": 556
        }
      ]
    },
    {
      "cell_type": "code",
      "source": [
        "accuracy_list=[element * 100 for element in accuracy]\n",
        "print(accuracy_list)"
      ],
      "metadata": {
        "colab": {
          "base_uri": "https://localhost:8080/"
        },
        "id": "LtVVDibBBJIl",
        "outputId": "51b9b0e3-5d78-49e2-f9a3-5f89a3f4d38e"
      },
      "execution_count": 607,
      "outputs": [
        {
          "output_type": "stream",
          "name": "stdout",
          "text": [
            "[83.51648351648352, 74.72527472527473, 80.21978021978022, 82.41758241758241, 85.71428571428571, 82.41758241758241, 81.31868131868131]\n"
          ]
        }
      ]
    },
    {
      "cell_type": "code",
      "source": [
        "sns.set_style(\"whitegrid\")\n",
        "plt.figure(figsize=(16,5))\n",
        "plt.yticks(np.arange(0,100,10))\n",
        "plt.ylabel(\"Accuracy in %\")\n",
        "plt.xlabel(\"Algorithm Name\")\n",
        "sns.barplot(y=accuracy_list,x=algorithms)\n",
        "plt.show()"
      ],
      "metadata": {
        "colab": {
          "base_uri": "https://localhost:8080/",
          "height": 338
        },
        "id": "uAUbdIFXBQ9V",
        "outputId": "a5596198-3486-401b-bb28-e47d4299ce28"
      },
      "execution_count": 608,
      "outputs": [
        {
          "output_type": "display_data",
          "data": {
            "text/plain": [
              "<Figure size 1152x360 with 1 Axes>"
            ],
            "image/png": "[encoded data removed]"
          },
          "metadata": {}
        }
      ]
    },
    {
      "cell_type": "code",
      "source": [
        "R2_Score"
      ],
      "metadata": {
        "colab": {
          "base_uri": "https://localhost:8080/"
        },
        "id": "lg1DnP1119WM",
        "outputId": "fad6ef31-a638-4428-a579-c3c626d49922"
      },
      "execution_count": 557,
      "outputs": [
        {
          "output_type": "execute_result",
          "data": {
            "text/plain": [
              "[0.3341463414634146,\n",
              " -0.02097560975609758,\n",
              " -0.02097560975609758,\n",
              " 0.28975609756097553,\n",
              " 0.4229268292682926,\n",
              " 0.28975609756097553,\n",
              " 0.24536585365853647]"
            ]
          },
          "metadata": {},
          "execution_count": 557
        }
      ]
    },
    {
      "cell_type": "code",
      "source": [
        "r2_list=[element * 100 for element in R2_Score]\n",
        "print(r2_list)"
      ],
      "metadata": {
        "colab": {
          "base_uri": "https://localhost:8080/"
        },
        "id": "eLfuvSLrA0bH",
        "outputId": "1c90412e-5ea1-430e-899b-e794000f1d2a"
      },
      "execution_count": 605,
      "outputs": [
        {
          "output_type": "stream",
          "name": "stdout",
          "text": [
            "[33.41463414634146, -2.097560975609758, -2.097560975609758, 28.975609756097555, 42.29268292682926, 28.975609756097555, 24.536585365853647]\n"
          ]
        }
      ]
    },
    {
      "cell_type": "code",
      "source": [
        "sns.set_style(\"whitegrid\")\n",
        "plt.figure(figsize=(16,5))\n",
        "plt.yticks(np.arange(0,100,10))\n",
        "plt.ylabel(\"R2_SCORE in %\")\n",
        "plt.xlabel(\"Algorithm Name\")\n",
        "sns.barplot(y=r2_list,x=algorithms)\n",
        "plt.show()"
      ],
      "metadata": {
        "colab": {
          "base_uri": "https://localhost:8080/",
          "height": 334
        },
        "id": "aNXv19BmBDE3",
        "outputId": "759d6759-8d4b-4ebc-f991-3ea95c39817a"
      },
      "execution_count": 609,
      "outputs": [
        {
          "output_type": "display_data",
          "data": {
            "text/plain": [
              "<Figure size 1152x360 with 1 Axes>"
            ],
            "image/png": "[encoded data removed]"
          },
          "metadata": {}
        }
      ]
    },
    {
      "cell_type": "code",
      "source": [
        "F1_Score"
      ],
      "metadata": {
        "colab": {
          "base_uri": "https://localhost:8080/"
        },
        "id": "kZWV8I4c1_vn",
        "outputId": "d97207c9-0b5c-47b3-adc7-cd49b51441cb"
      },
      "execution_count": 558,
      "outputs": [
        {
          "output_type": "execute_result",
          "data": {
            "text/plain": [
              "[0.8723404255319149,\n",
              " 0.7676767676767676,\n",
              " 0.8235294117647058,\n",
              " 0.8333333333333333,\n",
              " 0.8712871287128714,\n",
              " 0.8399999999999999,\n",
              " 0.8210526315789474]"
            ]
          },
          "metadata": {},
          "execution_count": 558
        }
      ]
    },
    {
      "cell_type": "code",
      "source": [
        "f1_list=[element * 100 for element in F1_Score]\n",
        "print(f1_list)"
      ],
      "metadata": {
        "colab": {
          "base_uri": "https://localhost:8080/"
        },
        "id": "jhqVmFiMAlRE",
        "outputId": "db567bab-6fa6-482c-cdc4-95727fb1b82b"
      },
      "execution_count": 603,
      "outputs": [
        {
          "output_type": "stream",
          "name": "stdout",
          "text": [
            "[87.2340425531915, 76.76767676767676, 82.35294117647058, 83.33333333333333, 87.12871287128714, 83.99999999999999, 82.10526315789474]\n"
          ]
        }
      ]
    },
    {
      "cell_type": "code",
      "source": [
        "sns.set_style(\"whitegrid\")\n",
        "plt.figure(figsize=(16,5))\n",
        "plt.yticks(np.arange(0,100,10))\n",
        "plt.ylabel(\"F1_SCORE in %\")\n",
        "plt.xlabel(\"Algorithm Name\")\n",
        "sns.barplot(y=f1_list,x=algorithms)\n",
        "plt.show()"
      ],
      "metadata": {
        "colab": {
          "base_uri": "https://localhost:8080/",
          "height": 334
        },
        "id": "xeAKZ8gPArWT",
        "outputId": "34bfe3da-02a9-42ee-bfdd-d9a62ecfaa14"
      },
      "execution_count": 604,
      "outputs": [
        {
          "output_type": "display_data",
          "data": {
            "text/plain": [
              "<Figure size 1152x360 with 1 Axes>"
            ],
            "image/png": "[encoded data removed]"
          },
          "metadata": {}
        }
      ]
    },
    {
      "cell_type": "code",
      "source": [
        "p_list=[element * 100 for element in PRECISION]\n",
        "print(p_list)"
      ],
      "metadata": {
        "colab": {
          "base_uri": "https://localhost:8080/"
        },
        "id": "d5xle8ZX2Bq4",
        "outputId": "19db5d05-bbcd-458a-e439-91abe001d5d7"
      },
      "execution_count": 599,
      "outputs": [
        {
          "output_type": "stream",
          "name": "stdout",
          "text": [
            "[87.2340425531915, 77.55102040816327, 80.76923076923077, 86.95652173913044, 86.27450980392157, 84.0, 86.66666666666667]\n"
          ]
        }
      ]
    },
    {
      "cell_type": "code",
      "source": [
        "sns.set_style(\"whitegrid\")\n",
        "plt.figure(figsize=(16,5))\n",
        "plt.yticks(np.arange(0,100,10))\n",
        "plt.ylabel(\"PRECISION in %\")\n",
        "plt.xlabel(\"Algorithm Name\")\n",
        "sns.barplot(y=p_list,x=algorithms)\n",
        "plt.show()"
      ],
      "metadata": {
        "colab": {
          "base_uri": "https://localhost:8080/",
          "height": 334
        },
        "id": "tQp3HaJeAdcp",
        "outputId": "09c0e5c1-0f40-4c0a-c4b1-283def6e3efa"
      },
      "execution_count": 600,
      "outputs": [
        {
          "output_type": "display_data",
          "data": {
            "text/plain": [
              "<Figure size 1152x360 with 1 Axes>"
            ],
            "image/png": "[encoded data removed]"
          },
          "metadata": {}
        }
      ]
    },
    {
      "cell_type": "code",
      "source": [
        "multiplied_list = [element * 100 for element in RECALL]\n",
        "\n",
        "print(multiplied_list)\n"
      ],
      "metadata": {
        "colab": {
          "base_uri": "https://localhost:8080/"
        },
        "id": "a36moANs2D0K",
        "outputId": "e33fd8a4-a033-4c9d-90b2-29dcd5f41322"
      },
      "execution_count": 597,
      "outputs": [
        {
          "output_type": "stream",
          "name": "stdout",
          "text": [
            "[87.2340425531915, 76.0, 84.0, 80.0, 88.0, 84.0, 78.0]\n"
          ]
        }
      ]
    },
    {
      "cell_type": "markdown",
      "source": [
        "Plotting the results"
      ],
      "metadata": {
        "id": "Gn5abAaM2XnC"
      }
    },
    {
      "cell_type": "code",
      "source": [
        "algorithms=['RANDOMFOREST','DecisionTree','KNN','Naive Bayes','Support Vector Machine','Logistic Regression','Gradient Boosting']\n",
        "algorithms"
      ],
      "metadata": {
        "colab": {
          "base_uri": "https://localhost:8080/"
        },
        "id": "r4oFPh8h2Ljb",
        "outputId": "ac8d343c-c74a-4739-dad1-567bc184e1f6"
      },
      "execution_count": 561,
      "outputs": [
        {
          "output_type": "execute_result",
          "data": {
            "text/plain": [
              "['RANDOMFOREST',\n",
              " 'DecisionTree',\n",
              " 'KNN',\n",
              " 'Naive Bayes',\n",
              " 'Support Vector Machine',\n",
              " 'Logistic Regression',\n",
              " 'Gradient Boosting']"
            ]
          },
          "metadata": {},
          "execution_count": 561
        }
      ]
    },
    {
      "cell_type": "code",
      "source": [
        "sns.set_style(\"whitegrid\")\n",
        "plt.figure(figsize=(16,5))\n",
        "plt.yticks(np.arange(0,100,10))\n",
        "plt.ylabel(\"RECALL in %\")\n",
        "plt.xlabel(\"Algorithm Name\")\n",
        "sns.barplot(y=multiplied_list,x=algorithms)\n",
        "plt.show()"
      ],
      "metadata": {
        "colab": {
          "base_uri": "https://localhost:8080/",
          "height": 334
        },
        "id": "K2kHTYfP_3NM",
        "outputId": "e60ab62f-d0f3-4673-efb2-87fe932faac9"
      },
      "execution_count": 598,
      "outputs": [
        {
          "output_type": "display_data",
          "data": {
            "text/plain": [
              "<Figure size 1152x360 with 1 Axes>"
            ],
            "image/png": "[encoded data removed]"
          },
          "metadata": {}
        }
      ]
    },
    {
      "cell_type": "markdown",
      "source": [
        "REGRESSION MODELS"
      ],
      "metadata": {
        "id": "VTOgVGD_dtqy"
      }
    },
    {
      "cell_type": "markdown",
      "source": [
        "LINEAR REGRESSION"
      ],
      "metadata": {
        "id": "6Tu1jiU6ZPQG"
      }
    },
    {
      "cell_type": "code",
      "source": [
        "from sklearn.linear_model import LinearRegression\n",
        "ml=LinearRegression()\n",
        "ml.fit(X_train,y_train)\n",
        "y_predicted=ml.predict(X_test)\n",
        "print(y_predicted)"
      ],
      "metadata": {
        "colab": {
          "base_uri": "https://localhost:8080/"
        },
        "id": "TNjP9a-iZSkp",
        "outputId": "e10cbe4f-3d13-4b04-8c8d-d464a97c7253"
      },
      "execution_count": 565,
      "outputs": [
        {
          "output_type": "stream",
          "name": "stdout",
          "text": [
            "[ 0.36691578  0.73958881  0.61293591 -0.02769693  0.91494186  0.86427591\n",
            "  0.53634022 -0.25385571 -0.06453892  0.50584198  0.73894987  0.42645904\n",
            "  0.82635792  0.14398833  0.9845227   0.95043723  0.9644093   0.21701184\n",
            " -0.15622474  0.0618949   0.7163089   0.01636035  0.53782282  0.63795825\n",
            "  0.79801588  0.57674712  1.04249866  0.51835726 -0.07106425  0.87357441\n",
            "  0.050823    0.10602193 -0.17212946  0.25696597  0.7995072   0.20806543\n",
            "  0.70358787  0.64305741  0.62240213  0.73549896  0.33567759  0.61737701\n",
            "  0.82557231  0.73183801  0.67974305 -0.37883008  0.66900021  0.83551276\n",
            "  0.25656233  0.03230488  0.05421369 -0.22453893  0.88013638  0.92587636\n",
            "  0.25545067 -0.30104763  0.08517722  0.94447296 -0.04015503 -0.21591557\n",
            "  0.31776079  0.84545321  0.31105751  0.65362905  0.78145946 -0.02179874\n",
            "  0.71491428  0.61369109  0.78504284  0.93055633  0.83779111  0.7384811\n",
            "  0.4563516   0.73251683  0.35534918  0.83253062  0.67884071  0.71681061\n",
            "  0.10731648 -0.08932348  0.34959423  0.29924851  0.72402931  0.54733949\n",
            "  0.57376498  0.1333892  -0.42275488  0.78980667  0.53953974  0.40412363\n",
            "  0.88128889]\n"
          ]
        }
      ]
    },
    {
      "cell_type": "code",
      "source": [
        "r2_score(y_test,y_predicted)"
      ],
      "metadata": {
        "colab": {
          "base_uri": "https://localhost:8080/"
        },
        "id": "2WwkGN1eZwFF",
        "outputId": "987b54d6-6b10-4f48-c3af-6457dc6b6481"
      },
      "execution_count": 566,
      "outputs": [
        {
          "output_type": "execute_result",
          "data": {
            "text/plain": [
              "0.36804811004281557"
            ]
          },
          "metadata": {},
          "execution_count": 566
        }
      ]
    },
    {
      "cell_type": "code",
      "source": [
        "#import matplotlib.pyplot as plt\n",
        "plt.figure(figsize=(15,10))\n",
        "plt.scatter(y_test,y_predicted)\n",
        "plt.xlabel(\"Actual\")\n",
        "plt.ylabel(\"Predicted\")\n",
        "plt.title(\"Actual vs Predicted\")"
      ],
      "metadata": {
        "colab": {
          "base_uri": "https://localhost:8080/",
          "height": 638
        },
        "id": "54DboyrzaNeA",
        "outputId": "739b915a-e874-4ced-966f-32f4c0249f96"
      },
      "execution_count": 567,
      "outputs": [
        {
          "output_type": "execute_result",
          "data": {
            "text/plain": [
              "Text(0.5, 1.0, 'Actual vs Predicted')"
            ]
          },
          "metadata": {},
          "execution_count": 567
        },
        {
          "output_type": "display_data",
          "data": {
            "text/plain": [
              "<Figure size 1080x720 with 1 Axes>"
            ],
            "image/png": "[encoded data removed]"
          },
          "metadata": {}
        }
      ]
    },
    {
      "cell_type": "code",
      "source": [
        "pred_y_df=pd.DataFrame({'Actual Value':y_test,'Predicted Value':y_predicted,'Difference':y_test-y_predicted})\n",
        "pred_y_df[0:20]"
      ],
      "metadata": {
        "colab": {
          "base_uri": "https://localhost:8080/",
          "height": 677
        },
        "id": "WfeinL0ZabHg",
        "outputId": "d8374cdf-fa48-4f4b-fc30-e6bdf2225ca6"
      },
      "execution_count": 568,
      "outputs": [
        {
          "output_type": "execute_result",
          "data": {
            "text/plain": [
              "     Actual Value  Predicted Value  Difference\n",
              "179             0         0.366916   -0.366916\n",
              "228             0         0.739589   -0.739589\n",
              "111             1         0.612936    0.387064\n",
              "246             0        -0.027697    0.027697\n",
              "60              1         0.914942    0.085058\n",
              "9               1         0.864276    0.135724\n",
              "119             1         0.536340    0.463660\n",
              "223             0        -0.253856    0.253856\n",
              "268             0        -0.064539    0.064539\n",
              "33              1         0.505842    0.494158\n",
              "5               1         0.738950    0.261050\n",
              "101             1         0.426459    0.573541\n",
              "45              1         0.826358    0.173642\n",
              "175             0         0.143988   -0.143988\n",
              "118             1         0.984523    0.015477\n",
              "46              1         0.950437    0.049563\n",
              "125             1         0.964409    0.035591\n",
              "192             0         0.217012   -0.217012\n",
              "285             0        -0.156225    0.156225\n",
              "279             0         0.061895   -0.061895"
            ],
            "text/html": [
              "\n",
              "  <div id=\"df-fc1e490f-7517-407c-b6b7-7aa44c1263d6\">\n",
              "    <div class=\"colab-df-container\">\n",
              "      <div>\n",
              "<style scoped>\n",
              "    .dataframe tbody tr th:only-of-type {\n",
              "        vertical-align: middle;\n",
              "    }\n",
              "\n",
              "    .dataframe tbody tr th {\n",
              "        vertical-align: top;\n",
              "    }\n",
              "\n",
              "    .dataframe thead th {\n",
              "        text-align: right;\n",
              "    }\n",
              "</style>\n",
              "<table border=\"1\" class=\"dataframe\">\n",
              "  <thead>\n",
              "    <tr style=\"text-align: right;\">\n",
              "      <th></th>\n",
              "      <th>Actual Value</th>\n",
              "      <th>Predicted Value</th>\n",
              "      <th>Difference</th>\n",
              "    </tr>\n",
              "  </thead>\n",
              "  <tbody>\n",
              "    <tr>\n",
              "      <th>179</th>\n",
              "      <td>0</td>\n",
              "      <td>0.366916</td>\n",
              "      <td>-0.366916</td>\n",
              "    </tr>\n",
              "    <tr>\n",
              "      <th>228</th>\n",
              "      <td>0</td>\n",
              "      <td>0.739589</td>\n",
              "      <td>-0.739589</td>\n",
              "    </tr>\n",
              "    <tr>\n",
              "      <th>111</th>\n",
              "      <td>1</td>\n",
              "      <td>0.612936</td>\n",
              "      <td>0.387064</td>\n",
              "    </tr>\n",
              "    <tr>\n",
              "      <th>246</th>\n",
              "      <td>0</td>\n",
              "      <td>-0.027697</td>\n",
              "      <td>0.027697</td>\n",
              "    </tr>\n",
              "    <tr>\n",
              "      <th>60</th>\n",
              "      <td>1</td>\n",
              "      <td>0.914942</td>\n",
              "      <td>0.085058</td>\n",
              "    </tr>\n",
              "    <tr>\n",
              "      <th>9</th>\n",
              "      <td>1</td>\n",
              "      <td>0.864276</td>\n",
              "      <td>0.135724</td>\n",
              "    </tr>\n",
              "    <tr>\n",
              "      <th>119</th>\n",
              "      <td>1</td>\n",
              "      <td>0.536340</td>\n",
              "      <td>0.463660</td>\n",
              "    </tr>\n",
              "    <tr>\n",
              "      <th>223</th>\n",
              "      <td>0</td>\n",
              "      <td>-0.253856</td>\n",
              "      <td>0.253856</td>\n",
              "    </tr>\n",
              "    <tr>\n",
              "      <th>268</th>\n",
              "      <td>0</td>\n",
              "      <td>-0.064539</td>\n",
              "      <td>0.064539</td>\n",
              "    </tr>\n",
              "    <tr>\n",
              "      <th>33</th>\n",
              "      <td>1</td>\n",
              "      <td>0.505842</td>\n",
              "      <td>0.494158</td>\n",
              "    </tr>\n",
              "    <tr>\n",
              "      <th>5</th>\n",
              "      <td>1</td>\n",
              "      <td>0.738950</td>\n",
              "      <td>0.261050</td>\n",
              "    </tr>\n",
              "    <tr>\n",
              "      <th>101</th>\n",
              "      <td>1</td>\n",
              "      <td>0.426459</td>\n",
              "      <td>0.573541</td>\n",
              "    </tr>\n",
              "    <tr>\n",
              "      <th>45</th>\n",
              "      <td>1</td>\n",
              "      <td>0.826358</td>\n",
              "      <td>0.173642</td>\n",
              "    </tr>\n",
              "    <tr>\n",
              "      <th>175</th>\n",
              "      <td>0</td>\n",
              "      <td>0.143988</td>\n",
              "      <td>-0.143988</td>\n",
              "    </tr>\n",
              "    <tr>\n",
              "      <th>118</th>\n",
              "      <td>1</td>\n",
              "      <td>0.984523</td>\n",
              "      <td>0.015477</td>\n",
              "    </tr>\n",
              "    <tr>\n",
              "      <th>46</th>\n",
              "      <td>1</td>\n",
              "      <td>0.950437</td>\n",
              "      <td>0.049563</td>\n",
              "    </tr>\n",
              "    <tr>\n",
              "      <th>125</th>\n",
              "      <td>1</td>\n",
              "      <td>0.964409</td>\n",
              "      <td>0.035591</td>\n",
              "    </tr>\n",
              "    <tr>\n",
              "      <th>192</th>\n",
              "      <td>0</td>\n",
              "      <td>0.217012</td>\n",
              "      <td>-0.217012</td>\n",
              "    </tr>\n",
              "    <tr>\n",
              "      <th>285</th>\n",
              "      <td>0</td>\n",
              "      <td>-0.156225</td>\n",
              "      <td>0.156225</td>\n",
              "    </tr>\n",
              "    <tr>\n",
              "      <th>279</th>\n",
              "      <td>0</td>\n",
              "      <td>0.061895</td>\n",
              "      <td>-0.061895</td>\n",
              "    </tr>\n",
              "  </tbody>\n",
              "</table>\n",
              "</div>\n",
              "      <button class=\"colab-df-convert\" onclick=\"convertToInteractive('df-fc1e490f-7517-407c-b6b7-7aa44c1263d6')\"\n",
              "              title=\"Convert this dataframe to an interactive table.\"\n",
              "              style=\"display:none;\">\n",
              "        \n",
              "  <svg xmlns=\"http://www.w3.org/2000/svg\" height=\"24px\"viewBox=\"0 0 24 24\"\n",
              "       width=\"24px\">\n",
              "    <path d=\"M0 0h24v24H0V0z\" fill=\"none\"/>\n",
              "    <path d=\"M18.56 5.44l.94 2.06.94-2.06 2.06-.94-2.06-.94-.94-2.06-.94 2.06-2.06.94zm-11 1L8.5 8.5l.94-2.06 2.06-.94-2.06-.94L8.5 2.5l-.94 2.06-2.06.94zm10 10l.94 2.06.94-2.06 2.06-.94-2.06-.94-.94-2.06-.94 2.06-2.06.94z\"/><path d=\"M17.41 7.96l-1.37-1.37c-.4-.4-.92-.59-1.43-.59-.52 0-1.04.2-1.43.59L10.3 9.45l-7.72 7.72c-.78.78-.78 2.05 0 2.83L4 21.41c.39.39.9.59 1.41.59.51 0 1.02-.2 1.41-.59l7.78-7.78 2.81-2.81c.8-.78.8-2.07 0-2.86zM5.41 20L4 18.59l7.72-7.72 1.47 1.35L5.41 20z\"/>\n",
              "  </svg>\n",
              "      </button>\n",
              "      \n",
              "  <style>\n",
              "    .colab-df-container {\n",
              "      display:flex;\n",
              "      flex-wrap:wrap;\n",
              "      gap: 12px;\n",
              "    }\n",
              "\n",
              "    .colab-df-convert {\n",
              "      background-color: #E8F0FE;\n",
              "      border: none;\n",
              "      border-radius: 50%;\n",
              "      cursor: pointer;\n",
              "      display: none;\n",
              "      fill: #1967D2;\n",
              "      height: 32px;\n",
              "      padding: 0 0 0 0;\n",
              "      width: 32px;\n",
              "    }\n",
              "\n",
              "    .colab-df-convert:hover {\n",
              "      background-color: #E2EBFA;\n",
              "      box-shadow: 0px 1px 2px rgba(60, 64, 67, 0.3), 0px 1px 3px 1px rgba(60, 64, 67, 0.15);\n",
              "      fill: #174EA6;\n",
              "    }\n",
              "\n",
              "    [theme=dark] .colab-df-convert {\n",
              "      background-color: #3B4455;\n",
              "      fill: #D2E3FC;\n",
              "    }\n",
              "\n",
              "    [theme=dark] .colab-df-convert:hover {\n",
              "      background-color: #434B5C;\n",
              "      box-shadow: 0px 1px 3px 1px rgba(0, 0, 0, 0.15);\n",
              "      filter: drop-shadow(0px 1px 2px rgba(0, 0, 0, 0.3));\n",
              "      fill: #FFFFFF;\n",
              "    }\n",
              "  </style>\n",
              "\n",
              "      <script>\n",
              "        const buttonEl =\n",
              "          document.querySelector('#df-fc1e490f-7517-407c-b6b7-7aa44c1263d6 button.colab-df-convert');\n",
              "        buttonEl.style.display =\n",
              "          google.colab.kernel.accessAllowed ? 'block' : 'none';\n",
              "\n",
              "        async function convertToInteractive(key) {\n",
              "          const element = document.querySelector('#df-fc1e490f-7517-407c-b6b7-7aa44c1263d6');\n",
              "          const dataTable =\n",
              "            await google.colab.kernel.invokeFunction('convertToInteractive',\n",
              "                                                     [key], {});\n",
              "          if (!dataTable) return;\n",
              "\n",
              "          const docLinkHtml = 'Like what you see? Visit the ' +\n",
              "            '<a target=\"_blank\" href=https://colab.research.google.com/notebooks/data_table.ipynb>data table notebook</a>'\n",
              "            + ' to learn more about interactive tables.';\n",
              "          element.innerHTML = '';\n",
              "          dataTable['output_type'] = 'display_data';\n",
              "          await google.colab.output.renderOutput(dataTable, element);\n",
              "          const docLink = document.createElement('div');\n",
              "          docLink.innerHTML = docLinkHtml;\n",
              "          element.appendChild(docLink);\n",
              "        }\n",
              "      </script>\n",
              "    </div>\n",
              "  </div>\n",
              "  "
            ]
          },
          "metadata": {},
          "execution_count": 568
        }
      ]
    },
    {
      "cell_type": "code",
      "source": [
        "from sklearn import metrics"
      ],
      "metadata": {
        "id": "AfzlK-5Gc8xB"
      },
      "execution_count": 569,
      "outputs": []
    },
    {
      "cell_type": "code",
      "source": [
        "print('MAE: ', metrics.mean_absolute_error(y_test,y_predicted) )\n",
        "print('MSE: ', metrics.mean_squared_error(y_test,y_predicted) )\n",
        "print('RMSE: ', np.sqrt(metrics.mean_absolute_error(y_test,y_predicted)))"
      ],
      "metadata": {
        "colab": {
          "base_uri": "https://localhost:8080/"
        },
        "id": "w31YWTUOalSW",
        "outputId": "ad97e2f3-c9d5-45bc-e7bd-51947b9b5318"
      },
      "execution_count": 570,
      "outputs": [
        {
          "output_type": "stream",
          "name": "stdout",
          "text": [
            "MAE:  0.3145132553206479\n",
            "MSE:  0.15644262461203093\n",
            "RMSE:  0.5608148137492873\n"
          ]
        }
      ]
    },
    {
      "cell_type": "markdown",
      "source": [
        "POLYNOMIAL REGRESSION"
      ],
      "metadata": {
        "id": "GLVImzPedxKm"
      }
    },
    {
      "cell_type": "code",
      "source": [
        "from sklearn.preprocessing import PolynomialFeatures\n",
        "from sklearn.pipeline import make_pipeline"
      ],
      "metadata": {
        "id": "nIQ-YqcTd05j"
      },
      "execution_count": 571,
      "outputs": []
    },
    {
      "cell_type": "code",
      "source": [
        "X_seq = np.linspace(X_train.min(), X_train.max(), 100). reshape(-1,1)"
      ],
      "metadata": {
        "id": "R81wfiHzeIb0"
      },
      "execution_count": 572,
      "outputs": []
    },
    {
      "cell_type": "code",
      "source": [
        "X_seq"
      ],
      "metadata": {
        "colab": {
          "base_uri": "https://localhost:8080/"
        },
        "id": "py29vVMgiiXZ",
        "outputId": "af97a62b-1b98-4941-9e70-35aafca2a831"
      },
      "execution_count": 573,
      "outputs": [
        {
          "output_type": "execute_result",
          "data": {
            "text/plain": [
              "array([[2.90000000e+01],\n",
              "       [0.00000000e+00],\n",
              "       [0.00000000e+00],\n",
              "       [0.00000000e+00],\n",
              "       [0.00000000e+00],\n",
              "       [0.00000000e+00],\n",
              "       [0.00000000e+00],\n",
              "       [0.00000000e+00],\n",
              "       [2.94848485e+01],\n",
              "       [1.01010101e-02],\n",
              "       [3.03030303e-02],\n",
              "       [1.01010101e-02],\n",
              "       [5.65656566e-02],\n",
              "       [2.02020202e-02],\n",
              "       [4.04040404e-02],\n",
              "       [3.03030303e-02],\n",
              "       [2.99696970e+01],\n",
              "       [2.02020202e-02],\n",
              "       [6.06060606e-02],\n",
              "       [2.02020202e-02],\n",
              "       [1.13131313e-01],\n",
              "       [4.04040404e-02],\n",
              "       [8.08080808e-02],\n",
              "       [6.06060606e-02],\n",
              "       [3.04545455e+01],\n",
              "       [3.03030303e-02],\n",
              "       [9.09090909e-02],\n",
              "       [3.03030303e-02],\n",
              "       [1.69696970e-01],\n",
              "       [6.06060606e-02],\n",
              "       [1.21212121e-01],\n",
              "       [9.09090909e-02],\n",
              "       [3.09393939e+01],\n",
              "       [4.04040404e-02],\n",
              "       [1.21212121e-01],\n",
              "       [4.04040404e-02],\n",
              "       [2.26262626e-01],\n",
              "       [8.08080808e-02],\n",
              "       [1.61616162e-01],\n",
              "       [1.21212121e-01],\n",
              "       [3.14242424e+01],\n",
              "       [5.05050505e-02],\n",
              "       [1.51515152e-01],\n",
              "       [5.05050505e-02],\n",
              "       [2.82828283e-01],\n",
              "       [1.01010101e-01],\n",
              "       [2.02020202e-01],\n",
              "       [1.51515152e-01],\n",
              "       [3.19090909e+01],\n",
              "       [6.06060606e-02],\n",
              "       [1.81818182e-01],\n",
              "       [6.06060606e-02],\n",
              "       [3.39393939e-01],\n",
              "       [1.21212121e-01],\n",
              "       [2.42424242e-01],\n",
              "       [1.81818182e-01],\n",
              "       [3.23939394e+01],\n",
              "       [7.07070707e-02],\n",
              "       [2.12121212e-01],\n",
              "       [7.07070707e-02],\n",
              "       [3.95959596e-01],\n",
              "       [1.41414141e-01],\n",
              "       [2.82828283e-01],\n",
              "       [2.12121212e-01],\n",
              "       [3.28787879e+01],\n",
              "       [8.08080808e-02],\n",
              "       [2.42424242e-01],\n",
              "       [8.08080808e-02],\n",
              "       [4.52525253e-01],\n",
              "       [1.61616162e-01],\n",
              "       [3.23232323e-01],\n",
              "       [2.42424242e-01],\n",
              "       [3.33636364e+01],\n",
              "       [9.09090909e-02],\n",
              "       [2.72727273e-01],\n",
              "       [9.09090909e-02],\n",
              "       [5.09090909e-01],\n",
              "       [1.81818182e-01],\n",
              "       [3.63636364e-01],\n",
              "       [2.72727273e-01],\n",
              "       [3.38484848e+01],\n",
              "       [1.01010101e-01],\n",
              "       [3.03030303e-01],\n",
              "       [1.01010101e-01],\n",
              "       [5.65656566e-01],\n",
              "       [2.02020202e-01],\n",
              "       [4.04040404e-01],\n",
              "       [3.03030303e-01],\n",
              "       [3.43333333e+01],\n",
              "       [1.11111111e-01],\n",
              "       [3.33333333e-01],\n",
              "       [1.11111111e-01],\n",
              "       [6.22222222e-01],\n",
              "       [2.22222222e-01],\n",
              "       [4.44444444e-01],\n",
              "       [3.33333333e-01],\n",
              "       [3.48181818e+01],\n",
              "       [1.21212121e-01],\n",
              "       [3.63636364e-01],\n",
              "       [1.21212121e-01],\n",
              "       [6.78787879e-01],\n",
              "       [2.42424242e-01],\n",
              "       [4.84848485e-01],\n",
              "       [3.63636364e-01],\n",
              "       [3.53030303e+01],\n",
              "       [1.31313131e-01],\n",
              "       [3.93939394e-01],\n",
              "       [1.31313131e-01],\n",
              "       [7.35353535e-01],\n",
              "       [2.62626263e-01],\n",
              "       [5.25252525e-01],\n",
              "       [3.93939394e-01],\n",
              "       [3.57878788e+01],\n",
              "       [1.41414141e-01],\n",
              "       [4.24242424e-01],\n",
              "       [1.41414141e-01],\n",
              "       [7.91919192e-01],\n",
              "       [2.82828283e-01],\n",
              "       [5.65656566e-01],\n",
              "       [4.24242424e-01],\n",
              "       [3.62727273e+01],\n",
              "       [1.51515152e-01],\n",
              "       [4.54545455e-01],\n",
              "       [1.51515152e-01],\n",
              "       [8.48484848e-01],\n",
              "       [3.03030303e-01],\n",
              "       [6.06060606e-01],\n",
              "       [4.54545455e-01],\n",
              "       [3.67575758e+01],\n",
              "       [1.61616162e-01],\n",
              "       [4.84848485e-01],\n",
              "       [1.61616162e-01],\n",
              "       [9.05050505e-01],\n",
              "       [3.23232323e-01],\n",
              "       [6.46464646e-01],\n",
              "       [4.84848485e-01],\n",
              "       [3.72424242e+01],\n",
              "       [1.71717172e-01],\n",
              "       [5.15151515e-01],\n",
              "       [1.71717172e-01],\n",
              "       [9.61616162e-01],\n",
              "       [3.43434343e-01],\n",
              "       [6.86868687e-01],\n",
              "       [5.15151515e-01],\n",
              "       [3.77272727e+01],\n",
              "       [1.81818182e-01],\n",
              "       [5.45454545e-01],\n",
              "       [1.81818182e-01],\n",
              "       [1.01818182e+00],\n",
              "       [3.63636364e-01],\n",
              "       [7.27272727e-01],\n",
              "       [5.45454545e-01],\n",
              "       [3.82121212e+01],\n",
              "       [1.91919192e-01],\n",
              "       [5.75757576e-01],\n",
              "       [1.91919192e-01],\n",
              "       [1.07474747e+00],\n",
              "       [3.83838384e-01],\n",
              "       [7.67676768e-01],\n",
              "       [5.75757576e-01],\n",
              "       [3.86969697e+01],\n",
              "       [2.02020202e-01],\n",
              "       [6.06060606e-01],\n",
              "       [2.02020202e-01],\n",
              "       [1.13131313e+00],\n",
              "       [4.04040404e-01],\n",
              "       [8.08080808e-01],\n",
              "       [6.06060606e-01],\n",
              "       [3.91818182e+01],\n",
              "       [2.12121212e-01],\n",
              "       [6.36363636e-01],\n",
              "       [2.12121212e-01],\n",
              "       [1.18787879e+00],\n",
              "       [4.24242424e-01],\n",
              "       [8.48484848e-01],\n",
              "       [6.36363636e-01],\n",
              "       [3.96666667e+01],\n",
              "       [2.22222222e-01],\n",
              "       [6.66666667e-01],\n",
              "       [2.22222222e-01],\n",
              "       [1.24444444e+00],\n",
              "       [4.44444444e-01],\n",
              "       [8.88888889e-01],\n",
              "       [6.66666667e-01],\n",
              "       [4.01515152e+01],\n",
              "       [2.32323232e-01],\n",
              "       [6.96969697e-01],\n",
              "       [2.32323232e-01],\n",
              "       [1.30101010e+00],\n",
              "       [4.64646465e-01],\n",
              "       [9.29292929e-01],\n",
              "       [6.96969697e-01],\n",
              "       [4.06363636e+01],\n",
              "       [2.42424242e-01],\n",
              "       [7.27272727e-01],\n",
              "       [2.42424242e-01],\n",
              "       [1.35757576e+00],\n",
              "       [4.84848485e-01],\n",
              "       [9.69696970e-01],\n",
              "       [7.27272727e-01],\n",
              "       [4.11212121e+01],\n",
              "       [2.52525253e-01],\n",
              "       [7.57575758e-01],\n",
              "       [2.52525253e-01],\n",
              "       [1.41414141e+00],\n",
              "       [5.05050505e-01],\n",
              "       [1.01010101e+00],\n",
              "       [7.57575758e-01],\n",
              "       [4.16060606e+01],\n",
              "       [2.62626263e-01],\n",
              "       [7.87878788e-01],\n",
              "       [2.62626263e-01],\n",
              "       [1.47070707e+00],\n",
              "       [5.25252525e-01],\n",
              "       [1.05050505e+00],\n",
              "       [7.87878788e-01],\n",
              "       [4.20909091e+01],\n",
              "       [2.72727273e-01],\n",
              "       [8.18181818e-01],\n",
              "       [2.72727273e-01],\n",
              "       [1.52727273e+00],\n",
              "       [5.45454545e-01],\n",
              "       [1.09090909e+00],\n",
              "       [8.18181818e-01],\n",
              "       [4.25757576e+01],\n",
              "       [2.82828283e-01],\n",
              "       [8.48484848e-01],\n",
              "       [2.82828283e-01],\n",
              "       [1.58383838e+00],\n",
              "       [5.65656566e-01],\n",
              "       [1.13131313e+00],\n",
              "       [8.48484848e-01],\n",
              "       [4.30606061e+01],\n",
              "       [2.92929293e-01],\n",
              "       [8.78787879e-01],\n",
              "       [2.92929293e-01],\n",
              "       [1.64040404e+00],\n",
              "       [5.85858586e-01],\n",
              "       [1.17171717e+00],\n",
              "       [8.78787879e-01],\n",
              "       [4.35454545e+01],\n",
              "       [3.03030303e-01],\n",
              "       [9.09090909e-01],\n",
              "       [3.03030303e-01],\n",
              "       [1.69696970e+00],\n",
              "       [6.06060606e-01],\n",
              "       [1.21212121e+00],\n",
              "       [9.09090909e-01],\n",
              "       [4.40303030e+01],\n",
              "       [3.13131313e-01],\n",
              "       [9.39393939e-01],\n",
              "       [3.13131313e-01],\n",
              "       [1.75353535e+00],\n",
              "       [6.26262626e-01],\n",
              "       [1.25252525e+00],\n",
              "       [9.39393939e-01],\n",
              "       [4.45151515e+01],\n",
              "       [3.23232323e-01],\n",
              "       [9.69696970e-01],\n",
              "       [3.23232323e-01],\n",
              "       [1.81010101e+00],\n",
              "       [6.46464646e-01],\n",
              "       [1.29292929e+00],\n",
              "       [9.69696970e-01],\n",
              "       [4.50000000e+01],\n",
              "       [3.33333333e-01],\n",
              "       [1.00000000e+00],\n",
              "       [3.33333333e-01],\n",
              "       [1.86666667e+00],\n",
              "       [6.66666667e-01],\n",
              "       [1.33333333e+00],\n",
              "       [1.00000000e+00],\n",
              "       [4.54848485e+01],\n",
              "       [3.43434343e-01],\n",
              "       [1.03030303e+00],\n",
              "       [3.43434343e-01],\n",
              "       [1.92323232e+00],\n",
              "       [6.86868687e-01],\n",
              "       [1.37373737e+00],\n",
              "       [1.03030303e+00],\n",
              "       [4.59696970e+01],\n",
              "       [3.53535354e-01],\n",
              "       [1.06060606e+00],\n",
              "       [3.53535354e-01],\n",
              "       [1.97979798e+00],\n",
              "       [7.07070707e-01],\n",
              "       [1.41414141e+00],\n",
              "       [1.06060606e+00],\n",
              "       [4.64545455e+01],\n",
              "       [3.63636364e-01],\n",
              "       [1.09090909e+00],\n",
              "       [3.63636364e-01],\n",
              "       [2.03636364e+00],\n",
              "       [7.27272727e-01],\n",
              "       [1.45454545e+00],\n",
              "       [1.09090909e+00],\n",
              "       [4.69393939e+01],\n",
              "       [3.73737374e-01],\n",
              "       [1.12121212e+00],\n",
              "       [3.73737374e-01],\n",
              "       [2.09292929e+00],\n",
              "       [7.47474747e-01],\n",
              "       [1.49494949e+00],\n",
              "       [1.12121212e+00],\n",
              "       [4.74242424e+01],\n",
              "       [3.83838384e-01],\n",
              "       [1.15151515e+00],\n",
              "       [3.83838384e-01],\n",
              "       [2.14949495e+00],\n",
              "       [7.67676768e-01],\n",
              "       [1.53535354e+00],\n",
              "       [1.15151515e+00],\n",
              "       [4.79090909e+01],\n",
              "       [3.93939394e-01],\n",
              "       [1.18181818e+00],\n",
              "       [3.93939394e-01],\n",
              "       [2.20606061e+00],\n",
              "       [7.87878788e-01],\n",
              "       [1.57575758e+00],\n",
              "       [1.18181818e+00],\n",
              "       [4.83939394e+01],\n",
              "       [4.04040404e-01],\n",
              "       [1.21212121e+00],\n",
              "       [4.04040404e-01],\n",
              "       [2.26262626e+00],\n",
              "       [8.08080808e-01],\n",
              "       [1.61616162e+00],\n",
              "       [1.21212121e+00],\n",
              "       [4.88787879e+01],\n",
              "       [4.14141414e-01],\n",
              "       [1.24242424e+00],\n",
              "       [4.14141414e-01],\n",
              "       [2.31919192e+00],\n",
              "       [8.28282828e-01],\n",
              "       [1.65656566e+00],\n",
              "       [1.24242424e+00],\n",
              "       [4.93636364e+01],\n",
              "       [4.24242424e-01],\n",
              "       [1.27272727e+00],\n",
              "       [4.24242424e-01],\n",
              "       [2.37575758e+00],\n",
              "       [8.48484848e-01],\n",
              "       [1.69696970e+00],\n",
              "       [1.27272727e+00],\n",
              "       [4.98484848e+01],\n",
              "       [4.34343434e-01],\n",
              "       [1.30303030e+00],\n",
              "       [4.34343434e-01],\n",
              "       [2.43232323e+00],\n",
              "       [8.68686869e-01],\n",
              "       [1.73737374e+00],\n",
              "       [1.30303030e+00],\n",
              "       [5.03333333e+01],\n",
              "       [4.44444444e-01],\n",
              "       [1.33333333e+00],\n",
              "       [4.44444444e-01],\n",
              "       [2.48888889e+00],\n",
              "       [8.88888889e-01],\n",
              "       [1.77777778e+00],\n",
              "       [1.33333333e+00],\n",
              "       [5.08181818e+01],\n",
              "       [4.54545455e-01],\n",
              "       [1.36363636e+00],\n",
              "       [4.54545455e-01],\n",
              "       [2.54545455e+00],\n",
              "       [9.09090909e-01],\n",
              "       [1.81818182e+00],\n",
              "       [1.36363636e+00],\n",
              "       [5.13030303e+01],\n",
              "       [4.64646465e-01],\n",
              "       [1.39393939e+00],\n",
              "       [4.64646465e-01],\n",
              "       [2.60202020e+00],\n",
              "       [9.29292929e-01],\n",
              "       [1.85858586e+00],\n",
              "       [1.39393939e+00],\n",
              "       [5.17878788e+01],\n",
              "       [4.74747475e-01],\n",
              "       [1.42424242e+00],\n",
              "       [4.74747475e-01],\n",
              "       [2.65858586e+00],\n",
              "       [9.49494949e-01],\n",
              "       [1.89898990e+00],\n",
              "       [1.42424242e+00],\n",
              "       [5.22727273e+01],\n",
              "       [4.84848485e-01],\n",
              "       [1.45454545e+00],\n",
              "       [4.84848485e-01],\n",
              "       [2.71515152e+00],\n",
              "       [9.69696970e-01],\n",
              "       [1.93939394e+00],\n",
              "       [1.45454545e+00],\n",
              "       [5.27575758e+01],\n",
              "       [4.94949495e-01],\n",
              "       [1.48484848e+00],\n",
              "       [4.94949495e-01],\n",
              "       [2.77171717e+00],\n",
              "       [9.89898990e-01],\n",
              "       [1.97979798e+00],\n",
              "       [1.48484848e+00],\n",
              "       [5.32424242e+01],\n",
              "       [5.05050505e-01],\n",
              "       [1.51515152e+00],\n",
              "       [5.05050505e-01],\n",
              "       [2.82828283e+00],\n",
              "       [1.01010101e+00],\n",
              "       [2.02020202e+00],\n",
              "       [1.51515152e+00],\n",
              "       [5.37272727e+01],\n",
              "       [5.15151515e-01],\n",
              "       [1.54545455e+00],\n",
              "       [5.15151515e-01],\n",
              "       [2.88484848e+00],\n",
              "       [1.03030303e+00],\n",
              "       [2.06060606e+00],\n",
              "       [1.54545455e+00],\n",
              "       [5.42121212e+01],\n",
              "       [5.25252525e-01],\n",
              "       [1.57575758e+00],\n",
              "       [5.25252525e-01],\n",
              "       [2.94141414e+00],\n",
              "       [1.05050505e+00],\n",
              "       [2.10101010e+00],\n",
              "       [1.57575758e+00],\n",
              "       [5.46969697e+01],\n",
              "       [5.35353535e-01],\n",
              "       [1.60606061e+00],\n",
              "       [5.35353535e-01],\n",
              "       [2.99797980e+00],\n",
              "       [1.07070707e+00],\n",
              "       [2.14141414e+00],\n",
              "       [1.60606061e+00],\n",
              "       [5.51818182e+01],\n",
              "       [5.45454545e-01],\n",
              "       [1.63636364e+00],\n",
              "       [5.45454545e-01],\n",
              "       [3.05454545e+00],\n",
              "       [1.09090909e+00],\n",
              "       [2.18181818e+00],\n",
              "       [1.63636364e+00],\n",
              "       [5.56666667e+01],\n",
              "       [5.55555556e-01],\n",
              "       [1.66666667e+00],\n",
              "       [5.55555556e-01],\n",
              "       [3.11111111e+00],\n",
              "       [1.11111111e+00],\n",
              "       [2.22222222e+00],\n",
              "       [1.66666667e+00],\n",
              "       [5.61515152e+01],\n",
              "       [5.65656566e-01],\n",
              "       [1.69696970e+00],\n",
              "       [5.65656566e-01],\n",
              "       [3.16767677e+00],\n",
              "       [1.13131313e+00],\n",
              "       [2.26262626e+00],\n",
              "       [1.69696970e+00],\n",
              "       [5.66363636e+01],\n",
              "       [5.75757576e-01],\n",
              "       [1.72727273e+00],\n",
              "       [5.75757576e-01],\n",
              "       [3.22424242e+00],\n",
              "       [1.15151515e+00],\n",
              "       [2.30303030e+00],\n",
              "       [1.72727273e+00],\n",
              "       [5.71212121e+01],\n",
              "       [5.85858586e-01],\n",
              "       [1.75757576e+00],\n",
              "       [5.85858586e-01],\n",
              "       [3.28080808e+00],\n",
              "       [1.17171717e+00],\n",
              "       [2.34343434e+00],\n",
              "       [1.75757576e+00],\n",
              "       [5.76060606e+01],\n",
              "       [5.95959596e-01],\n",
              "       [1.78787879e+00],\n",
              "       [5.95959596e-01],\n",
              "       [3.33737374e+00],\n",
              "       [1.19191919e+00],\n",
              "       [2.38383838e+00],\n",
              "       [1.78787879e+00],\n",
              "       [5.80909091e+01],\n",
              "       [6.06060606e-01],\n",
              "       [1.81818182e+00],\n",
              "       [6.06060606e-01],\n",
              "       [3.39393939e+00],\n",
              "       [1.21212121e+00],\n",
              "       [2.42424242e+00],\n",
              "       [1.81818182e+00],\n",
              "       [5.85757576e+01],\n",
              "       [6.16161616e-01],\n",
              "       [1.84848485e+00],\n",
              "       [6.16161616e-01],\n",
              "       [3.45050505e+00],\n",
              "       [1.23232323e+00],\n",
              "       [2.46464646e+00],\n",
              "       [1.84848485e+00],\n",
              "       [5.90606061e+01],\n",
              "       [6.26262626e-01],\n",
              "       [1.87878788e+00],\n",
              "       [6.26262626e-01],\n",
              "       [3.50707071e+00],\n",
              "       [1.25252525e+00],\n",
              "       [2.50505051e+00],\n",
              "       [1.87878788e+00],\n",
              "       [5.95454545e+01],\n",
              "       [6.36363636e-01],\n",
              "       [1.90909091e+00],\n",
              "       [6.36363636e-01],\n",
              "       [3.56363636e+00],\n",
              "       [1.27272727e+00],\n",
              "       [2.54545455e+00],\n",
              "       [1.90909091e+00],\n",
              "       [6.00303030e+01],\n",
              "       [6.46464646e-01],\n",
              "       [1.93939394e+00],\n",
              "       [6.46464646e-01],\n",
              "       [3.62020202e+00],\n",
              "       [1.29292929e+00],\n",
              "       [2.58585859e+00],\n",
              "       [1.93939394e+00],\n",
              "       [6.05151515e+01],\n",
              "       [6.56565657e-01],\n",
              "       [1.96969697e+00],\n",
              "       [6.56565657e-01],\n",
              "       [3.67676768e+00],\n",
              "       [1.31313131e+00],\n",
              "       [2.62626263e+00],\n",
              "       [1.96969697e+00],\n",
              "       [6.10000000e+01],\n",
              "       [6.66666667e-01],\n",
              "       [2.00000000e+00],\n",
              "       [6.66666667e-01],\n",
              "       [3.73333333e+00],\n",
              "       [1.33333333e+00],\n",
              "       [2.66666667e+00],\n",
              "       [2.00000000e+00],\n",
              "       [6.14848485e+01],\n",
              "       [6.76767677e-01],\n",
              "       [2.03030303e+00],\n",
              "       [6.76767677e-01],\n",
              "       [3.78989899e+00],\n",
              "       [1.35353535e+00],\n",
              "       [2.70707071e+00],\n",
              "       [2.03030303e+00],\n",
              "       [6.19696970e+01],\n",
              "       [6.86868687e-01],\n",
              "       [2.06060606e+00],\n",
              "       [6.86868687e-01],\n",
              "       [3.84646465e+00],\n",
              "       [1.37373737e+00],\n",
              "       [2.74747475e+00],\n",
              "       [2.06060606e+00],\n",
              "       [6.24545455e+01],\n",
              "       [6.96969697e-01],\n",
              "       [2.09090909e+00],\n",
              "       [6.96969697e-01],\n",
              "       [3.90303030e+00],\n",
              "       [1.39393939e+00],\n",
              "       [2.78787879e+00],\n",
              "       [2.09090909e+00],\n",
              "       [6.29393939e+01],\n",
              "       [7.07070707e-01],\n",
              "       [2.12121212e+00],\n",
              "       [7.07070707e-01],\n",
              "       [3.95959596e+00],\n",
              "       [1.41414141e+00],\n",
              "       [2.82828283e+00],\n",
              "       [2.12121212e+00],\n",
              "       [6.34242424e+01],\n",
              "       [7.17171717e-01],\n",
              "       [2.15151515e+00],\n",
              "       [7.17171717e-01],\n",
              "       [4.01616162e+00],\n",
              "       [1.43434343e+00],\n",
              "       [2.86868687e+00],\n",
              "       [2.15151515e+00],\n",
              "       [6.39090909e+01],\n",
              "       [7.27272727e-01],\n",
              "       [2.18181818e+00],\n",
              "       [7.27272727e-01],\n",
              "       [4.07272727e+00],\n",
              "       [1.45454545e+00],\n",
              "       [2.90909091e+00],\n",
              "       [2.18181818e+00],\n",
              "       [6.43939394e+01],\n",
              "       [7.37373737e-01],\n",
              "       [2.21212121e+00],\n",
              "       [7.37373737e-01],\n",
              "       [4.12929293e+00],\n",
              "       [1.47474747e+00],\n",
              "       [2.94949495e+00],\n",
              "       [2.21212121e+00],\n",
              "       [6.48787879e+01],\n",
              "       [7.47474747e-01],\n",
              "       [2.24242424e+00],\n",
              "       [7.47474747e-01],\n",
              "       [4.18585859e+00],\n",
              "       [1.49494949e+00],\n",
              "       [2.98989899e+00],\n",
              "       [2.24242424e+00],\n",
              "       [6.53636364e+01],\n",
              "       [7.57575758e-01],\n",
              "       [2.27272727e+00],\n",
              "       [7.57575758e-01],\n",
              "       [4.24242424e+00],\n",
              "       [1.51515152e+00],\n",
              "       [3.03030303e+00],\n",
              "       [2.27272727e+00],\n",
              "       [6.58484848e+01],\n",
              "       [7.67676768e-01],\n",
              "       [2.30303030e+00],\n",
              "       [7.67676768e-01],\n",
              "       [4.29898990e+00],\n",
              "       [1.53535354e+00],\n",
              "       [3.07070707e+00],\n",
              "       [2.30303030e+00],\n",
              "       [6.63333333e+01],\n",
              "       [7.77777778e-01],\n",
              "       [2.33333333e+00],\n",
              "       [7.77777778e-01],\n",
              "       [4.35555556e+00],\n",
              "       [1.55555556e+00],\n",
              "       [3.11111111e+00],\n",
              "       [2.33333333e+00],\n",
              "       [6.68181818e+01],\n",
              "       [7.87878788e-01],\n",
              "       [2.36363636e+00],\n",
              "       [7.87878788e-01],\n",
              "       [4.41212121e+00],\n",
              "       [1.57575758e+00],\n",
              "       [3.15151515e+00],\n",
              "       [2.36363636e+00],\n",
              "       [6.73030303e+01],\n",
              "       [7.97979798e-01],\n",
              "       [2.39393939e+00],\n",
              "       [7.97979798e-01],\n",
              "       [4.46868687e+00],\n",
              "       [1.59595960e+00],\n",
              "       [3.19191919e+00],\n",
              "       [2.39393939e+00],\n",
              "       [6.77878788e+01],\n",
              "       [8.08080808e-01],\n",
              "       [2.42424242e+00],\n",
              "       [8.08080808e-01],\n",
              "       [4.52525253e+00],\n",
              "       [1.61616162e+00],\n",
              "       [3.23232323e+00],\n",
              "       [2.42424242e+00],\n",
              "       [6.82727273e+01],\n",
              "       [8.18181818e-01],\n",
              "       [2.45454545e+00],\n",
              "       [8.18181818e-01],\n",
              "       [4.58181818e+00],\n",
              "       [1.63636364e+00],\n",
              "       [3.27272727e+00],\n",
              "       [2.45454545e+00],\n",
              "       [6.87575758e+01],\n",
              "       [8.28282828e-01],\n",
              "       [2.48484848e+00],\n",
              "       [8.28282828e-01],\n",
              "       [4.63838384e+00],\n",
              "       [1.65656566e+00],\n",
              "       [3.31313131e+00],\n",
              "       [2.48484848e+00],\n",
              "       [6.92424242e+01],\n",
              "       [8.38383838e-01],\n",
              "       [2.51515152e+00],\n",
              "       [8.38383838e-01],\n",
              "       [4.69494949e+00],\n",
              "       [1.67676768e+00],\n",
              "       [3.35353535e+00],\n",
              "       [2.51515152e+00],\n",
              "       [6.97272727e+01],\n",
              "       [8.48484848e-01],\n",
              "       [2.54545455e+00],\n",
              "       [8.48484848e-01],\n",
              "       [4.75151515e+00],\n",
              "       [1.69696970e+00],\n",
              "       [3.39393939e+00],\n",
              "       [2.54545455e+00],\n",
              "       [7.02121212e+01],\n",
              "       [8.58585859e-01],\n",
              "       [2.57575758e+00],\n",
              "       [8.58585859e-01],\n",
              "       [4.80808081e+00],\n",
              "       [1.71717172e+00],\n",
              "       [3.43434343e+00],\n",
              "       [2.57575758e+00],\n",
              "       [7.06969697e+01],\n",
              "       [8.68686869e-01],\n",
              "       [2.60606061e+00],\n",
              "       [8.68686869e-01],\n",
              "       [4.86464646e+00],\n",
              "       [1.73737374e+00],\n",
              "       [3.47474747e+00],\n",
              "       [2.60606061e+00],\n",
              "       [7.11818182e+01],\n",
              "       [8.78787879e-01],\n",
              "       [2.63636364e+00],\n",
              "       [8.78787879e-01],\n",
              "       [4.92121212e+00],\n",
              "       [1.75757576e+00],\n",
              "       [3.51515152e+00],\n",
              "       [2.63636364e+00],\n",
              "       [7.16666667e+01],\n",
              "       [8.88888889e-01],\n",
              "       [2.66666667e+00],\n",
              "       [8.88888889e-01],\n",
              "       [4.97777778e+00],\n",
              "       [1.77777778e+00],\n",
              "       [3.55555556e+00],\n",
              "       [2.66666667e+00],\n",
              "       [7.21515152e+01],\n",
              "       [8.98989899e-01],\n",
              "       [2.69696970e+00],\n",
              "       [8.98989899e-01],\n",
              "       [5.03434343e+00],\n",
              "       [1.79797980e+00],\n",
              "       [3.59595960e+00],\n",
              "       [2.69696970e+00],\n",
              "       [7.26363636e+01],\n",
              "       [9.09090909e-01],\n",
              "       [2.72727273e+00],\n",
              "       [9.09090909e-01],\n",
              "       [5.09090909e+00],\n",
              "       [1.81818182e+00],\n",
              "       [3.63636364e+00],\n",
              "       [2.72727273e+00],\n",
              "       [7.31212121e+01],\n",
              "       [9.19191919e-01],\n",
              "       [2.75757576e+00],\n",
              "       [9.19191919e-01],\n",
              "       [5.14747475e+00],\n",
              "       [1.83838384e+00],\n",
              "       [3.67676768e+00],\n",
              "       [2.75757576e+00],\n",
              "       [7.36060606e+01],\n",
              "       [9.29292929e-01],\n",
              "       [2.78787879e+00],\n",
              "       [9.29292929e-01],\n",
              "       [5.20404040e+00],\n",
              "       [1.85858586e+00],\n",
              "       [3.71717172e+00],\n",
              "       [2.78787879e+00],\n",
              "       [7.40909091e+01],\n",
              "       [9.39393939e-01],\n",
              "       [2.81818182e+00],\n",
              "       [9.39393939e-01],\n",
              "       [5.26060606e+00],\n",
              "       [1.87878788e+00],\n",
              "       [3.75757576e+00],\n",
              "       [2.81818182e+00],\n",
              "       [7.45757576e+01],\n",
              "       [9.49494949e-01],\n",
              "       [2.84848485e+00],\n",
              "       [9.49494949e-01],\n",
              "       [5.31717172e+00],\n",
              "       [1.89898990e+00],\n",
              "       [3.79797980e+00],\n",
              "       [2.84848485e+00],\n",
              "       [7.50606061e+01],\n",
              "       [9.59595960e-01],\n",
              "       [2.87878788e+00],\n",
              "       [9.59595960e-01],\n",
              "       [5.37373737e+00],\n",
              "       [1.91919192e+00],\n",
              "       [3.83838384e+00],\n",
              "       [2.87878788e+00],\n",
              "       [7.55454545e+01],\n",
              "       [9.69696970e-01],\n",
              "       [2.90909091e+00],\n",
              "       [9.69696970e-01],\n",
              "       [5.43030303e+00],\n",
              "       [1.93939394e+00],\n",
              "       [3.87878788e+00],\n",
              "       [2.90909091e+00],\n",
              "       [7.60303030e+01],\n",
              "       [9.79797980e-01],\n",
              "       [2.93939394e+00],\n",
              "       [9.79797980e-01],\n",
              "       [5.48686869e+00],\n",
              "       [1.95959596e+00],\n",
              "       [3.91919192e+00],\n",
              "       [2.93939394e+00],\n",
              "       [7.65151515e+01],\n",
              "       [9.89898990e-01],\n",
              "       [2.96969697e+00],\n",
              "       [9.89898990e-01],\n",
              "       [5.54343434e+00],\n",
              "       [1.97979798e+00],\n",
              "       [3.95959596e+00],\n",
              "       [2.96969697e+00],\n",
              "       [7.70000000e+01],\n",
              "       [1.00000000e+00],\n",
              "       [3.00000000e+00],\n",
              "       [1.00000000e+00],\n",
              "       [5.60000000e+00],\n",
              "       [2.00000000e+00],\n",
              "       [4.00000000e+00],\n",
              "       [3.00000000e+00]])"
            ]
          },
          "metadata": {},
          "execution_count": 573
        }
      ]
    },
    {
      "cell_type": "code",
      "source": [
        "poly = make_pipeline(PolynomialFeatures(3), LinearRegression())\n",
        "poly.fit(X_train, y_train)"
      ],
      "metadata": {
        "colab": {
          "base_uri": "https://localhost:8080/"
        },
        "id": "WDZAColfilS7",
        "outputId": "104235bf-f309-44e1-adcc-e573c829cd41"
      },
      "execution_count": 574,
      "outputs": [
        {
          "output_type": "execute_result",
          "data": {
            "text/plain": [
              "Pipeline(steps=[('polynomialfeatures', PolynomialFeatures(degree=3)),\n",
              "                ('linearregression', LinearRegression())])"
            ]
          },
          "metadata": {},
          "execution_count": 574
        }
      ]
    },
    {
      "cell_type": "code",
      "source": [
        "linear_regression = LinearRegression()\n",
        "linear_regression.fit(X_train, y_train)"
      ],
      "metadata": {
        "colab": {
          "base_uri": "https://localhost:8080/"
        },
        "id": "EtyzllhaixzJ",
        "outputId": "50f5dd42-3a9a-43f8-822f-89493a90c24c"
      },
      "execution_count": 575,
      "outputs": [
        {
          "output_type": "execute_result",
          "data": {
            "text/plain": [
              "LinearRegression()"
            ]
          },
          "metadata": {},
          "execution_count": 575
        }
      ]
    },
    {
      "cell_type": "code",
      "source": [
        "Y_pred_poly = poly.predict(X_test)\n",
        "Y_pred_linear = linear_regression.predict(X_test)"
      ],
      "metadata": {
        "id": "Li5S-a5tjLsc"
      },
      "execution_count": 576,
      "outputs": []
    },
    {
      "cell_type": "code",
      "source": [
        "print(Y_pred_poly)\n",
        "print(Y_pred_linear)"
      ],
      "metadata": {
        "colab": {
          "base_uri": "https://localhost:8080/"
        },
        "id": "dS9I1SVOjSZX",
        "outputId": "4e627244-d5f9-45d2-8d5b-eb2e0f345f91"
      },
      "execution_count": 577,
      "outputs": [
        {
          "output_type": "stream",
          "name": "stdout",
          "text": [
            "[ 1.29617539  1.61136118  0.75738085 -0.33936491  0.74060273  1.11422229\n",
            "  0.9668778  13.86821619  4.09888861  4.77571861  3.27229701  6.41876225\n",
            "  0.94050385 -0.06982956  1.21903668  0.92937511  1.26313349 -0.45556296\n",
            "  0.30464588  3.50156613  0.95904242 -0.10728011  0.69168307  1.93216103\n",
            "  1.48566636 -0.07263136  1.21462178 -1.71421016  0.38162922  0.81264343\n",
            "  0.4083122   0.25931705 -0.07582191  1.32940397 12.79215681  0.21640486\n",
            "  0.03028053  0.94101719  0.8035841   0.94154659  1.12927555  2.59695217\n",
            "  0.93537608  0.30038809  0.64154856  5.28626013 -1.27504586  0.94413957\n",
            "  8.26270606  0.12393314 -0.45726968  3.61589419  1.97074483  0.97684846\n",
            "  0.61502508 10.08987289  0.97893894  0.92129563  0.76093263  0.03077884\n",
            " -0.75168419  0.98972985  0.58260244  0.16246785  1.27323139 -0.11661196\n",
            " -0.35878791  1.68930367  1.24322288  0.747359   -0.31004719  0.96482864\n",
            " -1.16982134  0.93270871  0.06863208  0.935924    0.32133557 -1.53225008\n",
            " -0.98068082  3.83973811  1.00357632  3.9280079   1.24829456 -0.59819073\n",
            "  0.11981073 12.16228774 -2.06594252  2.62410241  1.04532872 -0.68115126\n",
            "  0.80085701]\n",
            "[ 0.36691578  0.73958881  0.61293591 -0.02769693  0.91494186  0.86427591\n",
            "  0.53634022 -0.25385571 -0.06453892  0.50584198  0.73894987  0.42645904\n",
            "  0.82635792  0.14398833  0.9845227   0.95043723  0.9644093   0.21701184\n",
            " -0.15622474  0.0618949   0.7163089   0.01636035  0.53782282  0.63795825\n",
            "  0.79801588  0.57674712  1.04249866  0.51835726 -0.07106425  0.87357441\n",
            "  0.050823    0.10602193 -0.17212946  0.25696597  0.7995072   0.20806543\n",
            "  0.70358787  0.64305741  0.62240213  0.73549896  0.33567759  0.61737701\n",
            "  0.82557231  0.73183801  0.67974305 -0.37883008  0.66900021  0.83551276\n",
            "  0.25656233  0.03230488  0.05421369 -0.22453893  0.88013638  0.92587636\n",
            "  0.25545067 -0.30104763  0.08517722  0.94447296 -0.04015503 -0.21591557\n",
            "  0.31776079  0.84545321  0.31105751  0.65362905  0.78145946 -0.02179874\n",
            "  0.71491428  0.61369109  0.78504284  0.93055633  0.83779111  0.7384811\n",
            "  0.4563516   0.73251683  0.35534918  0.83253062  0.67884071  0.71681061\n",
            "  0.10731648 -0.08932348  0.34959423  0.29924851  0.72402931  0.54733949\n",
            "  0.57376498  0.1333892  -0.42275488  0.78980667  0.53953974  0.40412363\n",
            "  0.88128889]\n"
          ]
        }
      ]
    },
    {
      "cell_type": "code",
      "source": [
        "print('MAE: ', metrics.mean_absolute_error(y_test,Y_pred_poly) )\n",
        "print('MSE: ', metrics.mean_squared_error(y_test,Y_pred_poly) )\n",
        "print('RMSE: ', np.sqrt(metrics.mean_absolute_error(y_test,Y_pred_poly)))"
      ],
      "metadata": {
        "colab": {
          "base_uri": "https://localhost:8080/"
        },
        "id": "w3LZnhbqj71J",
        "outputId": "1193e711-6da9-42d6-f243-9f304283156f"
      },
      "execution_count": 578,
      "outputs": [
        {
          "output_type": "stream",
          "name": "stdout",
          "text": [
            "MAE:  1.4602795092409455\n",
            "MSE:  9.235528264407584\n",
            "RMSE:  1.208420253571143\n"
          ]
        }
      ]
    },
    {
      "cell_type": "code",
      "source": [
        "y_test.shape"
      ],
      "metadata": {
        "colab": {
          "base_uri": "https://localhost:8080/"
        },
        "id": "mZj3w9NnrjXS",
        "outputId": "9f9148af-3e8b-43cf-f0c5-c3b64be743fd"
      },
      "execution_count": 579,
      "outputs": [
        {
          "output_type": "execute_result",
          "data": {
            "text/plain": [
              "(91,)"
            ]
          },
          "metadata": {},
          "execution_count": 579
        }
      ]
    },
    {
      "cell_type": "code",
      "source": [
        "Y_pred_linear.shape"
      ],
      "metadata": {
        "colab": {
          "base_uri": "https://localhost:8080/"
        },
        "id": "lJpwlObXrnb1",
        "outputId": "58900362-52a9-4d47-9408-0e79e6320488"
      },
      "execution_count": 580,
      "outputs": [
        {
          "output_type": "execute_result",
          "data": {
            "text/plain": [
              "(91,)"
            ]
          },
          "metadata": {},
          "execution_count": 580
        }
      ]
    },
    {
      "cell_type": "code",
      "source": [
        "test1 = y_test.values.reshape(1,91)\n",
        "test1.flatten()"
      ],
      "metadata": {
        "colab": {
          "base_uri": "https://localhost:8080/"
        },
        "id": "TQKYm9-BrqwN",
        "outputId": "3ad41e51-81d6-45fc-e702-4ca2758f5eb3"
      },
      "execution_count": 581,
      "outputs": [
        {
          "output_type": "execute_result",
          "data": {
            "text/plain": [
              "array([0, 0, 1, 0, 1, 1, 1, 0, 0, 1, 1, 1, 1, 0, 1, 1, 1, 0, 0, 0, 1, 0,\n",
              "       0, 1, 1, 0, 0, 1, 0, 1, 1, 0, 0, 1, 1, 0, 1, 1, 1, 1, 1, 1, 1, 1,\n",
              "       1, 0, 0, 1, 0, 0, 0, 0, 1, 1, 0, 0, 0, 1, 0, 0, 0, 1, 0, 0, 1, 0,\n",
              "       1, 1, 1, 0, 1, 1, 0, 1, 0, 1, 0, 0, 0, 1, 1, 0, 1, 1, 1, 0, 0, 1,\n",
              "       1, 1, 1])"
            ]
          },
          "metadata": {},
          "execution_count": 581
        }
      ]
    },
    {
      "cell_type": "code",
      "source": [
        "pPoly=Y_pred_linear.reshape(1,91)\n",
        "pPoly.flatten()"
      ],
      "metadata": {
        "colab": {
          "base_uri": "https://localhost:8080/"
        },
        "id": "aZbu2Q_jrzif",
        "outputId": "e5b38c8c-e842-4494-a4f7-6bdd476d12e7"
      },
      "execution_count": 582,
      "outputs": [
        {
          "output_type": "execute_result",
          "data": {
            "text/plain": [
              "array([ 0.36691578,  0.73958881,  0.61293591, -0.02769693,  0.91494186,\n",
              "        0.86427591,  0.53634022, -0.25385571, -0.06453892,  0.50584198,\n",
              "        0.73894987,  0.42645904,  0.82635792,  0.14398833,  0.9845227 ,\n",
              "        0.95043723,  0.9644093 ,  0.21701184, -0.15622474,  0.0618949 ,\n",
              "        0.7163089 ,  0.01636035,  0.53782282,  0.63795825,  0.79801588,\n",
              "        0.57674712,  1.04249866,  0.51835726, -0.07106425,  0.87357441,\n",
              "        0.050823  ,  0.10602193, -0.17212946,  0.25696597,  0.7995072 ,\n",
              "        0.20806543,  0.70358787,  0.64305741,  0.62240213,  0.73549896,\n",
              "        0.33567759,  0.61737701,  0.82557231,  0.73183801,  0.67974305,\n",
              "       -0.37883008,  0.66900021,  0.83551276,  0.25656233,  0.03230488,\n",
              "        0.05421369, -0.22453893,  0.88013638,  0.92587636,  0.25545067,\n",
              "       -0.30104763,  0.08517722,  0.94447296, -0.04015503, -0.21591557,\n",
              "        0.31776079,  0.84545321,  0.31105751,  0.65362905,  0.78145946,\n",
              "       -0.02179874,  0.71491428,  0.61369109,  0.78504284,  0.93055633,\n",
              "        0.83779111,  0.7384811 ,  0.4563516 ,  0.73251683,  0.35534918,\n",
              "        0.83253062,  0.67884071,  0.71681061,  0.10731648, -0.08932348,\n",
              "        0.34959423,  0.29924851,  0.72402931,  0.54733949,  0.57376498,\n",
              "        0.1333892 , -0.42275488,  0.78980667,  0.53953974,  0.40412363,\n",
              "        0.88128889])"
            ]
          },
          "metadata": {},
          "execution_count": 582
        }
      ]
    },
    {
      "cell_type": "code",
      "source": [
        "compare_dataset = pd.DataFrame({'Actual':test1.flatten(),  'Predicted_Linear': pPoly.flatten()})\n",
        "compare_dataset"
      ],
      "metadata": {
        "colab": {
          "base_uri": "https://localhost:8080/",
          "height": 424
        },
        "id": "ZHYw-3orrVz8",
        "outputId": "0d17858f-40be-4994-becb-8e89dbc9f32d"
      },
      "execution_count": 583,
      "outputs": [
        {
          "output_type": "execute_result",
          "data": {
            "text/plain": [
              "    Actual  Predicted_Linear\n",
              "0        0          0.366916\n",
              "1        0          0.739589\n",
              "2        1          0.612936\n",
              "3        0         -0.027697\n",
              "4        1          0.914942\n",
              "..     ...               ...\n",
              "86       0         -0.422755\n",
              "87       1          0.789807\n",
              "88       1          0.539540\n",
              "89       1          0.404124\n",
              "90       1          0.881289\n",
              "\n",
              "[91 rows x 2 columns]"
            ],
            "text/html": [
              "\n",
              "  <div id=\"df-4e74d772-f0b3-4725-ab8d-362f40ca2dae\">\n",
              "    <div class=\"colab-df-container\">\n",
              "      <div>\n",
              "<style scoped>\n",
              "    .dataframe tbody tr th:only-of-type {\n",
              "        vertical-align: middle;\n",
              "    }\n",
              "\n",
              "    .dataframe tbody tr th {\n",
              "        vertical-align: top;\n",
              "    }\n",
              "\n",
              "    .dataframe thead th {\n",
              "        text-align: right;\n",
              "    }\n",
              "</style>\n",
              "<table border=\"1\" class=\"dataframe\">\n",
              "  <thead>\n",
              "    <tr style=\"text-align: right;\">\n",
              "      <th></th>\n",
              "      <th>Actual</th>\n",
              "      <th>Predicted_Linear</th>\n",
              "    </tr>\n",
              "  </thead>\n",
              "  <tbody>\n",
              "    <tr>\n",
              "      <th>0</th>\n",
              "      <td>0</td>\n",
              "      <td>0.366916</td>\n",
              "    </tr>\n",
              "    <tr>\n",
              "      <th>1</th>\n",
              "      <td>0</td>\n",
              "      <td>0.739589</td>\n",
              "    </tr>\n",
              "    <tr>\n",
              "      <th>2</th>\n",
              "      <td>1</td>\n",
              "      <td>0.612936</td>\n",
              "    </tr>\n",
              "    <tr>\n",
              "      <th>3</th>\n",
              "      <td>0</td>\n",
              "      <td>-0.027697</td>\n",
              "    </tr>\n",
              "    <tr>\n",
              "      <th>4</th>\n",
              "      <td>1</td>\n",
              "      <td>0.914942</td>\n",
              "    </tr>\n",
              "    <tr>\n",
              "      <th>...</th>\n",
              "      <td>...</td>\n",
              "      <td>...</td>\n",
              "    </tr>\n",
              "    <tr>\n",
              "      <th>86</th>\n",
              "      <td>0</td>\n",
              "      <td>-0.422755</td>\n",
              "    </tr>\n",
              "    <tr>\n",
              "      <th>87</th>\n",
              "      <td>1</td>\n",
              "      <td>0.789807</td>\n",
              "    </tr>\n",
              "    <tr>\n",
              "      <th>88</th>\n",
              "      <td>1</td>\n",
              "      <td>0.539540</td>\n",
              "    </tr>\n",
              "    <tr>\n",
              "      <th>89</th>\n",
              "      <td>1</td>\n",
              "      <td>0.404124</td>\n",
              "    </tr>\n",
              "    <tr>\n",
              "      <th>90</th>\n",
              "      <td>1</td>\n",
              "      <td>0.881289</td>\n",
              "    </tr>\n",
              "  </tbody>\n",
              "</table>\n",
              "<p>91 rows × 2 columns</p>\n",
              "</div>\n",
              "      <button class=\"colab-df-convert\" onclick=\"convertToInteractive('df-4e74d772-f0b3-4725-ab8d-362f40ca2dae')\"\n",
              "              title=\"Convert this dataframe to an interactive table.\"\n",
              "              style=\"display:none;\">\n",
              "        \n",
              "  <svg xmlns=\"http://www.w3.org/2000/svg\" height=\"24px\"viewBox=\"0 0 24 24\"\n",
              "       width=\"24px\">\n",
              "    <path d=\"M0 0h24v24H0V0z\" fill=\"none\"/>\n",
              "    <path d=\"M18.56 5.44l.94 2.06.94-2.06 2.06-.94-2.06-.94-.94-2.06-.94 2.06-2.06.94zm-11 1L8.5 8.5l.94-2.06 2.06-.94-2.06-.94L8.5 2.5l-.94 2.06-2.06.94zm10 10l.94 2.06.94-2.06 2.06-.94-2.06-.94-.94-2.06-.94 2.06-2.06.94z\"/><path d=\"M17.41 7.96l-1.37-1.37c-.4-.4-.92-.59-1.43-.59-.52 0-1.04.2-1.43.59L10.3 9.45l-7.72 7.72c-.78.78-.78 2.05 0 2.83L4 21.41c.39.39.9.59 1.41.59.51 0 1.02-.2 1.41-.59l7.78-7.78 2.81-2.81c.8-.78.8-2.07 0-2.86zM5.41 20L4 18.59l7.72-7.72 1.47 1.35L5.41 20z\"/>\n",
              "  </svg>\n",
              "      </button>\n",
              "      \n",
              "  <style>\n",
              "    .colab-df-container {\n",
              "      display:flex;\n",
              "      flex-wrap:wrap;\n",
              "      gap: 12px;\n",
              "    }\n",
              "\n",
              "    .colab-df-convert {\n",
              "      background-color: #E8F0FE;\n",
              "      border: none;\n",
              "      border-radius: 50%;\n",
              "      cursor: pointer;\n",
              "      display: none;\n",
              "      fill: #1967D2;\n",
              "      height: 32px;\n",
              "      padding: 0 0 0 0;\n",
              "      width: 32px;\n",
              "    }\n",
              "\n",
              "    .colab-df-convert:hover {\n",
              "      background-color: #E2EBFA;\n",
              "      box-shadow: 0px 1px 2px rgba(60, 64, 67, 0.3), 0px 1px 3px 1px rgba(60, 64, 67, 0.15);\n",
              "      fill: #174EA6;\n",
              "    }\n",
              "\n",
              "    [theme=dark] .colab-df-convert {\n",
              "      background-color: #3B4455;\n",
              "      fill: #D2E3FC;\n",
              "    }\n",
              "\n",
              "    [theme=dark] .colab-df-convert:hover {\n",
              "      background-color: #434B5C;\n",
              "      box-shadow: 0px 1px 3px 1px rgba(0, 0, 0, 0.15);\n",
              "      filter: drop-shadow(0px 1px 2px rgba(0, 0, 0, 0.3));\n",
              "      fill: #FFFFFF;\n",
              "    }\n",
              "  </style>\n",
              "\n",
              "      <script>\n",
              "        const buttonEl =\n",
              "          document.querySelector('#df-4e74d772-f0b3-4725-ab8d-362f40ca2dae button.colab-df-convert');\n",
              "        buttonEl.style.display =\n",
              "          google.colab.kernel.accessAllowed ? 'block' : 'none';\n",
              "\n",
              "        async function convertToInteractive(key) {\n",
              "          const element = document.querySelector('#df-4e74d772-f0b3-4725-ab8d-362f40ca2dae');\n",
              "          const dataTable =\n",
              "            await google.colab.kernel.invokeFunction('convertToInteractive',\n",
              "                                                     [key], {});\n",
              "          if (!dataTable) return;\n",
              "\n",
              "          const docLinkHtml = 'Like what you see? Visit the ' +\n",
              "            '<a target=\"_blank\" href=https://colab.research.google.com/notebooks/data_table.ipynb>data table notebook</a>'\n",
              "            + ' to learn more about interactive tables.';\n",
              "          element.innerHTML = '';\n",
              "          dataTable['output_type'] = 'display_data';\n",
              "          await google.colab.output.renderOutput(dataTable, element);\n",
              "          const docLink = document.createElement('div');\n",
              "          docLink.innerHTML = docLinkHtml;\n",
              "          element.appendChild(docLink);\n",
              "        }\n",
              "      </script>\n",
              "    </div>\n",
              "  </div>\n",
              "  "
            ]
          },
          "metadata": {},
          "execution_count": 583
        }
      ]
    },
    {
      "cell_type": "markdown",
      "source": [
        "RIDGE REGRESSION"
      ],
      "metadata": {
        "id": "bqQzIcKHk3Fa"
      }
    },
    {
      "cell_type": "code",
      "source": [
        "from sklearn.linear_model import Ridge\n",
        "ridge = Ridge(alpha = 0.5)\n",
        "ridge.fit(X_train, y_train)"
      ],
      "metadata": {
        "colab": {
          "base_uri": "https://localhost:8080/"
        },
        "id": "uFHbXFgbk2ju",
        "outputId": "82a47335-7516-4cf9-a56b-9d543f7c7088"
      },
      "execution_count": 584,
      "outputs": [
        {
          "output_type": "execute_result",
          "data": {
            "text/plain": [
              "Ridge(alpha=0.5)"
            ]
          },
          "metadata": {},
          "execution_count": 584
        }
      ]
    },
    {
      "cell_type": "code",
      "source": [
        "print(ridge.intercept_)\n",
        "print(ridge.coef_)"
      ],
      "metadata": {
        "colab": {
          "base_uri": "https://localhost:8080/"
        },
        "id": "6o-SzAm2k-pY",
        "outputId": "d03ddef5-c3fe-4ed8-82b4-5a72926dfb40"
      },
      "execution_count": 585,
      "outputs": [
        {
          "output_type": "stream",
          "name": "stdout",
          "text": [
            "0.9901597081037878\n",
            "[-0.00101571 -0.14204502  0.10723557 -0.20891186 -0.04647187  0.12910124\n",
            " -0.1512813  -0.16295908]\n"
          ]
        }
      ]
    },
    {
      "cell_type": "code",
      "source": [
        "Y_pred_ridge = ridge.predict(X_test)"
      ],
      "metadata": {
        "id": "7FJ4EjM7lCMA"
      },
      "execution_count": 586,
      "outputs": []
    },
    {
      "cell_type": "code",
      "source": [
        "y_test.shape"
      ],
      "metadata": {
        "colab": {
          "base_uri": "https://localhost:8080/"
        },
        "id": "PRStsIE_l648",
        "outputId": "97adc786-dfdb-4cec-8034-d1c4535bea4e"
      },
      "execution_count": 587,
      "outputs": [
        {
          "output_type": "execute_result",
          "data": {
            "text/plain": [
              "(91,)"
            ]
          },
          "metadata": {},
          "execution_count": 587
        }
      ]
    },
    {
      "cell_type": "code",
      "source": [
        "Y_pred_ridge.shape"
      ],
      "metadata": {
        "colab": {
          "base_uri": "https://localhost:8080/"
        },
        "id": "31h0Hr3RmHPC",
        "outputId": "7adbbe7c-6613-43ae-dd8f-511ed4cee847"
      },
      "execution_count": 588,
      "outputs": [
        {
          "output_type": "execute_result",
          "data": {
            "text/plain": [
              "(91,)"
            ]
          },
          "metadata": {},
          "execution_count": 588
        }
      ]
    },
    {
      "cell_type": "code",
      "source": [
        "test = y_test.values.reshape(1,91)\n",
        "test.flatten()"
      ],
      "metadata": {
        "colab": {
          "base_uri": "https://localhost:8080/"
        },
        "id": "kF5gipWLmrEo",
        "outputId": "b3a35066-9afb-44cc-98cc-554f746c08f5"
      },
      "execution_count": 589,
      "outputs": [
        {
          "output_type": "execute_result",
          "data": {
            "text/plain": [
              "array([0, 0, 1, 0, 1, 1, 1, 0, 0, 1, 1, 1, 1, 0, 1, 1, 1, 0, 0, 0, 1, 0,\n",
              "       0, 1, 1, 0, 0, 1, 0, 1, 1, 0, 0, 1, 1, 0, 1, 1, 1, 1, 1, 1, 1, 1,\n",
              "       1, 0, 0, 1, 0, 0, 0, 0, 1, 1, 0, 0, 0, 1, 0, 0, 0, 1, 0, 0, 1, 0,\n",
              "       1, 1, 1, 0, 1, 1, 0, 1, 0, 1, 0, 0, 0, 1, 1, 0, 1, 1, 1, 0, 0, 1,\n",
              "       1, 1, 1])"
            ]
          },
          "metadata": {},
          "execution_count": 589
        }
      ]
    },
    {
      "cell_type": "code",
      "source": [
        "predRidge=Y_pred_ridge.reshape(1,91)\n",
        "predRidge.flatten()"
      ],
      "metadata": {
        "colab": {
          "base_uri": "https://localhost:8080/"
        },
        "id": "50Oyli5LoL8F",
        "outputId": "7ef84082-2cc1-43b0-d837-0f169e7eece3"
      },
      "execution_count": 590,
      "outputs": [
        {
          "output_type": "execute_result",
          "data": {
            "text/plain": [
              "array([ 0.36828499,  0.74082402,  0.61343982, -0.02626717,  0.91351832,\n",
              "        0.86261957,  0.53770818, -0.25295934, -0.06373512,  0.507302  ,\n",
              "        0.73777252,  0.4258353 ,  0.82552318,  0.1458546 ,  0.98295685,\n",
              "        0.95017882,  0.96261508,  0.21714832, -0.15350789,  0.06184744,\n",
              "        0.71715672,  0.01909073,  0.53677319,  0.63641271,  0.79789975,\n",
              "        0.57681144,  1.04217872,  0.51968583, -0.06987266,  0.87165842,\n",
              "        0.05384559,  0.10699178, -0.16975928,  0.25726325,  0.79808441,\n",
              "        0.20800692,  0.70243511,  0.64355338,  0.62454568,  0.73469197,\n",
              "        0.33692794,  0.61879571,  0.82466044,  0.73118098,  0.67998417,\n",
              "       -0.37402116,  0.66901518,  0.83481755,  0.25579488,  0.03510387,\n",
              "        0.0572113 , -0.2201241 ,  0.87984823,  0.92469115,  0.25596604,\n",
              "       -0.30366117,  0.08593807,  0.94408455, -0.04129668, -0.21419972,\n",
              "        0.31672622,  0.84497467,  0.31243927,  0.65174742,  0.77965358,\n",
              "       -0.02003787,  0.71326714,  0.61463799,  0.78328506,  0.92986458,\n",
              "        0.83675411,  0.7377391 ,  0.45639617,  0.73164483,  0.35374495,\n",
              "        0.83177042,  0.6784577 ,  0.71528157,  0.10842902, -0.08705097,\n",
              "        0.35114791,  0.29959289,  0.72279976,  0.5492895 ,  0.57376431,\n",
              "        0.13140608, -0.42140023,  0.78785465,  0.53788717,  0.40710356,\n",
              "        0.87950076])"
            ]
          },
          "metadata": {},
          "execution_count": 590
        }
      ]
    },
    {
      "cell_type": "code",
      "source": [
        "compare_dataset1 = pd.DataFrame({'Actual': test.flatten(), 'Predicted_Ridge': predRidge.flatten()})"
      ],
      "metadata": {
        "id": "WYsLKiBBojw-"
      },
      "execution_count": 591,
      "outputs": []
    },
    {
      "cell_type": "code",
      "source": [
        "print(compare_dataset1)"
      ],
      "metadata": {
        "colab": {
          "base_uri": "https://localhost:8080/"
        },
        "id": "ANGlx54Eo2q0",
        "outputId": "12f339cf-b66c-491e-c506-c5bc6222faa5"
      },
      "execution_count": 592,
      "outputs": [
        {
          "output_type": "stream",
          "name": "stdout",
          "text": [
            "    Actual  Predicted_Ridge\n",
            "0        0         0.368285\n",
            "1        0         0.740824\n",
            "2        1         0.613440\n",
            "3        0        -0.026267\n",
            "4        1         0.913518\n",
            "..     ...              ...\n",
            "86       0        -0.421400\n",
            "87       1         0.787855\n",
            "88       1         0.537887\n",
            "89       1         0.407104\n",
            "90       1         0.879501\n",
            "\n",
            "[91 rows x 2 columns]\n"
          ]
        }
      ]
    },
    {
      "cell_type": "code",
      "source": [
        "print('MAE: ', metrics.mean_absolute_error(y_test,Y_pred_ridge) )\n",
        "print('MSE: ', metrics.mean_squared_error(y_test,Y_pred_ridge) )\n",
        "print('RMSE: ', np.sqrt(metrics.mean_absolute_error(y_test,Y_pred_ridge)))"
      ],
      "metadata": {
        "colab": {
          "base_uri": "https://localhost:8080/"
        },
        "id": "HzL0eNwHpi9d",
        "outputId": "7111413c-ac4c-4398-bfa5-8527cc9f18ae"
      },
      "execution_count": 593,
      "outputs": [
        {
          "output_type": "stream",
          "name": "stdout",
          "text": [
            "MAE:  0.3145060773112241\n",
            "MSE:  0.1561404593786997\n",
            "RMSE:  0.5608084140873995\n"
          ]
        }
      ]
    }
  ]
}